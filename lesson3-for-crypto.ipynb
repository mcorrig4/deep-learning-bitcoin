{
 "cells": [
  {
   "cell_type": "markdown",
   "metadata": {},
   "source": [
    "# _*Time Series Forecasting with Neural Network*_\n",
    "## Bitcoin Price Prediction Model"
   ]
  },
  {
   "cell_type": "markdown",
   "metadata": {},
   "source": [
    "Setup the notebook."
   ]
  },
  {
   "cell_type": "code",
   "execution_count": 1,
   "metadata": {},
   "outputs": [],
   "source": [
    "%matplotlib inline\n",
    "%reload_ext autoreload\n",
    "%autoreload 2"
   ]
  },
  {
   "cell_type": "markdown",
   "metadata": {},
   "source": [
    "## Imports"
   ]
  },
  {
   "cell_type": "code",
   "execution_count": 2,
   "metadata": {},
   "outputs": [],
   "source": [
    "from IPython.display import HTML\n",
    "\n",
    "from fastai.structured import *\n",
    "from fastai.column_data import *\n",
    "\n",
    "np.set_printoptions(threshold=50, edgeitems=20)"
   ]
  },
  {
   "cell_type": "markdown",
   "metadata": {},
   "source": [
    "# The Data "
   ]
  },
  {
   "cell_type": "markdown",
   "metadata": {},
   "source": [
    "## Tuning Paramenters\n"
   ]
  },
  {
   "cell_type": "code",
   "execution_count": 36,
   "metadata": {},
   "outputs": [],
   "source": [
    "# movement_threshold = 1e-5 # this is equal to 10 cents when BTC = $10,000\n",
    "movement_threshold = 1e-4 # this is equal to $1.00 when BTC = $10,000"
   ]
  },
  {
   "cell_type": "markdown",
   "metadata": {},
   "source": [
    "## Import\n",
    "This is the output of the data generation notebook."
   ]
  },
  {
   "cell_type": "code",
   "execution_count": 3,
   "metadata": {},
   "outputs": [],
   "source": [
    "PATH='data/btc/'\n",
    "fname = 'btc-out.csv'"
   ]
  },
  {
   "cell_type": "code",
   "execution_count": 4,
   "metadata": {},
   "outputs": [
    {
     "data": {
      "text/html": [
       "<div>\n",
       "<style scoped>\n",
       "    .dataframe tbody tr th:only-of-type {\n",
       "        vertical-align: middle;\n",
       "    }\n",
       "\n",
       "    .dataframe tbody tr th {\n",
       "        vertical-align: top;\n",
       "    }\n",
       "\n",
       "    .dataframe thead th {\n",
       "        text-align: right;\n",
       "    }\n",
       "</style>\n",
       "<table border=\"1\" class=\"dataframe\">\n",
       "  <thead>\n",
       "    <tr style=\"text-align: right;\">\n",
       "      <th></th>\n",
       "      <th>DateTime_UTC</th>\n",
       "      <th>price_open</th>\n",
       "      <th>price_high</th>\n",
       "      <th>price_low</th>\n",
       "      <th>price_close</th>\n",
       "      <th>volume</th>\n",
       "      <th>close_price_returns</th>\n",
       "      <th>close_price_returns_bins</th>\n",
       "      <th>close_price_returns_labels</th>\n",
       "    </tr>\n",
       "  </thead>\n",
       "  <tbody>\n",
       "    <tr>\n",
       "      <th>0</th>\n",
       "      <td>2014-12-01 00:30:00</td>\n",
       "      <td>300.0</td>\n",
       "      <td>300.0</td>\n",
       "      <td>300.0</td>\n",
       "      <td>300.0</td>\n",
       "      <td>0.01</td>\n",
       "      <td>0.000000</td>\n",
       "      <td>(-0.00282, 0.0]</td>\n",
       "      <td>4</td>\n",
       "    </tr>\n",
       "    <tr>\n",
       "      <th>1</th>\n",
       "      <td>2014-12-01 00:35:00</td>\n",
       "      <td>300.0</td>\n",
       "      <td>300.0</td>\n",
       "      <td>300.0</td>\n",
       "      <td>300.0</td>\n",
       "      <td>0.00</td>\n",
       "      <td>0.000000</td>\n",
       "      <td>(-0.00282, 0.0]</td>\n",
       "      <td>4</td>\n",
       "    </tr>\n",
       "    <tr>\n",
       "      <th>2</th>\n",
       "      <td>2014-12-01 00:40:00</td>\n",
       "      <td>300.0</td>\n",
       "      <td>300.0</td>\n",
       "      <td>300.0</td>\n",
       "      <td>300.0</td>\n",
       "      <td>0.01</td>\n",
       "      <td>0.000000</td>\n",
       "      <td>(-0.00282, 0.0]</td>\n",
       "      <td>4</td>\n",
       "    </tr>\n",
       "    <tr>\n",
       "      <th>3</th>\n",
       "      <td>2014-12-01 00:45:00</td>\n",
       "      <td>370.0</td>\n",
       "      <td>370.0</td>\n",
       "      <td>370.0</td>\n",
       "      <td>370.0</td>\n",
       "      <td>0.00</td>\n",
       "      <td>23.333333</td>\n",
       "      <td>(0.181, 67.889]</td>\n",
       "      <td>9</td>\n",
       "    </tr>\n",
       "    <tr>\n",
       "      <th>4</th>\n",
       "      <td>2014-12-01 00:50:00</td>\n",
       "      <td>370.0</td>\n",
       "      <td>370.0</td>\n",
       "      <td>370.0</td>\n",
       "      <td>370.0</td>\n",
       "      <td>0.00</td>\n",
       "      <td>0.000000</td>\n",
       "      <td>(-0.00282, 0.0]</td>\n",
       "      <td>4</td>\n",
       "    </tr>\n",
       "  </tbody>\n",
       "</table>\n",
       "</div>"
      ],
      "text/plain": [
       "          DateTime_UTC  price_open  price_high  price_low  price_close  \\\n",
       "0  2014-12-01 00:30:00       300.0       300.0      300.0        300.0   \n",
       "1  2014-12-01 00:35:00       300.0       300.0      300.0        300.0   \n",
       "2  2014-12-01 00:40:00       300.0       300.0      300.0        300.0   \n",
       "3  2014-12-01 00:45:00       370.0       370.0      370.0        370.0   \n",
       "4  2014-12-01 00:50:00       370.0       370.0      370.0        370.0   \n",
       "\n",
       "   volume  close_price_returns close_price_returns_bins  \\\n",
       "0    0.01             0.000000          (-0.00282, 0.0]   \n",
       "1    0.00             0.000000          (-0.00282, 0.0]   \n",
       "2    0.01             0.000000          (-0.00282, 0.0]   \n",
       "3    0.00            23.333333          (0.181, 67.889]   \n",
       "4    0.00             0.000000          (-0.00282, 0.0]   \n",
       "\n",
       "   close_price_returns_labels  \n",
       "0                           4  \n",
       "1                           4  \n",
       "2                           4  \n",
       "3                           9  \n",
       "4                           4  "
      ]
     },
     "execution_count": 4,
     "metadata": {},
     "output_type": "execute_result"
    }
   ],
   "source": [
    "data = pd.read_csv(f'{PATH}{fname}', low_memory=False, sep = '\\t') \n",
    "data.head()"
   ]
  },
  {
   "cell_type": "markdown",
   "metadata": {},
   "source": [
    "The following returns summarized aggregate information to each table accross each field."
   ]
  },
  {
   "cell_type": "code",
   "execution_count": 5,
   "metadata": {
    "scrolled": false
   },
   "outputs": [
    {
     "data": {
      "text/html": [
       "<div>\n",
       "<style scoped>\n",
       "    .dataframe tbody tr th:only-of-type {\n",
       "        vertical-align: middle;\n",
       "    }\n",
       "\n",
       "    .dataframe tbody tr th {\n",
       "        vertical-align: top;\n",
       "    }\n",
       "\n",
       "    .dataframe thead th {\n",
       "        text-align: right;\n",
       "    }\n",
       "</style>\n",
       "<table border=\"1\" class=\"dataframe\">\n",
       "  <thead>\n",
       "    <tr style=\"text-align: right;\">\n",
       "      <th></th>\n",
       "      <th>DateTime_UTC</th>\n",
       "      <th>price_open</th>\n",
       "      <th>price_high</th>\n",
       "      <th>price_low</th>\n",
       "      <th>price_close</th>\n",
       "      <th>volume</th>\n",
       "      <th>close_price_returns</th>\n",
       "      <th>close_price_returns_bins</th>\n",
       "      <th>close_price_returns_labels</th>\n",
       "    </tr>\n",
       "  </thead>\n",
       "  <tbody>\n",
       "    <tr>\n",
       "      <th>count</th>\n",
       "      <td>NaN</td>\n",
       "      <td>343229</td>\n",
       "      <td>343229</td>\n",
       "      <td>343229</td>\n",
       "      <td>343229</td>\n",
       "      <td>343229</td>\n",
       "      <td>343229</td>\n",
       "      <td>NaN</td>\n",
       "      <td>343229</td>\n",
       "    </tr>\n",
       "    <tr>\n",
       "      <th>mean</th>\n",
       "      <td>NaN</td>\n",
       "      <td>2097.8</td>\n",
       "      <td>2101.75</td>\n",
       "      <td>2093.56</td>\n",
       "      <td>2097.92</td>\n",
       "      <td>35.6203</td>\n",
       "      <td>0.0024071</td>\n",
       "      <td>NaN</td>\n",
       "      <td>4.4679</td>\n",
       "    </tr>\n",
       "    <tr>\n",
       "      <th>std</th>\n",
       "      <td>NaN</td>\n",
       "      <td>3553.47</td>\n",
       "      <td>3561.74</td>\n",
       "      <td>3544.46</td>\n",
       "      <td>3553.45</td>\n",
       "      <td>68.316</td>\n",
       "      <td>0.534662</td>\n",
       "      <td>NaN</td>\n",
       "      <td>2.87211</td>\n",
       "    </tr>\n",
       "    <tr>\n",
       "      <th>min</th>\n",
       "      <td>NaN</td>\n",
       "      <td>0.06</td>\n",
       "      <td>150</td>\n",
       "      <td>0.06</td>\n",
       "      <td>111.89</td>\n",
       "      <td>0</td>\n",
       "      <td>-42.0151</td>\n",
       "      <td>NaN</td>\n",
       "      <td>0</td>\n",
       "    </tr>\n",
       "    <tr>\n",
       "      <th>25%</th>\n",
       "      <td>NaN</td>\n",
       "      <td>319.94</td>\n",
       "      <td>320.48</td>\n",
       "      <td>319.42</td>\n",
       "      <td>320.2</td>\n",
       "      <td>7.54449</td>\n",
       "      <td>-0.042785</td>\n",
       "      <td>NaN</td>\n",
       "      <td>2</td>\n",
       "    </tr>\n",
       "    <tr>\n",
       "      <th>50%</th>\n",
       "      <td>NaN</td>\n",
       "      <td>601.83</td>\n",
       "      <td>602.37</td>\n",
       "      <td>601.49</td>\n",
       "      <td>602.13</td>\n",
       "      <td>17.8366</td>\n",
       "      <td>0</td>\n",
       "      <td>NaN</td>\n",
       "      <td>4</td>\n",
       "    </tr>\n",
       "    <tr>\n",
       "      <th>75%</th>\n",
       "      <td>NaN</td>\n",
       "      <td>1762.94</td>\n",
       "      <td>1764.95</td>\n",
       "      <td>1760.35</td>\n",
       "      <td>1762.87</td>\n",
       "      <td>39.2645</td>\n",
       "      <td>0.0527797</td>\n",
       "      <td>NaN</td>\n",
       "      <td>7</td>\n",
       "    </tr>\n",
       "    <tr>\n",
       "      <th>max</th>\n",
       "      <td>NaN</td>\n",
       "      <td>19892</td>\n",
       "      <td>19892</td>\n",
       "      <td>19891</td>\n",
       "      <td>19892</td>\n",
       "      <td>2682.82</td>\n",
       "      <td>67.8887</td>\n",
       "      <td>NaN</td>\n",
       "      <td>9</td>\n",
       "    </tr>\n",
       "    <tr>\n",
       "      <th>counts</th>\n",
       "      <td>343229</td>\n",
       "      <td>343229</td>\n",
       "      <td>343229</td>\n",
       "      <td>343229</td>\n",
       "      <td>343229</td>\n",
       "      <td>343229</td>\n",
       "      <td>343229</td>\n",
       "      <td>343229</td>\n",
       "      <td>343229</td>\n",
       "    </tr>\n",
       "    <tr>\n",
       "      <th>uniques</th>\n",
       "      <td>343229</td>\n",
       "      <td>132410</td>\n",
       "      <td>120068</td>\n",
       "      <td>128032</td>\n",
       "      <td>131577</td>\n",
       "      <td>321649</td>\n",
       "      <td>291139</td>\n",
       "      <td>10</td>\n",
       "      <td>10</td>\n",
       "    </tr>\n",
       "    <tr>\n",
       "      <th>missing</th>\n",
       "      <td>0</td>\n",
       "      <td>0</td>\n",
       "      <td>0</td>\n",
       "      <td>0</td>\n",
       "      <td>0</td>\n",
       "      <td>0</td>\n",
       "      <td>0</td>\n",
       "      <td>0</td>\n",
       "      <td>0</td>\n",
       "    </tr>\n",
       "    <tr>\n",
       "      <th>missing_perc</th>\n",
       "      <td>0%</td>\n",
       "      <td>0%</td>\n",
       "      <td>0%</td>\n",
       "      <td>0%</td>\n",
       "      <td>0%</td>\n",
       "      <td>0%</td>\n",
       "      <td>0%</td>\n",
       "      <td>0%</td>\n",
       "      <td>0%</td>\n",
       "    </tr>\n",
       "    <tr>\n",
       "      <th>types</th>\n",
       "      <td>unique</td>\n",
       "      <td>numeric</td>\n",
       "      <td>numeric</td>\n",
       "      <td>numeric</td>\n",
       "      <td>numeric</td>\n",
       "      <td>numeric</td>\n",
       "      <td>numeric</td>\n",
       "      <td>categorical</td>\n",
       "      <td>numeric</td>\n",
       "    </tr>\n",
       "  </tbody>\n",
       "</table>\n",
       "</div>"
      ],
      "text/plain": [
       "             DateTime_UTC price_open price_high price_low price_close  \\\n",
       "count                 NaN     343229     343229    343229      343229   \n",
       "mean                  NaN     2097.8    2101.75   2093.56     2097.92   \n",
       "std                   NaN    3553.47    3561.74   3544.46     3553.45   \n",
       "min                   NaN       0.06        150      0.06      111.89   \n",
       "25%                   NaN     319.94     320.48    319.42       320.2   \n",
       "50%                   NaN     601.83     602.37    601.49      602.13   \n",
       "75%                   NaN    1762.94    1764.95   1760.35     1762.87   \n",
       "max                   NaN      19892      19892     19891       19892   \n",
       "counts             343229     343229     343229    343229      343229   \n",
       "uniques            343229     132410     120068    128032      131577   \n",
       "missing                 0          0          0         0           0   \n",
       "missing_perc           0%         0%         0%        0%          0%   \n",
       "types              unique    numeric    numeric   numeric     numeric   \n",
       "\n",
       "               volume close_price_returns close_price_returns_bins  \\\n",
       "count          343229              343229                      NaN   \n",
       "mean          35.6203           0.0024071                      NaN   \n",
       "std            68.316            0.534662                      NaN   \n",
       "min                 0            -42.0151                      NaN   \n",
       "25%           7.54449           -0.042785                      NaN   \n",
       "50%           17.8366                   0                      NaN   \n",
       "75%           39.2645           0.0527797                      NaN   \n",
       "max           2682.82             67.8887                      NaN   \n",
       "counts         343229              343229                   343229   \n",
       "uniques        321649              291139                       10   \n",
       "missing             0                   0                        0   \n",
       "missing_perc       0%                  0%                       0%   \n",
       "types         numeric             numeric              categorical   \n",
       "\n",
       "             close_price_returns_labels  \n",
       "count                            343229  \n",
       "mean                             4.4679  \n",
       "std                             2.87211  \n",
       "min                                   0  \n",
       "25%                                   2  \n",
       "50%                                   4  \n",
       "75%                                   7  \n",
       "max                                   9  \n",
       "counts                           343229  \n",
       "uniques                              10  \n",
       "missing                               0  \n",
       "missing_perc                         0%  \n",
       "types                           numeric  "
      ]
     },
     "metadata": {},
     "output_type": "display_data"
    }
   ],
   "source": [
    "display(DataFrameSummary(data).summary())"
   ]
  },
  {
   "cell_type": "markdown",
   "metadata": {},
   "source": [
    "## Data Cleaning / Feature Engineering"
   ]
  },
  {
   "cell_type": "markdown",
   "metadata": {},
   "source": [
    "As a structured data problem, we necessarily have to go through all the cleaning and feature engineering, even though we're using a neural network."
   ]
  },
  {
   "cell_type": "markdown",
   "metadata": {},
   "source": [
    "#### TODO\n",
    "Do the train test split later...."
   ]
  },
  {
   "cell_type": "code",
   "execution_count": 6,
   "metadata": {},
   "outputs": [],
   "source": [
    "# n = data.shape[0]\n",
    "# splits = [[90, 10],\n",
    "#           [80, 20],\n",
    "#           [60, 40],\n",
    "#           [50, 50]]\n",
    "# train = "
   ]
  },
  {
   "cell_type": "markdown",
   "metadata": {},
   "source": [
    "### Up/Down"
   ]
  },
  {
   "cell_type": "markdown",
   "metadata": {},
   "source": [
    "I will add a column for UP/DOWN/HOLD direction. I'll make this a boolean."
   ]
  },
  {
   "cell_type": "code",
   "execution_count": 37,
   "metadata": {},
   "outputs": [],
   "source": [
    "data['UP'] = data.close_price_returns > movement_threshold\n",
    "data['DOWN'] = data.close_price_returns < -movement_threshold\n",
    "data['HOLD'] = data.UP == data.DOWN"
   ]
  },
  {
   "cell_type": "code",
   "execution_count": 38,
   "metadata": {},
   "outputs": [
    {
     "data": {
      "text/html": [
       "<div>\n",
       "<style scoped>\n",
       "    .dataframe tbody tr th:only-of-type {\n",
       "        vertical-align: middle;\n",
       "    }\n",
       "\n",
       "    .dataframe tbody tr th {\n",
       "        vertical-align: top;\n",
       "    }\n",
       "\n",
       "    .dataframe thead th {\n",
       "        text-align: right;\n",
       "    }\n",
       "</style>\n",
       "<table border=\"1\" class=\"dataframe\">\n",
       "  <thead>\n",
       "    <tr style=\"text-align: right;\">\n",
       "      <th></th>\n",
       "      <th>DateTime_UTC</th>\n",
       "      <th>price_open</th>\n",
       "      <th>price_high</th>\n",
       "      <th>price_low</th>\n",
       "      <th>price_close</th>\n",
       "      <th>volume</th>\n",
       "      <th>close_price_returns</th>\n",
       "      <th>close_price_returns_bins</th>\n",
       "      <th>close_price_returns_labels</th>\n",
       "      <th>UP</th>\n",
       "      <th>...</th>\n",
       "      <th>DateTime_UTCDayofyear</th>\n",
       "      <th>DateTime_UTCIs_month_end</th>\n",
       "      <th>DateTime_UTCIs_month_start</th>\n",
       "      <th>DateTime_UTCIs_quarter_end</th>\n",
       "      <th>DateTime_UTCIs_quarter_start</th>\n",
       "      <th>DateTime_UTCIs_year_end</th>\n",
       "      <th>DateTime_UTCIs_year_start</th>\n",
       "      <th>DateTime_UTCElapsed</th>\n",
       "      <th>DOWN</th>\n",
       "      <th>HOLD</th>\n",
       "    </tr>\n",
       "  </thead>\n",
       "  <tbody>\n",
       "    <tr>\n",
       "      <th>0</th>\n",
       "      <td>2014-12-01 00:30:00</td>\n",
       "      <td>300.0</td>\n",
       "      <td>300.0</td>\n",
       "      <td>300.0</td>\n",
       "      <td>300.0</td>\n",
       "      <td>0.01</td>\n",
       "      <td>0.000000</td>\n",
       "      <td>(-0.00282, 0.0]</td>\n",
       "      <td>4</td>\n",
       "      <td>False</td>\n",
       "      <td>...</td>\n",
       "      <td>335</td>\n",
       "      <td>False</td>\n",
       "      <td>True</td>\n",
       "      <td>False</td>\n",
       "      <td>False</td>\n",
       "      <td>False</td>\n",
       "      <td>False</td>\n",
       "      <td>1417393800</td>\n",
       "      <td>False</td>\n",
       "      <td>True</td>\n",
       "    </tr>\n",
       "    <tr>\n",
       "      <th>1</th>\n",
       "      <td>2014-12-01 00:35:00</td>\n",
       "      <td>300.0</td>\n",
       "      <td>300.0</td>\n",
       "      <td>300.0</td>\n",
       "      <td>300.0</td>\n",
       "      <td>0.00</td>\n",
       "      <td>0.000000</td>\n",
       "      <td>(-0.00282, 0.0]</td>\n",
       "      <td>4</td>\n",
       "      <td>False</td>\n",
       "      <td>...</td>\n",
       "      <td>335</td>\n",
       "      <td>False</td>\n",
       "      <td>True</td>\n",
       "      <td>False</td>\n",
       "      <td>False</td>\n",
       "      <td>False</td>\n",
       "      <td>False</td>\n",
       "      <td>1417394100</td>\n",
       "      <td>False</td>\n",
       "      <td>True</td>\n",
       "    </tr>\n",
       "    <tr>\n",
       "      <th>2</th>\n",
       "      <td>2014-12-01 00:40:00</td>\n",
       "      <td>300.0</td>\n",
       "      <td>300.0</td>\n",
       "      <td>300.0</td>\n",
       "      <td>300.0</td>\n",
       "      <td>0.01</td>\n",
       "      <td>0.000000</td>\n",
       "      <td>(-0.00282, 0.0]</td>\n",
       "      <td>4</td>\n",
       "      <td>False</td>\n",
       "      <td>...</td>\n",
       "      <td>335</td>\n",
       "      <td>False</td>\n",
       "      <td>True</td>\n",
       "      <td>False</td>\n",
       "      <td>False</td>\n",
       "      <td>False</td>\n",
       "      <td>False</td>\n",
       "      <td>1417394400</td>\n",
       "      <td>False</td>\n",
       "      <td>True</td>\n",
       "    </tr>\n",
       "    <tr>\n",
       "      <th>3</th>\n",
       "      <td>2014-12-01 00:45:00</td>\n",
       "      <td>370.0</td>\n",
       "      <td>370.0</td>\n",
       "      <td>370.0</td>\n",
       "      <td>370.0</td>\n",
       "      <td>0.00</td>\n",
       "      <td>23.333333</td>\n",
       "      <td>(0.181, 67.889]</td>\n",
       "      <td>9</td>\n",
       "      <td>True</td>\n",
       "      <td>...</td>\n",
       "      <td>335</td>\n",
       "      <td>False</td>\n",
       "      <td>True</td>\n",
       "      <td>False</td>\n",
       "      <td>False</td>\n",
       "      <td>False</td>\n",
       "      <td>False</td>\n",
       "      <td>1417394700</td>\n",
       "      <td>False</td>\n",
       "      <td>False</td>\n",
       "    </tr>\n",
       "    <tr>\n",
       "      <th>4</th>\n",
       "      <td>2014-12-01 00:50:00</td>\n",
       "      <td>370.0</td>\n",
       "      <td>370.0</td>\n",
       "      <td>370.0</td>\n",
       "      <td>370.0</td>\n",
       "      <td>0.00</td>\n",
       "      <td>0.000000</td>\n",
       "      <td>(-0.00282, 0.0]</td>\n",
       "      <td>4</td>\n",
       "      <td>False</td>\n",
       "      <td>...</td>\n",
       "      <td>335</td>\n",
       "      <td>False</td>\n",
       "      <td>True</td>\n",
       "      <td>False</td>\n",
       "      <td>False</td>\n",
       "      <td>False</td>\n",
       "      <td>False</td>\n",
       "      <td>1417395000</td>\n",
       "      <td>False</td>\n",
       "      <td>True</td>\n",
       "    </tr>\n",
       "  </tbody>\n",
       "</table>\n",
       "<p>5 rows × 25 columns</p>\n",
       "</div>"
      ],
      "text/plain": [
       "         DateTime_UTC  price_open  price_high  price_low  price_close  volume  \\\n",
       "0 2014-12-01 00:30:00       300.0       300.0      300.0        300.0    0.01   \n",
       "1 2014-12-01 00:35:00       300.0       300.0      300.0        300.0    0.00   \n",
       "2 2014-12-01 00:40:00       300.0       300.0      300.0        300.0    0.01   \n",
       "3 2014-12-01 00:45:00       370.0       370.0      370.0        370.0    0.00   \n",
       "4 2014-12-01 00:50:00       370.0       370.0      370.0        370.0    0.00   \n",
       "\n",
       "   close_price_returns close_price_returns_bins  close_price_returns_labels  \\\n",
       "0             0.000000          (-0.00282, 0.0]                           4   \n",
       "1             0.000000          (-0.00282, 0.0]                           4   \n",
       "2             0.000000          (-0.00282, 0.0]                           4   \n",
       "3            23.333333          (0.181, 67.889]                           9   \n",
       "4             0.000000          (-0.00282, 0.0]                           4   \n",
       "\n",
       "      UP  ...    DateTime_UTCDayofyear  DateTime_UTCIs_month_end  \\\n",
       "0  False  ...                      335                     False   \n",
       "1  False  ...                      335                     False   \n",
       "2  False  ...                      335                     False   \n",
       "3   True  ...                      335                     False   \n",
       "4  False  ...                      335                     False   \n",
       "\n",
       "   DateTime_UTCIs_month_start  DateTime_UTCIs_quarter_end  \\\n",
       "0                        True                       False   \n",
       "1                        True                       False   \n",
       "2                        True                       False   \n",
       "3                        True                       False   \n",
       "4                        True                       False   \n",
       "\n",
       "   DateTime_UTCIs_quarter_start  DateTime_UTCIs_year_end  \\\n",
       "0                         False                    False   \n",
       "1                         False                    False   \n",
       "2                         False                    False   \n",
       "3                         False                    False   \n",
       "4                         False                    False   \n",
       "\n",
       "   DateTime_UTCIs_year_start  DateTime_UTCElapsed   DOWN   HOLD  \n",
       "0                      False           1417393800  False   True  \n",
       "1                      False           1417394100  False   True  \n",
       "2                      False           1417394400  False   True  \n",
       "3                      False           1417394700  False  False  \n",
       "4                      False           1417395000  False   True  \n",
       "\n",
       "[5 rows x 25 columns]"
      ]
     },
     "execution_count": 38,
     "metadata": {},
     "output_type": "execute_result"
    }
   ],
   "source": [
    "data.head(5)"
   ]
  },
  {
   "cell_type": "markdown",
   "metadata": {},
   "source": [
    "### Datetime"
   ]
  },
  {
   "cell_type": "markdown",
   "metadata": {},
   "source": [
    "The following extracts particular date fields from a complete datetime for the purpose of constructing categoricals.\n",
    "\n",
    "You should *always* consider this feature extraction step when working with date-time. Without expanding your date-time into these additional fields, you can't capture any trend/cyclical behavior as a function of time at any of these granularities. We'll add to every table with a date field."
   ]
  },
  {
   "cell_type": "markdown",
   "metadata": {},
   "source": [
    "`add_datepart` is from the structured fastai library"
   ]
  },
  {
   "cell_type": "code",
   "execution_count": 9,
   "metadata": {},
   "outputs": [],
   "source": [
    "add_datepart(data, \"DateTime_UTC\", drop=False)\n",
    "# ?add_datepart"
   ]
  },
  {
   "cell_type": "code",
   "execution_count": 10,
   "metadata": {},
   "outputs": [
    {
     "data": {
      "text/html": [
       "<div>\n",
       "<style scoped>\n",
       "    .dataframe tbody tr th:only-of-type {\n",
       "        vertical-align: middle;\n",
       "    }\n",
       "\n",
       "    .dataframe tbody tr th {\n",
       "        vertical-align: top;\n",
       "    }\n",
       "\n",
       "    .dataframe thead th {\n",
       "        text-align: right;\n",
       "    }\n",
       "</style>\n",
       "<table border=\"1\" class=\"dataframe\">\n",
       "  <thead>\n",
       "    <tr style=\"text-align: right;\">\n",
       "      <th></th>\n",
       "      <th>DateTime_UTC</th>\n",
       "      <th>price_open</th>\n",
       "      <th>price_high</th>\n",
       "      <th>price_low</th>\n",
       "      <th>price_close</th>\n",
       "      <th>volume</th>\n",
       "      <th>close_price_returns</th>\n",
       "      <th>close_price_returns_bins</th>\n",
       "      <th>close_price_returns_labels</th>\n",
       "      <th>UP</th>\n",
       "      <th>...</th>\n",
       "      <th>DateTime_UTCDay</th>\n",
       "      <th>DateTime_UTCDayofweek</th>\n",
       "      <th>DateTime_UTCDayofyear</th>\n",
       "      <th>DateTime_UTCIs_month_end</th>\n",
       "      <th>DateTime_UTCIs_month_start</th>\n",
       "      <th>DateTime_UTCIs_quarter_end</th>\n",
       "      <th>DateTime_UTCIs_quarter_start</th>\n",
       "      <th>DateTime_UTCIs_year_end</th>\n",
       "      <th>DateTime_UTCIs_year_start</th>\n",
       "      <th>DateTime_UTCElapsed</th>\n",
       "    </tr>\n",
       "  </thead>\n",
       "  <tbody>\n",
       "    <tr>\n",
       "      <th>0</th>\n",
       "      <td>2014-12-01 00:30:00</td>\n",
       "      <td>300.0</td>\n",
       "      <td>300.0</td>\n",
       "      <td>300.0</td>\n",
       "      <td>300.0</td>\n",
       "      <td>0.01</td>\n",
       "      <td>0.000000</td>\n",
       "      <td>(-0.00282, 0.0]</td>\n",
       "      <td>4</td>\n",
       "      <td>False</td>\n",
       "      <td>...</td>\n",
       "      <td>1</td>\n",
       "      <td>0</td>\n",
       "      <td>335</td>\n",
       "      <td>False</td>\n",
       "      <td>True</td>\n",
       "      <td>False</td>\n",
       "      <td>False</td>\n",
       "      <td>False</td>\n",
       "      <td>False</td>\n",
       "      <td>1417393800</td>\n",
       "    </tr>\n",
       "    <tr>\n",
       "      <th>1</th>\n",
       "      <td>2014-12-01 00:35:00</td>\n",
       "      <td>300.0</td>\n",
       "      <td>300.0</td>\n",
       "      <td>300.0</td>\n",
       "      <td>300.0</td>\n",
       "      <td>0.00</td>\n",
       "      <td>0.000000</td>\n",
       "      <td>(-0.00282, 0.0]</td>\n",
       "      <td>4</td>\n",
       "      <td>False</td>\n",
       "      <td>...</td>\n",
       "      <td>1</td>\n",
       "      <td>0</td>\n",
       "      <td>335</td>\n",
       "      <td>False</td>\n",
       "      <td>True</td>\n",
       "      <td>False</td>\n",
       "      <td>False</td>\n",
       "      <td>False</td>\n",
       "      <td>False</td>\n",
       "      <td>1417394100</td>\n",
       "    </tr>\n",
       "    <tr>\n",
       "      <th>2</th>\n",
       "      <td>2014-12-01 00:40:00</td>\n",
       "      <td>300.0</td>\n",
       "      <td>300.0</td>\n",
       "      <td>300.0</td>\n",
       "      <td>300.0</td>\n",
       "      <td>0.01</td>\n",
       "      <td>0.000000</td>\n",
       "      <td>(-0.00282, 0.0]</td>\n",
       "      <td>4</td>\n",
       "      <td>False</td>\n",
       "      <td>...</td>\n",
       "      <td>1</td>\n",
       "      <td>0</td>\n",
       "      <td>335</td>\n",
       "      <td>False</td>\n",
       "      <td>True</td>\n",
       "      <td>False</td>\n",
       "      <td>False</td>\n",
       "      <td>False</td>\n",
       "      <td>False</td>\n",
       "      <td>1417394400</td>\n",
       "    </tr>\n",
       "    <tr>\n",
       "      <th>3</th>\n",
       "      <td>2014-12-01 00:45:00</td>\n",
       "      <td>370.0</td>\n",
       "      <td>370.0</td>\n",
       "      <td>370.0</td>\n",
       "      <td>370.0</td>\n",
       "      <td>0.00</td>\n",
       "      <td>23.333333</td>\n",
       "      <td>(0.181, 67.889]</td>\n",
       "      <td>9</td>\n",
       "      <td>True</td>\n",
       "      <td>...</td>\n",
       "      <td>1</td>\n",
       "      <td>0</td>\n",
       "      <td>335</td>\n",
       "      <td>False</td>\n",
       "      <td>True</td>\n",
       "      <td>False</td>\n",
       "      <td>False</td>\n",
       "      <td>False</td>\n",
       "      <td>False</td>\n",
       "      <td>1417394700</td>\n",
       "    </tr>\n",
       "    <tr>\n",
       "      <th>4</th>\n",
       "      <td>2014-12-01 00:50:00</td>\n",
       "      <td>370.0</td>\n",
       "      <td>370.0</td>\n",
       "      <td>370.0</td>\n",
       "      <td>370.0</td>\n",
       "      <td>0.00</td>\n",
       "      <td>0.000000</td>\n",
       "      <td>(-0.00282, 0.0]</td>\n",
       "      <td>4</td>\n",
       "      <td>False</td>\n",
       "      <td>...</td>\n",
       "      <td>1</td>\n",
       "      <td>0</td>\n",
       "      <td>335</td>\n",
       "      <td>False</td>\n",
       "      <td>True</td>\n",
       "      <td>False</td>\n",
       "      <td>False</td>\n",
       "      <td>False</td>\n",
       "      <td>False</td>\n",
       "      <td>1417395000</td>\n",
       "    </tr>\n",
       "  </tbody>\n",
       "</table>\n",
       "<p>5 rows × 23 columns</p>\n",
       "</div>"
      ],
      "text/plain": [
       "         DateTime_UTC  price_open  price_high  price_low  price_close  volume  \\\n",
       "0 2014-12-01 00:30:00       300.0       300.0      300.0        300.0    0.01   \n",
       "1 2014-12-01 00:35:00       300.0       300.0      300.0        300.0    0.00   \n",
       "2 2014-12-01 00:40:00       300.0       300.0      300.0        300.0    0.01   \n",
       "3 2014-12-01 00:45:00       370.0       370.0      370.0        370.0    0.00   \n",
       "4 2014-12-01 00:50:00       370.0       370.0      370.0        370.0    0.00   \n",
       "\n",
       "   close_price_returns close_price_returns_bins  close_price_returns_labels  \\\n",
       "0             0.000000          (-0.00282, 0.0]                           4   \n",
       "1             0.000000          (-0.00282, 0.0]                           4   \n",
       "2             0.000000          (-0.00282, 0.0]                           4   \n",
       "3            23.333333          (0.181, 67.889]                           9   \n",
       "4             0.000000          (-0.00282, 0.0]                           4   \n",
       "\n",
       "      UP         ...           DateTime_UTCDay  DateTime_UTCDayofweek  \\\n",
       "0  False         ...                         1                      0   \n",
       "1  False         ...                         1                      0   \n",
       "2  False         ...                         1                      0   \n",
       "3   True         ...                         1                      0   \n",
       "4  False         ...                         1                      0   \n",
       "\n",
       "   DateTime_UTCDayofyear  DateTime_UTCIs_month_end  \\\n",
       "0                    335                     False   \n",
       "1                    335                     False   \n",
       "2                    335                     False   \n",
       "3                    335                     False   \n",
       "4                    335                     False   \n",
       "\n",
       "   DateTime_UTCIs_month_start  DateTime_UTCIs_quarter_end  \\\n",
       "0                        True                       False   \n",
       "1                        True                       False   \n",
       "2                        True                       False   \n",
       "3                        True                       False   \n",
       "4                        True                       False   \n",
       "\n",
       "   DateTime_UTCIs_quarter_start  DateTime_UTCIs_year_end  \\\n",
       "0                         False                    False   \n",
       "1                         False                    False   \n",
       "2                         False                    False   \n",
       "3                         False                    False   \n",
       "4                         False                    False   \n",
       "\n",
       "   DateTime_UTCIs_year_start  DateTime_UTCElapsed  \n",
       "0                      False           1417393800  \n",
       "1                      False           1417394100  \n",
       "2                      False           1417394400  \n",
       "3                      False           1417394700  \n",
       "4                      False           1417395000  \n",
       "\n",
       "[5 rows x 23 columns]"
      ]
     },
     "execution_count": 10,
     "metadata": {},
     "output_type": "execute_result"
    }
   ],
   "source": [
    "data.head(5)\n",
    "# data.iloc[324933: 325133, ]"
   ]
  },
  {
   "cell_type": "markdown",
   "metadata": {},
   "source": [
    "## Durations"
   ]
  },
  {
   "cell_type": "markdown",
   "metadata": {},
   "source": [
    "It is common when working with time series data to extract data that explains relationships across rows as opposed to columns, e.g.:\n",
    "* Running averages\n",
    "* Time until next event\n",
    "* Time since last event\n",
    "\n",
    "This is often difficult to do with most table manipulation frameworks, since they are designed to work with relationships across columns. As such, we've created a class to handle this type of data.\n",
    "\n",
    "We'll define a function `get_elapsed` for cumulative counting across a sorted dataframe. Given a particular field `fld` to monitor, this function will start tracking time since the last occurrence of that field. When the field is seen again, the counter is set to zero.\n",
    "\n",
    "Upon initialization, this will result in datetime na's until the field is encountered. This is reset every time a new store is seen. We'll see how to use this shortly."
   ]
  },
  {
   "cell_type": "markdown",
   "metadata": {},
   "source": [
    "##### Note\n",
    "This could be used with quantiles, when was the last time there was a rise/fall over 10%?"
   ]
  },
  {
   "cell_type": "markdown",
   "metadata": {},
   "source": [
    "#### Special Functions"
   ]
  },
  {
   "cell_type": "code",
   "execution_count": 11,
   "metadata": {},
   "outputs": [],
   "source": [
    "# test = data.iloc[1,0]\n",
    "# test2 = data.iloc[7,0]\n",
    "# test2.minute #- test.minute\n"
   ]
  },
  {
   "cell_type": "code",
   "execution_count": 29,
   "metadata": {},
   "outputs": [],
   "source": [
    "# count number of time periods since the last up movement\n",
    "def get_elapsed_since_updown(fld):\n",
    "    global df\n",
    "    \n",
    "    res_down = []\n",
    "    res_up = []\n",
    "    counter_up = 0\n",
    "    counter_down = 0\n",
    "    \n",
    "    for v in df[fld].values:\n",
    "        if v > 0: # UP\n",
    "            counter_up = -1\n",
    "        elif v < 0: # down\n",
    "            counter_down = -1\n",
    "        counter_down += 1\n",
    "        counter_up += 1\n",
    "        res_up.append(counter_up)\n",
    "        res_down.append(counter_down)\n",
    "                \n",
    "    df['SinceUP'] = res_up\n",
    "    df['SinceDown'] = res_down\n",
    "    "
   ]
  },
  {
   "cell_type": "code",
   "execution_count": 30,
   "metadata": {},
   "outputs": [],
   "source": [
    "def get_elapsed_since_percent(fld):\n",
    "    global df\n",
    "    \n",
    "    last_01 = 0\n",
    "    last_025 = 0\n",
    "    last_05 = 0\n",
    "    last_075 = 0\n",
    "    last_1 = 0\n",
    "    last_2 = 0\n",
    "    last_3 = 0\n",
    "    last_4 = 0\n",
    "    last_5 = 0\n",
    "\n",
    "    last_01_down = 0\n",
    "    last_025_down = 0\n",
    "    last_05_down = 0\n",
    "    last_075_down = 0\n",
    "    last_1_down = 0\n",
    "    last_2_down = 0\n",
    "    last_3_down = 0\n",
    "    last_4_down = 0\n",
    "    last_5_down = 0\n",
    "\n",
    "    last_01_up = 0\n",
    "    last_025_up = 0\n",
    "    last_05_up = 0\n",
    "    last_075_up = 0\n",
    "    last_1_up = 0\n",
    "    last_2_up = 0\n",
    "    last_3_up = 0\n",
    "    last_4_up = 0\n",
    "    last_5_up = 0\n",
    "\n",
    "    res_01 = []\n",
    "    res_025 = []\n",
    "    res_05 = []\n",
    "    res_075 = []\n",
    "    res_1 = []\n",
    "    res_2 = []\n",
    "    res_3 = []\n",
    "    res_4 = []\n",
    "    res_5 = []\n",
    "\n",
    "    res_01_down = []\n",
    "    res_025_down = []\n",
    "    res_05_down = []\n",
    "    res_075_down = []\n",
    "    res_1_down = []\n",
    "    res_2_down = []\n",
    "    res_3_down = []\n",
    "    res_4_down = []\n",
    "    res_5_down = []\n",
    "\n",
    "    res_01_up = []\n",
    "    res_025_up = []\n",
    "    res_05_up = []\n",
    "    res_075_up = []\n",
    "    res_1_up = []\n",
    "    res_2_up = []\n",
    "    res_3_up = []\n",
    "    res_4_up = []\n",
    "    res_5_up = []\n",
    "\n",
    "    for r in df.close_price_returns.values:\n",
    "        # up movements\n",
    "        if r > 5:\n",
    "            last_01_up = -1\n",
    "            last_025_up = -1\n",
    "            last_05_up = -1\n",
    "            last_075_up = -1\n",
    "            last_1_up = -1\n",
    "            last_2_up = -1\n",
    "            last_3_up = -1\n",
    "            last_4_up = -1\n",
    "            last_5_up = -1\n",
    "        elif r > 4:\n",
    "            last_01_up = -1\n",
    "            last_025_up = -1\n",
    "            last_05_up = -1\n",
    "            last_075_up = -1\n",
    "            last_1_up = -1\n",
    "            last_2_up = -1\n",
    "            last_3_up = -1\n",
    "            last_4_up = -1\n",
    "        elif r > 3:\n",
    "            last_01_up = -1\n",
    "            last_025_up = -1\n",
    "            last_05_up = -1\n",
    "            last_075_up = -1\n",
    "            last_1_up = -1\n",
    "            last_2_up = -1\n",
    "            last_3_up = -1\n",
    "        elif r > 2:\n",
    "            last_01_up = -1\n",
    "            last_025_up = -1\n",
    "            last_05_up = -1\n",
    "            last_075_up = -1\n",
    "            last_1_up = -1\n",
    "            last_2_up = -1\n",
    "        elif r > 1:\n",
    "            last_01_up = -1\n",
    "            last_025_up = -1\n",
    "            last_05_up = -1\n",
    "            last_075_up = -1\n",
    "            last_1_up = -1\n",
    "        elif r > 0.75:\n",
    "            last_01_up = -1\n",
    "            last_025_up = -1\n",
    "            last_05_up = -1\n",
    "            last_075_up = -1\n",
    "        elif r > 0.5:\n",
    "            last_01_up = -1\n",
    "            last_025_up = -1\n",
    "            last_05_up = -1\n",
    "        elif r > 0.25:\n",
    "            last_01_up = -1\n",
    "            last_025_up = -1\n",
    "        elif r > 0.1:\n",
    "            last_01_up = -1\n",
    "        # down movements\n",
    "        elif r < -5:\n",
    "            last_01_down = -1\n",
    "            last_025_down = -1\n",
    "            last_05_down = -1\n",
    "            last_075_down = -1\n",
    "            last_1_down = -1\n",
    "            last_2_down = -1\n",
    "            last_3_down = -1\n",
    "            last_4_down = -1\n",
    "            last_5_down = -1\n",
    "        elif r < -4:\n",
    "            last_01_down = -1\n",
    "            last_025_down = -1\n",
    "            last_05_down = -1\n",
    "            last_075_down = -1\n",
    "            last_1_down = -1\n",
    "            last_2_down = -1\n",
    "            last_3_down = -1\n",
    "            last_4_down = -1\n",
    "        elif r < -3:\n",
    "            last_01_down = -1\n",
    "            last_025_down = -1\n",
    "            last_05_down = -1\n",
    "            last_075_down = -1\n",
    "            last_1_down = -1\n",
    "            last_2_down = -1\n",
    "            last_3_down = -1\n",
    "        elif r < -2:\n",
    "            last_01_down = -1\n",
    "            last_025_down = -1\n",
    "            last_05_down = -1\n",
    "            last_075_down = -1\n",
    "            last_1_down = -1\n",
    "            last_2_down = -1\n",
    "        elif r < -1:\n",
    "            last_01_down = -1\n",
    "            last_025_down = -1\n",
    "            last_05_down = -1\n",
    "            last_075_down = -1\n",
    "            last_1_down = -1\n",
    "        elif r < -0.75:\n",
    "            last_01_down = -1\n",
    "            last_025_down = -1\n",
    "            last_05_down = -1\n",
    "            last_075_down = -1\n",
    "        elif r < -0.5:\n",
    "            last_01_down = -1\n",
    "            last_025_down = -1\n",
    "            last_05_down = -1\n",
    "        elif r < -0.25:\n",
    "            last_01_down = -1\n",
    "            last_025_down = -1\n",
    "        elif r < -0.1:\n",
    "            last_01_down = -1\n",
    "\n",
    "        # either direction movements\n",
    "        last_01 = min(last_01_up, last_01_down)\n",
    "        last_025 = min(last_025_up, last_025_down)\n",
    "        last_05 = min(last_05_up, last_05_down)\n",
    "        last_075 = min(last_075_up, last_075_down)\n",
    "        last_1 = min(last_1_up, last_1_down)\n",
    "        last_2 = min(last_2_up, last_2_down)\n",
    "        last_3 = min(last_3_up, last_3_down)\n",
    "        last_4 = min(last_4_up, last_4_down)\n",
    "        last_5 = min(last_5_up, last_5_down)\n",
    "\n",
    "        #increment counters\n",
    "        last_01 += 1\n",
    "        last_025 += 1\n",
    "        last_05 += 1\n",
    "        last_075 += 1\n",
    "        last_1 += 1\n",
    "        last_2 += 1\n",
    "        last_3 += 1\n",
    "        last_4 += 1\n",
    "        last_5 += 1\n",
    "\n",
    "        last_01_down += 1\n",
    "        last_025_down += 1\n",
    "        last_05_down += 1\n",
    "        last_075_down += 1\n",
    "        last_1_down += 1\n",
    "        last_2_down += 1\n",
    "        last_3_down += 1\n",
    "        last_4_down += 1\n",
    "        last_5_down += 1\n",
    "\n",
    "        last_01_up += 1\n",
    "        last_025_up += 1\n",
    "        last_05_up += 1\n",
    "        last_075_up += 1\n",
    "        last_1_up += 1\n",
    "        last_2_up += 1\n",
    "        last_3_up += 1\n",
    "        last_4_up += 1\n",
    "        last_5_up += 1\n",
    "\n",
    "        # store results\n",
    "        res_01.append(last_01)\n",
    "        res_025.append(last_025)\n",
    "        res_05.append(last_05)\n",
    "        res_075.append(last_075)\n",
    "        res_1.append(last_1)\n",
    "        res_2.append(last_2)\n",
    "        res_3.append(last_3)\n",
    "        res_4.append(last_4)\n",
    "        res_5.append(last_5)\n",
    "\n",
    "        res_01_down.append(last_01_down)\n",
    "        res_025_down.append(last_025_down)\n",
    "        res_05_down.append(last_05_down)\n",
    "        res_075_down.append(last_075_down)\n",
    "        res_1_down.append(last_1_down)\n",
    "        res_2_down.append(last_2_down)\n",
    "        res_3_down.append(last_3_down)\n",
    "        res_4_down.append(last_4_down)\n",
    "        res_5_down.append(last_5_down)\n",
    "\n",
    "        res_01_up.append(last_01_up)\n",
    "        res_025_up.append(last_025_up)\n",
    "        res_05_up.append(last_05_up)\n",
    "        res_075_up.append(last_075_up)\n",
    "        res_1_up.append(last_1_up)\n",
    "        res_2_up.append(last_2_up)\n",
    "        res_3_up.append(last_3_up)\n",
    "        res_4_up.append(last_4_up)\n",
    "        res_5_up.append(last_5_up)\n",
    "\n",
    "    # store the results as new columns\n",
    "    df = df.assign(Since_01 = res_01)\n",
    "    df = df.assign(Since_025 = res_025)\n",
    "    df = df.assign(Since_05 = res_05)\n",
    "    df = df.assign(Since_075 = res_075)\n",
    "    df = df.assign(Since_1 = res_1)\n",
    "    df = df.assign(Since_2 = res_2)\n",
    "    df = df.assign(Since_3 = res_3)\n",
    "    df = df.assign(Since_4 = res_4)\n",
    "    df = df.assign(Since_5 = res_5)\n",
    "    df = df.assign(Since_01_down = res_01_down)\n",
    "    df = df.assign(Since_025_down = res_025_down)\n",
    "    df = df.assign(Since_05_down = res_05_down)\n",
    "    df = df.assign(Since_075_down = res_075_down)\n",
    "    df = df.assign(Since_1_down = res_1_down)\n",
    "    df = df.assign(Since_2_down = res_2_down)\n",
    "    df = df.assign(Since_3_down = res_3_down)\n",
    "    df = df.assign(Since_4_down = res_4_down)\n",
    "    df = df.assign(Since_5_down = res_5_down)\n",
    "    df = df.assign(Since_01_up = res_01_up)\n",
    "    df = df.assign(Since_025_up = res_025_up)\n",
    "    df = df.assign(Since_05_up = res_05_up)\n",
    "    df = df.assign(Since_075_up = res_075_up)\n",
    "    df = df.assign(Since_1_up = res_1_up)\n",
    "    df = df.assign(Since_2_up = res_2_up)\n",
    "    df = df.assign(Since_3_up = res_3_up)\n",
    "    df = df.assign(Since_4_up = res_4_up)\n",
    "    df = df.assign(Since_5_up = res_5_up)"
   ]
  },
  {
   "cell_type": "markdown",
   "metadata": {},
   "source": [
    "#### Apply these special functions"
   ]
  },
  {
   "cell_type": "markdown",
   "metadata": {},
   "source": [
    "I'll apply these extra columns."
   ]
  },
  {
   "cell_type": "code",
   "execution_count": 35,
   "metadata": {},
   "outputs": [
    {
     "data": {
      "text/html": [
       "<div>\n",
       "<style scoped>\n",
       "    .dataframe tbody tr th:only-of-type {\n",
       "        vertical-align: middle;\n",
       "    }\n",
       "\n",
       "    .dataframe tbody tr th {\n",
       "        vertical-align: top;\n",
       "    }\n",
       "\n",
       "    .dataframe thead th {\n",
       "        text-align: right;\n",
       "    }\n",
       "</style>\n",
       "<table border=\"1\" class=\"dataframe\">\n",
       "  <thead>\n",
       "    <tr style=\"text-align: right;\">\n",
       "      <th></th>\n",
       "      <th>DateTime_UTC</th>\n",
       "      <th>close_price_returns</th>\n",
       "      <th>Since_01</th>\n",
       "      <th>Since_025</th>\n",
       "      <th>Since_05</th>\n",
       "      <th>Since_075</th>\n",
       "      <th>Since_1</th>\n",
       "      <th>Since_2</th>\n",
       "      <th>Since_3</th>\n",
       "      <th>Since_4</th>\n",
       "      <th>...</th>\n",
       "      <th>Since_025_up</th>\n",
       "      <th>Since_05_up</th>\n",
       "      <th>Since_075_up</th>\n",
       "      <th>Since_1_up</th>\n",
       "      <th>Since_2_up</th>\n",
       "      <th>Since_3_up</th>\n",
       "      <th>Since_4_up</th>\n",
       "      <th>Since_5_up</th>\n",
       "      <th>SinceUP</th>\n",
       "      <th>SinceDown</th>\n",
       "    </tr>\n",
       "  </thead>\n",
       "  <tbody>\n",
       "    <tr>\n",
       "      <th>0</th>\n",
       "      <td>2014-12-01 00:30:00</td>\n",
       "      <td>0.000000</td>\n",
       "      <td>1</td>\n",
       "      <td>1</td>\n",
       "      <td>1</td>\n",
       "      <td>1</td>\n",
       "      <td>1</td>\n",
       "      <td>1</td>\n",
       "      <td>1</td>\n",
       "      <td>1</td>\n",
       "      <td>...</td>\n",
       "      <td>1</td>\n",
       "      <td>1</td>\n",
       "      <td>1</td>\n",
       "      <td>1</td>\n",
       "      <td>1</td>\n",
       "      <td>1</td>\n",
       "      <td>1</td>\n",
       "      <td>1</td>\n",
       "      <td>1</td>\n",
       "      <td>0</td>\n",
       "    </tr>\n",
       "    <tr>\n",
       "      <th>1</th>\n",
       "      <td>2014-12-01 00:35:00</td>\n",
       "      <td>0.000000</td>\n",
       "      <td>2</td>\n",
       "      <td>2</td>\n",
       "      <td>2</td>\n",
       "      <td>2</td>\n",
       "      <td>2</td>\n",
       "      <td>2</td>\n",
       "      <td>2</td>\n",
       "      <td>2</td>\n",
       "      <td>...</td>\n",
       "      <td>2</td>\n",
       "      <td>2</td>\n",
       "      <td>2</td>\n",
       "      <td>2</td>\n",
       "      <td>2</td>\n",
       "      <td>2</td>\n",
       "      <td>2</td>\n",
       "      <td>2</td>\n",
       "      <td>2</td>\n",
       "      <td>0</td>\n",
       "    </tr>\n",
       "    <tr>\n",
       "      <th>2</th>\n",
       "      <td>2014-12-01 00:40:00</td>\n",
       "      <td>0.000000</td>\n",
       "      <td>3</td>\n",
       "      <td>3</td>\n",
       "      <td>3</td>\n",
       "      <td>3</td>\n",
       "      <td>3</td>\n",
       "      <td>3</td>\n",
       "      <td>3</td>\n",
       "      <td>3</td>\n",
       "      <td>...</td>\n",
       "      <td>3</td>\n",
       "      <td>3</td>\n",
       "      <td>3</td>\n",
       "      <td>3</td>\n",
       "      <td>3</td>\n",
       "      <td>3</td>\n",
       "      <td>3</td>\n",
       "      <td>3</td>\n",
       "      <td>3</td>\n",
       "      <td>0</td>\n",
       "    </tr>\n",
       "    <tr>\n",
       "      <th>3</th>\n",
       "      <td>2014-12-01 00:45:00</td>\n",
       "      <td>23.333333</td>\n",
       "      <td>0</td>\n",
       "      <td>0</td>\n",
       "      <td>0</td>\n",
       "      <td>0</td>\n",
       "      <td>0</td>\n",
       "      <td>0</td>\n",
       "      <td>0</td>\n",
       "      <td>0</td>\n",
       "      <td>...</td>\n",
       "      <td>0</td>\n",
       "      <td>0</td>\n",
       "      <td>0</td>\n",
       "      <td>0</td>\n",
       "      <td>0</td>\n",
       "      <td>0</td>\n",
       "      <td>0</td>\n",
       "      <td>0</td>\n",
       "      <td>0</td>\n",
       "      <td>1</td>\n",
       "    </tr>\n",
       "    <tr>\n",
       "      <th>4</th>\n",
       "      <td>2014-12-01 00:50:00</td>\n",
       "      <td>0.000000</td>\n",
       "      <td>1</td>\n",
       "      <td>1</td>\n",
       "      <td>1</td>\n",
       "      <td>1</td>\n",
       "      <td>1</td>\n",
       "      <td>1</td>\n",
       "      <td>1</td>\n",
       "      <td>1</td>\n",
       "      <td>...</td>\n",
       "      <td>1</td>\n",
       "      <td>1</td>\n",
       "      <td>1</td>\n",
       "      <td>1</td>\n",
       "      <td>1</td>\n",
       "      <td>1</td>\n",
       "      <td>1</td>\n",
       "      <td>1</td>\n",
       "      <td>1</td>\n",
       "      <td>0</td>\n",
       "    </tr>\n",
       "    <tr>\n",
       "      <th>5</th>\n",
       "      <td>2014-12-01 00:55:00</td>\n",
       "      <td>0.000000</td>\n",
       "      <td>2</td>\n",
       "      <td>2</td>\n",
       "      <td>2</td>\n",
       "      <td>2</td>\n",
       "      <td>2</td>\n",
       "      <td>2</td>\n",
       "      <td>2</td>\n",
       "      <td>2</td>\n",
       "      <td>...</td>\n",
       "      <td>2</td>\n",
       "      <td>2</td>\n",
       "      <td>2</td>\n",
       "      <td>2</td>\n",
       "      <td>2</td>\n",
       "      <td>2</td>\n",
       "      <td>2</td>\n",
       "      <td>2</td>\n",
       "      <td>2</td>\n",
       "      <td>0</td>\n",
       "    </tr>\n",
       "    <tr>\n",
       "      <th>6</th>\n",
       "      <td>2014-12-01 01:00:00</td>\n",
       "      <td>0.000000</td>\n",
       "      <td>3</td>\n",
       "      <td>3</td>\n",
       "      <td>3</td>\n",
       "      <td>3</td>\n",
       "      <td>3</td>\n",
       "      <td>3</td>\n",
       "      <td>3</td>\n",
       "      <td>3</td>\n",
       "      <td>...</td>\n",
       "      <td>3</td>\n",
       "      <td>3</td>\n",
       "      <td>3</td>\n",
       "      <td>3</td>\n",
       "      <td>3</td>\n",
       "      <td>3</td>\n",
       "      <td>3</td>\n",
       "      <td>3</td>\n",
       "      <td>3</td>\n",
       "      <td>0</td>\n",
       "    </tr>\n",
       "    <tr>\n",
       "      <th>7</th>\n",
       "      <td>2014-12-01 01:05:00</td>\n",
       "      <td>0.000000</td>\n",
       "      <td>4</td>\n",
       "      <td>4</td>\n",
       "      <td>4</td>\n",
       "      <td>4</td>\n",
       "      <td>4</td>\n",
       "      <td>4</td>\n",
       "      <td>4</td>\n",
       "      <td>4</td>\n",
       "      <td>...</td>\n",
       "      <td>4</td>\n",
       "      <td>4</td>\n",
       "      <td>4</td>\n",
       "      <td>4</td>\n",
       "      <td>4</td>\n",
       "      <td>4</td>\n",
       "      <td>4</td>\n",
       "      <td>4</td>\n",
       "      <td>4</td>\n",
       "      <td>0</td>\n",
       "    </tr>\n",
       "    <tr>\n",
       "      <th>8</th>\n",
       "      <td>2014-12-01 01:10:00</td>\n",
       "      <td>0.000000</td>\n",
       "      <td>5</td>\n",
       "      <td>5</td>\n",
       "      <td>5</td>\n",
       "      <td>5</td>\n",
       "      <td>5</td>\n",
       "      <td>5</td>\n",
       "      <td>5</td>\n",
       "      <td>5</td>\n",
       "      <td>...</td>\n",
       "      <td>5</td>\n",
       "      <td>5</td>\n",
       "      <td>5</td>\n",
       "      <td>5</td>\n",
       "      <td>5</td>\n",
       "      <td>5</td>\n",
       "      <td>5</td>\n",
       "      <td>5</td>\n",
       "      <td>5</td>\n",
       "      <td>0</td>\n",
       "    </tr>\n",
       "    <tr>\n",
       "      <th>9</th>\n",
       "      <td>2014-12-01 01:15:00</td>\n",
       "      <td>0.000000</td>\n",
       "      <td>6</td>\n",
       "      <td>6</td>\n",
       "      <td>6</td>\n",
       "      <td>6</td>\n",
       "      <td>6</td>\n",
       "      <td>6</td>\n",
       "      <td>6</td>\n",
       "      <td>6</td>\n",
       "      <td>...</td>\n",
       "      <td>6</td>\n",
       "      <td>6</td>\n",
       "      <td>6</td>\n",
       "      <td>6</td>\n",
       "      <td>6</td>\n",
       "      <td>6</td>\n",
       "      <td>6</td>\n",
       "      <td>6</td>\n",
       "      <td>6</td>\n",
       "      <td>0</td>\n",
       "    </tr>\n",
       "    <tr>\n",
       "      <th>10</th>\n",
       "      <td>2014-12-01 01:20:00</td>\n",
       "      <td>0.000000</td>\n",
       "      <td>7</td>\n",
       "      <td>7</td>\n",
       "      <td>7</td>\n",
       "      <td>7</td>\n",
       "      <td>7</td>\n",
       "      <td>7</td>\n",
       "      <td>7</td>\n",
       "      <td>7</td>\n",
       "      <td>...</td>\n",
       "      <td>7</td>\n",
       "      <td>7</td>\n",
       "      <td>7</td>\n",
       "      <td>7</td>\n",
       "      <td>7</td>\n",
       "      <td>7</td>\n",
       "      <td>7</td>\n",
       "      <td>7</td>\n",
       "      <td>7</td>\n",
       "      <td>0</td>\n",
       "    </tr>\n",
       "    <tr>\n",
       "      <th>11</th>\n",
       "      <td>2014-12-01 01:25:00</td>\n",
       "      <td>0.000000</td>\n",
       "      <td>8</td>\n",
       "      <td>8</td>\n",
       "      <td>8</td>\n",
       "      <td>8</td>\n",
       "      <td>8</td>\n",
       "      <td>8</td>\n",
       "      <td>8</td>\n",
       "      <td>8</td>\n",
       "      <td>...</td>\n",
       "      <td>8</td>\n",
       "      <td>8</td>\n",
       "      <td>8</td>\n",
       "      <td>8</td>\n",
       "      <td>8</td>\n",
       "      <td>8</td>\n",
       "      <td>8</td>\n",
       "      <td>8</td>\n",
       "      <td>8</td>\n",
       "      <td>0</td>\n",
       "    </tr>\n",
       "    <tr>\n",
       "      <th>12</th>\n",
       "      <td>2014-12-01 01:30:00</td>\n",
       "      <td>0.000000</td>\n",
       "      <td>9</td>\n",
       "      <td>9</td>\n",
       "      <td>9</td>\n",
       "      <td>9</td>\n",
       "      <td>9</td>\n",
       "      <td>9</td>\n",
       "      <td>9</td>\n",
       "      <td>9</td>\n",
       "      <td>...</td>\n",
       "      <td>9</td>\n",
       "      <td>9</td>\n",
       "      <td>9</td>\n",
       "      <td>9</td>\n",
       "      <td>9</td>\n",
       "      <td>9</td>\n",
       "      <td>9</td>\n",
       "      <td>9</td>\n",
       "      <td>9</td>\n",
       "      <td>0</td>\n",
       "    </tr>\n",
       "    <tr>\n",
       "      <th>13</th>\n",
       "      <td>2014-12-01 01:35:00</td>\n",
       "      <td>0.000000</td>\n",
       "      <td>10</td>\n",
       "      <td>10</td>\n",
       "      <td>10</td>\n",
       "      <td>10</td>\n",
       "      <td>10</td>\n",
       "      <td>10</td>\n",
       "      <td>10</td>\n",
       "      <td>10</td>\n",
       "      <td>...</td>\n",
       "      <td>10</td>\n",
       "      <td>10</td>\n",
       "      <td>10</td>\n",
       "      <td>10</td>\n",
       "      <td>10</td>\n",
       "      <td>10</td>\n",
       "      <td>10</td>\n",
       "      <td>10</td>\n",
       "      <td>10</td>\n",
       "      <td>0</td>\n",
       "    </tr>\n",
       "    <tr>\n",
       "      <th>14</th>\n",
       "      <td>2014-12-01 01:40:00</td>\n",
       "      <td>0.000000</td>\n",
       "      <td>11</td>\n",
       "      <td>11</td>\n",
       "      <td>11</td>\n",
       "      <td>11</td>\n",
       "      <td>11</td>\n",
       "      <td>11</td>\n",
       "      <td>11</td>\n",
       "      <td>11</td>\n",
       "      <td>...</td>\n",
       "      <td>11</td>\n",
       "      <td>11</td>\n",
       "      <td>11</td>\n",
       "      <td>11</td>\n",
       "      <td>11</td>\n",
       "      <td>11</td>\n",
       "      <td>11</td>\n",
       "      <td>11</td>\n",
       "      <td>11</td>\n",
       "      <td>0</td>\n",
       "    </tr>\n",
       "    <tr>\n",
       "      <th>15</th>\n",
       "      <td>2014-12-01 01:45:00</td>\n",
       "      <td>0.000000</td>\n",
       "      <td>12</td>\n",
       "      <td>12</td>\n",
       "      <td>12</td>\n",
       "      <td>12</td>\n",
       "      <td>12</td>\n",
       "      <td>12</td>\n",
       "      <td>12</td>\n",
       "      <td>12</td>\n",
       "      <td>...</td>\n",
       "      <td>12</td>\n",
       "      <td>12</td>\n",
       "      <td>12</td>\n",
       "      <td>12</td>\n",
       "      <td>12</td>\n",
       "      <td>12</td>\n",
       "      <td>12</td>\n",
       "      <td>12</td>\n",
       "      <td>12</td>\n",
       "      <td>0</td>\n",
       "    </tr>\n",
       "    <tr>\n",
       "      <th>16</th>\n",
       "      <td>2014-12-01 01:50:00</td>\n",
       "      <td>0.000000</td>\n",
       "      <td>13</td>\n",
       "      <td>13</td>\n",
       "      <td>13</td>\n",
       "      <td>13</td>\n",
       "      <td>13</td>\n",
       "      <td>13</td>\n",
       "      <td>13</td>\n",
       "      <td>13</td>\n",
       "      <td>...</td>\n",
       "      <td>13</td>\n",
       "      <td>13</td>\n",
       "      <td>13</td>\n",
       "      <td>13</td>\n",
       "      <td>13</td>\n",
       "      <td>13</td>\n",
       "      <td>13</td>\n",
       "      <td>13</td>\n",
       "      <td>13</td>\n",
       "      <td>0</td>\n",
       "    </tr>\n",
       "    <tr>\n",
       "      <th>17</th>\n",
       "      <td>2014-12-01 01:55:00</td>\n",
       "      <td>1.891892</td>\n",
       "      <td>0</td>\n",
       "      <td>0</td>\n",
       "      <td>0</td>\n",
       "      <td>0</td>\n",
       "      <td>0</td>\n",
       "      <td>14</td>\n",
       "      <td>14</td>\n",
       "      <td>14</td>\n",
       "      <td>...</td>\n",
       "      <td>0</td>\n",
       "      <td>0</td>\n",
       "      <td>0</td>\n",
       "      <td>0</td>\n",
       "      <td>14</td>\n",
       "      <td>14</td>\n",
       "      <td>14</td>\n",
       "      <td>14</td>\n",
       "      <td>0</td>\n",
       "      <td>1</td>\n",
       "    </tr>\n",
       "    <tr>\n",
       "      <th>18</th>\n",
       "      <td>2014-12-01 02:00:00</td>\n",
       "      <td>0.000000</td>\n",
       "      <td>1</td>\n",
       "      <td>1</td>\n",
       "      <td>1</td>\n",
       "      <td>1</td>\n",
       "      <td>1</td>\n",
       "      <td>15</td>\n",
       "      <td>15</td>\n",
       "      <td>15</td>\n",
       "      <td>...</td>\n",
       "      <td>1</td>\n",
       "      <td>1</td>\n",
       "      <td>1</td>\n",
       "      <td>1</td>\n",
       "      <td>15</td>\n",
       "      <td>15</td>\n",
       "      <td>15</td>\n",
       "      <td>15</td>\n",
       "      <td>1</td>\n",
       "      <td>0</td>\n",
       "    </tr>\n",
       "    <tr>\n",
       "      <th>19</th>\n",
       "      <td>2014-12-01 02:05:00</td>\n",
       "      <td>0.000000</td>\n",
       "      <td>2</td>\n",
       "      <td>2</td>\n",
       "      <td>2</td>\n",
       "      <td>2</td>\n",
       "      <td>2</td>\n",
       "      <td>16</td>\n",
       "      <td>16</td>\n",
       "      <td>16</td>\n",
       "      <td>...</td>\n",
       "      <td>2</td>\n",
       "      <td>2</td>\n",
       "      <td>2</td>\n",
       "      <td>2</td>\n",
       "      <td>16</td>\n",
       "      <td>16</td>\n",
       "      <td>16</td>\n",
       "      <td>16</td>\n",
       "      <td>2</td>\n",
       "      <td>0</td>\n",
       "    </tr>\n",
       "  </tbody>\n",
       "</table>\n",
       "<p>20 rows × 31 columns</p>\n",
       "</div>"
      ],
      "text/plain": [
       "          DateTime_UTC  close_price_returns  Since_01  Since_025  Since_05  \\\n",
       "0  2014-12-01 00:30:00             0.000000         1          1         1   \n",
       "1  2014-12-01 00:35:00             0.000000         2          2         2   \n",
       "2  2014-12-01 00:40:00             0.000000         3          3         3   \n",
       "3  2014-12-01 00:45:00            23.333333         0          0         0   \n",
       "4  2014-12-01 00:50:00             0.000000         1          1         1   \n",
       "5  2014-12-01 00:55:00             0.000000         2          2         2   \n",
       "6  2014-12-01 01:00:00             0.000000         3          3         3   \n",
       "7  2014-12-01 01:05:00             0.000000         4          4         4   \n",
       "8  2014-12-01 01:10:00             0.000000         5          5         5   \n",
       "9  2014-12-01 01:15:00             0.000000         6          6         6   \n",
       "10 2014-12-01 01:20:00             0.000000         7          7         7   \n",
       "11 2014-12-01 01:25:00             0.000000         8          8         8   \n",
       "12 2014-12-01 01:30:00             0.000000         9          9         9   \n",
       "13 2014-12-01 01:35:00             0.000000        10         10        10   \n",
       "14 2014-12-01 01:40:00             0.000000        11         11        11   \n",
       "15 2014-12-01 01:45:00             0.000000        12         12        12   \n",
       "16 2014-12-01 01:50:00             0.000000        13         13        13   \n",
       "17 2014-12-01 01:55:00             1.891892         0          0         0   \n",
       "18 2014-12-01 02:00:00             0.000000         1          1         1   \n",
       "19 2014-12-01 02:05:00             0.000000         2          2         2   \n",
       "\n",
       "    Since_075  Since_1  Since_2  Since_3  Since_4    ...      Since_025_up  \\\n",
       "0           1        1        1        1        1    ...                 1   \n",
       "1           2        2        2        2        2    ...                 2   \n",
       "2           3        3        3        3        3    ...                 3   \n",
       "3           0        0        0        0        0    ...                 0   \n",
       "4           1        1        1        1        1    ...                 1   \n",
       "5           2        2        2        2        2    ...                 2   \n",
       "6           3        3        3        3        3    ...                 3   \n",
       "7           4        4        4        4        4    ...                 4   \n",
       "8           5        5        5        5        5    ...                 5   \n",
       "9           6        6        6        6        6    ...                 6   \n",
       "10          7        7        7        7        7    ...                 7   \n",
       "11          8        8        8        8        8    ...                 8   \n",
       "12          9        9        9        9        9    ...                 9   \n",
       "13         10       10       10       10       10    ...                10   \n",
       "14         11       11       11       11       11    ...                11   \n",
       "15         12       12       12       12       12    ...                12   \n",
       "16         13       13       13       13       13    ...                13   \n",
       "17          0        0       14       14       14    ...                 0   \n",
       "18          1        1       15       15       15    ...                 1   \n",
       "19          2        2       16       16       16    ...                 2   \n",
       "\n",
       "    Since_05_up  Since_075_up  Since_1_up  Since_2_up  Since_3_up  Since_4_up  \\\n",
       "0             1             1           1           1           1           1   \n",
       "1             2             2           2           2           2           2   \n",
       "2             3             3           3           3           3           3   \n",
       "3             0             0           0           0           0           0   \n",
       "4             1             1           1           1           1           1   \n",
       "5             2             2           2           2           2           2   \n",
       "6             3             3           3           3           3           3   \n",
       "7             4             4           4           4           4           4   \n",
       "8             5             5           5           5           5           5   \n",
       "9             6             6           6           6           6           6   \n",
       "10            7             7           7           7           7           7   \n",
       "11            8             8           8           8           8           8   \n",
       "12            9             9           9           9           9           9   \n",
       "13           10            10          10          10          10          10   \n",
       "14           11            11          11          11          11          11   \n",
       "15           12            12          12          12          12          12   \n",
       "16           13            13          13          13          13          13   \n",
       "17            0             0           0          14          14          14   \n",
       "18            1             1           1          15          15          15   \n",
       "19            2             2           2          16          16          16   \n",
       "\n",
       "    Since_5_up  SinceUP  SinceDown  \n",
       "0            1        1          0  \n",
       "1            2        2          0  \n",
       "2            3        3          0  \n",
       "3            0        0          1  \n",
       "4            1        1          0  \n",
       "5            2        2          0  \n",
       "6            3        3          0  \n",
       "7            4        4          0  \n",
       "8            5        5          0  \n",
       "9            6        6          0  \n",
       "10           7        7          0  \n",
       "11           8        8          0  \n",
       "12           9        9          0  \n",
       "13          10       10          0  \n",
       "14          11       11          0  \n",
       "15          12       12          0  \n",
       "16          13       13          0  \n",
       "17          14        0          1  \n",
       "18          15        1          0  \n",
       "19          16        2          0  \n",
       "\n",
       "[20 rows x 31 columns]"
      ]
     },
     "execution_count": 35,
     "metadata": {},
     "output_type": "execute_result"
    }
   ],
   "source": [
    "fld = 'close_price_returns'\n",
    "df = data[['DateTime_UTC', fld]]\n",
    "\n",
    "get_elapsed_since_percent(fld)\n",
    "get_elapsed_since_updown(fld)\n",
    "\n",
    "df.head(20)"
   ]
  },
  {
   "cell_type": "markdown",
   "metadata": {},
   "source": [
    "We're going to set the active index to Date."
   ]
  },
  {
   "cell_type": "code",
   "execution_count": null,
   "metadata": {},
   "outputs": [],
   "source": [
    "df = df.set_index(\"Date\")"
   ]
  },
  {
   "cell_type": "markdown",
   "metadata": {},
   "source": [
    "## Rolling quantiles\n",
    "Next we'll demonstrate window functions in pandas to calculate rolling quantities.\n",
    "\n",
    "Here we're sorting by date (`sort_index()`) and counting the number of events of interest (`sum()`) defined in `columns` in the following week (`rolling()`), grouped by Store (`groupby()`). We do the same in the opposite direction."
   ]
  },
  {
   "cell_type": "code",
   "execution_count": null,
   "metadata": {},
   "outputs": [],
   "source": [
    "bwd = df[['Store']+columns].sort_index().groupby(\"Store\").rolling(7, min_periods=1).sum()"
   ]
  },
  {
   "cell_type": "code",
   "execution_count": null,
   "metadata": {},
   "outputs": [],
   "source": [
    "fwd = df[['Store']+columns].sort_index(ascending=False\n",
    "                                      ).groupby(\"Store\").rolling(7, min_periods=1).sum()"
   ]
  },
  {
   "cell_type": "markdown",
   "metadata": {},
   "source": [
    "Next we want to drop the Store indices grouped together in the window function.\n",
    "\n",
    "Often in pandas, there is an option to do this in place. This is time and memory efficient when working with large datasets."
   ]
  },
  {
   "cell_type": "code",
   "execution_count": null,
   "metadata": {},
   "outputs": [],
   "source": [
    "bwd.drop('Store',1,inplace=True)\n",
    "bwd.reset_index(inplace=True)"
   ]
  },
  {
   "cell_type": "code",
   "execution_count": null,
   "metadata": {},
   "outputs": [],
   "source": [
    "fwd.drop('Store',1,inplace=True)\n",
    "fwd.reset_index(inplace=True)"
   ]
  },
  {
   "cell_type": "code",
   "execution_count": null,
   "metadata": {},
   "outputs": [],
   "source": [
    "df.reset_index(inplace=True)"
   ]
  },
  {
   "cell_type": "markdown",
   "metadata": {},
   "source": [
    "Now we'll merge these values onto the df."
   ]
  },
  {
   "cell_type": "code",
   "execution_count": null,
   "metadata": {},
   "outputs": [],
   "source": [
    "df = df.merge(bwd, 'left', ['Date', 'Store'], suffixes=['', '_bw'])\n",
    "df = df.merge(fwd, 'left', ['Date', 'Store'], suffixes=['', '_fw'])"
   ]
  },
  {
   "cell_type": "code",
   "execution_count": null,
   "metadata": {},
   "outputs": [],
   "source": [
    "df.drop(columns,1,inplace=True)"
   ]
  },
  {
   "cell_type": "code",
   "execution_count": null,
   "metadata": {},
   "outputs": [],
   "source": [
    "df.head()"
   ]
  },
  {
   "cell_type": "markdown",
   "metadata": {},
   "source": [
    "It's usually a good idea to back up large tables of extracted / wrangled features before you join them onto another one, that way you can go back to it easily if you need to make changes to it."
   ]
  },
  {
   "cell_type": "code",
   "execution_count": null,
   "metadata": {},
   "outputs": [],
   "source": [
    "df.to_feather(f'{PATH}df')"
   ]
  },
  {
   "cell_type": "code",
   "execution_count": null,
   "metadata": {},
   "outputs": [],
   "source": [
    "df = pd.read_feather(f'{PATH}df')"
   ]
  },
  {
   "cell_type": "code",
   "execution_count": null,
   "metadata": {},
   "outputs": [],
   "source": [
    "df[\"Date\"] = pd.to_datetime(df.Date)"
   ]
  },
  {
   "cell_type": "code",
   "execution_count": null,
   "metadata": {},
   "outputs": [],
   "source": [
    "df.columns"
   ]
  },
  {
   "cell_type": "code",
   "execution_count": null,
   "metadata": {},
   "outputs": [],
   "source": [
    "joined = join_df(joined, df, ['Store', 'Date'])"
   ]
  },
  {
   "cell_type": "code",
   "execution_count": null,
   "metadata": {},
   "outputs": [],
   "source": [
    "joined_test = join_df(joined_test, df, ['Store', 'Date'])"
   ]
  },
  {
   "cell_type": "markdown",
   "metadata": {},
   "source": [
    "The authors also removed all instances where the store had zero sale / was closed. We speculate that this may have cost them a higher standing in the competition. One reason this may be the case is that a little exploratory data analysis reveals that there are often periods where stores are closed, typically for refurbishment. Before and after these periods, there are naturally spikes in sales that one might expect. By ommitting this data from their training, the authors gave up the ability to leverage information about these periods to predict this otherwise volatile behavior."
   ]
  },
  {
   "cell_type": "code",
   "execution_count": null,
   "metadata": {},
   "outputs": [],
   "source": [
    "joined = joined[joined.Sales!=0]"
   ]
  },
  {
   "cell_type": "markdown",
   "metadata": {},
   "source": [
    "We'll back this up as well."
   ]
  },
  {
   "cell_type": "code",
   "execution_count": null,
   "metadata": {},
   "outputs": [],
   "source": [
    "joined.reset_index(inplace=True)\n",
    "joined_test.reset_index(inplace=True)"
   ]
  },
  {
   "cell_type": "code",
   "execution_count": null,
   "metadata": {},
   "outputs": [],
   "source": [
    "joined.to_feather(f'{PATH}joined')\n",
    "joined_test.to_feather(f'{PATH}joined_test')"
   ]
  },
  {
   "cell_type": "markdown",
   "metadata": {},
   "source": [
    "We now have our final set of engineered features.\n",
    "\n",
    "While these steps were explicitly outlined in the paper, these are all fairly typical feature engineering steps for dealing with time series data and are practical in any similar setting."
   ]
  },
  {
   "cell_type": "markdown",
   "metadata": {
    "collapsed": true,
    "heading_collapsed": true
   },
   "source": [
    "## Create features"
   ]
  },
  {
   "cell_type": "code",
   "execution_count": null,
   "metadata": {
    "hidden": true
   },
   "outputs": [],
   "source": [
    "joined = pd.read_feather(f'{PATH}joined')\n",
    "joined_test = pd.read_feather(f'{PATH}joined_test')"
   ]
  },
  {
   "cell_type": "code",
   "execution_count": null,
   "metadata": {
    "hidden": true,
    "scrolled": true
   },
   "outputs": [],
   "source": [
    "joined.head().T.head(40)"
   ]
  },
  {
   "cell_type": "markdown",
   "metadata": {
    "hidden": true
   },
   "source": [
    "Now that we've engineered all our features, we need to convert to input compatible with a neural network.\n",
    "\n",
    "This includes converting categorical variables into contiguous integers or one-hot encodings, normalizing continuous features to standard normal, etc..."
   ]
  },
  {
   "cell_type": "code",
   "execution_count": null,
   "metadata": {
    "hidden": true
   },
   "outputs": [],
   "source": [
    "cat_vars = ['Store', 'DayOfWeek', 'Year', 'Month', 'Day', 'StateHoliday', 'CompetitionMonthsOpen',\n",
    "    'Promo2Weeks', 'StoreType', 'Assortment', 'PromoInterval', 'CompetitionOpenSinceYear', 'Promo2SinceYear',\n",
    "    'State', 'Week', 'Events', 'Promo_fw', 'Promo_bw', 'StateHoliday_fw', 'StateHoliday_bw',\n",
    "    'SchoolHoliday_fw', 'SchoolHoliday_bw']\n",
    "\n",
    "contin_vars = ['CompetitionDistance', 'Max_TemperatureC', 'Mean_TemperatureC', 'Min_TemperatureC',\n",
    "   'Max_Humidity', 'Mean_Humidity', 'Min_Humidity', 'Max_Wind_SpeedKm_h', \n",
    "   'Mean_Wind_SpeedKm_h', 'CloudCover', 'trend', 'trend_DE',\n",
    "   'AfterStateHoliday', 'BeforeStateHoliday', 'Promo', 'SchoolHoliday']\n",
    "\n",
    "n = len(joined); n"
   ]
  },
  {
   "cell_type": "code",
   "execution_count": null,
   "metadata": {
    "hidden": true
   },
   "outputs": [],
   "source": [
    "dep = 'Sales'\n",
    "joined = joined[cat_vars+contin_vars+[dep, 'Date']].copy()"
   ]
  },
  {
   "cell_type": "code",
   "execution_count": null,
   "metadata": {
    "hidden": true
   },
   "outputs": [],
   "source": [
    "joined_test[dep] = 0\n",
    "joined_test = joined_test[cat_vars+contin_vars+[dep, 'Date', 'Id']].copy()"
   ]
  },
  {
   "cell_type": "code",
   "execution_count": null,
   "metadata": {
    "hidden": true
   },
   "outputs": [],
   "source": [
    "for v in cat_vars: joined[v] = joined[v].astype('category').cat.as_ordered()"
   ]
  },
  {
   "cell_type": "code",
   "execution_count": null,
   "metadata": {
    "hidden": true
   },
   "outputs": [],
   "source": [
    "apply_cats(joined_test, joined)"
   ]
  },
  {
   "cell_type": "code",
   "execution_count": null,
   "metadata": {
    "hidden": true
   },
   "outputs": [],
   "source": [
    "for v in contin_vars:\n",
    "    joined[v] = joined[v].astype('float32')\n",
    "    joined_test[v] = joined_test[v].astype('float32')"
   ]
  },
  {
   "cell_type": "markdown",
   "metadata": {
    "hidden": true
   },
   "source": [
    "We're going to run on a sample."
   ]
  },
  {
   "cell_type": "code",
   "execution_count": null,
   "metadata": {
    "hidden": true
   },
   "outputs": [],
   "source": [
    "idxs = get_cv_idxs(n, val_pct=150000/n)\n",
    "joined_samp = joined.iloc[idxs].set_index(\"Date\")\n",
    "samp_size = len(joined_samp); samp_size"
   ]
  },
  {
   "cell_type": "markdown",
   "metadata": {
    "hidden": true
   },
   "source": [
    "To run on the full dataset, use this instead:"
   ]
  },
  {
   "cell_type": "code",
   "execution_count": null,
   "metadata": {
    "hidden": true
   },
   "outputs": [],
   "source": [
    "samp_size = n\n",
    "joined_samp = joined.set_index(\"Date\")"
   ]
  },
  {
   "cell_type": "markdown",
   "metadata": {
    "hidden": true
   },
   "source": [
    "We can now process our data..."
   ]
  },
  {
   "cell_type": "code",
   "execution_count": null,
   "metadata": {
    "hidden": true
   },
   "outputs": [],
   "source": [
    "joined_samp.head(2)"
   ]
  },
  {
   "cell_type": "code",
   "execution_count": null,
   "metadata": {
    "hidden": true
   },
   "outputs": [],
   "source": [
    "df, y, nas, mapper = proc_df(joined_samp, 'Sales', do_scale=True)\n",
    "yl = np.log(y)"
   ]
  },
  {
   "cell_type": "code",
   "execution_count": null,
   "metadata": {
    "hidden": true
   },
   "outputs": [],
   "source": [
    "joined_test = joined_test.set_index(\"Date\")"
   ]
  },
  {
   "cell_type": "code",
   "execution_count": null,
   "metadata": {
    "hidden": true
   },
   "outputs": [],
   "source": [
    "df_test, _, nas, mapper = proc_df(joined_test, 'Sales', do_scale=True, skip_flds=['Id'],\n",
    "                                  mapper=mapper, na_dict=nas)"
   ]
  },
  {
   "cell_type": "code",
   "execution_count": null,
   "metadata": {
    "hidden": true
   },
   "outputs": [],
   "source": [
    "df.head(2)"
   ]
  },
  {
   "cell_type": "markdown",
   "metadata": {
    "hidden": true
   },
   "source": [
    "In time series data, cross-validation is not random. Instead, our holdout data is generally the most recent data, as it would be in real application. This issue is discussed in detail in [this post](http://www.fast.ai/2017/11/13/validation-sets/) on our web site.\n",
    "\n",
    "One approach is to take the last 25% of rows (sorted by date) as our validation set."
   ]
  },
  {
   "cell_type": "code",
   "execution_count": null,
   "metadata": {
    "hidden": true
   },
   "outputs": [],
   "source": [
    "train_ratio = 0.75\n",
    "# train_ratio = 0.9\n",
    "train_size = int(samp_size * train_ratio); train_size\n",
    "val_idx = list(range(train_size, len(df)))"
   ]
  },
  {
   "cell_type": "markdown",
   "metadata": {
    "hidden": true
   },
   "source": [
    "An even better option for picking a validation set is using the exact same length of time period as the test set uses - this is implemented here:"
   ]
  },
  {
   "cell_type": "code",
   "execution_count": null,
   "metadata": {
    "hidden": true
   },
   "outputs": [],
   "source": [
    "val_idx = np.flatnonzero(\n",
    "    (df.index<=datetime.datetime(2014,9,17)) & (df.index>=datetime.datetime(2014,8,1)))"
   ]
  },
  {
   "cell_type": "code",
   "execution_count": null,
   "metadata": {
    "hidden": true
   },
   "outputs": [],
   "source": [
    "val_idx=[0]"
   ]
  },
  {
   "cell_type": "markdown",
   "metadata": {},
   "source": [
    "## DL"
   ]
  },
  {
   "cell_type": "markdown",
   "metadata": {},
   "source": [
    "We're ready to put together our models.\n",
    "\n",
    "Root-mean-squared percent error is the metric Kaggle used for this competition."
   ]
  },
  {
   "cell_type": "code",
   "execution_count": null,
   "metadata": {},
   "outputs": [],
   "source": [
    "def inv_y(a): return np.exp(a)\n",
    "\n",
    "def exp_rmspe(y_pred, targ):\n",
    "    targ = inv_y(targ)\n",
    "    pct_var = (targ - inv_y(y_pred))/targ\n",
    "    return math.sqrt((pct_var**2).mean())\n",
    "\n",
    "max_log_y = np.max(yl)\n",
    "y_range = (0, max_log_y*1.2)"
   ]
  },
  {
   "cell_type": "markdown",
   "metadata": {},
   "source": [
    "We can create a ModelData object directly from out data frame."
   ]
  },
  {
   "cell_type": "code",
   "execution_count": null,
   "metadata": {},
   "outputs": [],
   "source": [
    "md = ColumnarModelData.from_data_frame(PATH, val_idx, df, yl.astype(np.float32), cat_flds=cat_vars, bs=128,\n",
    "                                       test_df=df_test)"
   ]
  },
  {
   "cell_type": "markdown",
   "metadata": {},
   "source": [
    "Some categorical variables have a lot more levels than others. Store, in particular, has over a thousand!"
   ]
  },
  {
   "cell_type": "code",
   "execution_count": null,
   "metadata": {},
   "outputs": [],
   "source": [
    "cat_sz = [(c, len(joined_samp[c].cat.categories)+1) for c in cat_vars]"
   ]
  },
  {
   "cell_type": "code",
   "execution_count": null,
   "metadata": {
    "scrolled": true
   },
   "outputs": [],
   "source": [
    "cat_sz"
   ]
  },
  {
   "cell_type": "markdown",
   "metadata": {},
   "source": [
    "We use the *cardinality* of each variable (that is, its number of unique values) to decide how large to make its *embeddings*. Each level will be associated with a vector with length defined as below."
   ]
  },
  {
   "cell_type": "code",
   "execution_count": null,
   "metadata": {},
   "outputs": [],
   "source": [
    "emb_szs = [(c, min(50, (c+1)//2)) for _,c in cat_sz]"
   ]
  },
  {
   "cell_type": "code",
   "execution_count": null,
   "metadata": {
    "scrolled": true
   },
   "outputs": [],
   "source": [
    "emb_szs"
   ]
  },
  {
   "cell_type": "code",
   "execution_count": null,
   "metadata": {},
   "outputs": [],
   "source": [
    "m = md.get_learner(emb_szs, len(df.columns)-len(cat_vars),\n",
    "                   0.04, 1, [1000,500], [0.001,0.01], y_range=y_range)\n",
    "lr = 1e-3"
   ]
  },
  {
   "cell_type": "code",
   "execution_count": null,
   "metadata": {},
   "outputs": [],
   "source": [
    "m.lr_find()"
   ]
  },
  {
   "cell_type": "code",
   "execution_count": null,
   "metadata": {},
   "outputs": [],
   "source": [
    "m.sched.plot(100)"
   ]
  },
  {
   "cell_type": "markdown",
   "metadata": {
    "heading_collapsed": true
   },
   "source": [
    "### Sample"
   ]
  },
  {
   "cell_type": "code",
   "execution_count": null,
   "metadata": {
    "hidden": true
   },
   "outputs": [],
   "source": [
    "m = md.get_learner(emb_szs, len(df.columns)-len(cat_vars),\n",
    "                   0.04, 1, [1000,500], [0.001,0.01], y_range=y_range)\n",
    "lr = 1e-3"
   ]
  },
  {
   "cell_type": "code",
   "execution_count": null,
   "metadata": {
    "hidden": true
   },
   "outputs": [],
   "source": [
    "m.fit(lr, 3, metrics=[exp_rmspe])"
   ]
  },
  {
   "cell_type": "code",
   "execution_count": null,
   "metadata": {
    "hidden": true
   },
   "outputs": [],
   "source": [
    "m.fit(lr, 5, metrics=[exp_rmspe], cycle_len=1)"
   ]
  },
  {
   "cell_type": "code",
   "execution_count": null,
   "metadata": {
    "hidden": true
   },
   "outputs": [],
   "source": [
    "m.fit(lr, 2, metrics=[exp_rmspe], cycle_len=4)"
   ]
  },
  {
   "cell_type": "markdown",
   "metadata": {
    "heading_collapsed": true
   },
   "source": [
    "### All"
   ]
  },
  {
   "cell_type": "code",
   "execution_count": null,
   "metadata": {
    "hidden": true
   },
   "outputs": [],
   "source": [
    "m = md.get_learner(emb_szs, len(df.columns)-len(cat_vars),\n",
    "                   0.04, 1, [1000,500], [0.001,0.01], y_range=y_range)\n",
    "lr = 1e-3"
   ]
  },
  {
   "cell_type": "code",
   "execution_count": null,
   "metadata": {
    "hidden": true
   },
   "outputs": [],
   "source": [
    "m.fit(lr, 1, metrics=[exp_rmspe])"
   ]
  },
  {
   "cell_type": "code",
   "execution_count": null,
   "metadata": {
    "hidden": true
   },
   "outputs": [],
   "source": [
    "m.fit(lr, 3, metrics=[exp_rmspe])"
   ]
  },
  {
   "cell_type": "code",
   "execution_count": null,
   "metadata": {
    "hidden": true
   },
   "outputs": [],
   "source": [
    "m.fit(lr, 3, metrics=[exp_rmspe], cycle_len=1)"
   ]
  },
  {
   "cell_type": "markdown",
   "metadata": {
    "heading_collapsed": true
   },
   "source": [
    "### Test"
   ]
  },
  {
   "cell_type": "code",
   "execution_count": null,
   "metadata": {
    "hidden": true
   },
   "outputs": [],
   "source": [
    "m = md.get_learner(emb_szs, len(df.columns)-len(cat_vars),\n",
    "                   0.04, 1, [1000,500], [0.001,0.01], y_range=y_range)\n",
    "lr = 1e-3"
   ]
  },
  {
   "cell_type": "code",
   "execution_count": null,
   "metadata": {
    "hidden": true
   },
   "outputs": [],
   "source": [
    "m.fit(lr, 3, metrics=[exp_rmspe])"
   ]
  },
  {
   "cell_type": "code",
   "execution_count": null,
   "metadata": {
    "hidden": true
   },
   "outputs": [],
   "source": [
    "m.fit(lr, 3, metrics=[exp_rmspe], cycle_len=1)"
   ]
  },
  {
   "cell_type": "code",
   "execution_count": null,
   "metadata": {
    "hidden": true
   },
   "outputs": [],
   "source": [
    "m.save('val0')"
   ]
  },
  {
   "cell_type": "code",
   "execution_count": null,
   "metadata": {
    "hidden": true
   },
   "outputs": [],
   "source": [
    "m.load('val0')"
   ]
  },
  {
   "cell_type": "code",
   "execution_count": null,
   "metadata": {
    "hidden": true
   },
   "outputs": [],
   "source": [
    "x,y=m.predict_with_targs()"
   ]
  },
  {
   "cell_type": "code",
   "execution_count": null,
   "metadata": {
    "hidden": true
   },
   "outputs": [],
   "source": [
    "exp_rmspe(x,y)"
   ]
  },
  {
   "cell_type": "code",
   "execution_count": null,
   "metadata": {
    "hidden": true
   },
   "outputs": [],
   "source": [
    "pred_test=m.predict(True)"
   ]
  },
  {
   "cell_type": "code",
   "execution_count": null,
   "metadata": {
    "hidden": true
   },
   "outputs": [],
   "source": [
    "pred_test = np.exp(pred_test)"
   ]
  },
  {
   "cell_type": "code",
   "execution_count": null,
   "metadata": {
    "hidden": true
   },
   "outputs": [],
   "source": [
    "joined_test['Sales']=pred_test"
   ]
  },
  {
   "cell_type": "code",
   "execution_count": null,
   "metadata": {
    "hidden": true
   },
   "outputs": [],
   "source": [
    "csv_fn=f'{PATH}tmp/sub.csv'"
   ]
  },
  {
   "cell_type": "code",
   "execution_count": null,
   "metadata": {
    "hidden": true
   },
   "outputs": [],
   "source": [
    "joined_test[['Id','Sales']].to_csv(csv_fn, index=False)"
   ]
  },
  {
   "cell_type": "code",
   "execution_count": null,
   "metadata": {
    "hidden": true
   },
   "outputs": [],
   "source": [
    "FileLink(csv_fn)"
   ]
  },
  {
   "cell_type": "markdown",
   "metadata": {
    "heading_collapsed": true
   },
   "source": [
    "## RF"
   ]
  },
  {
   "cell_type": "code",
   "execution_count": null,
   "metadata": {
    "hidden": true
   },
   "outputs": [],
   "source": [
    "from sklearn.ensemble import RandomForestRegressor"
   ]
  },
  {
   "cell_type": "code",
   "execution_count": null,
   "metadata": {
    "hidden": true
   },
   "outputs": [],
   "source": [
    "((val,trn), (y_val,y_trn)) = split_by_idx(val_idx, df.values, yl)"
   ]
  },
  {
   "cell_type": "code",
   "execution_count": null,
   "metadata": {
    "hidden": true
   },
   "outputs": [],
   "source": [
    "m = RandomForestRegressor(n_estimators=40, max_features=0.99, min_samples_leaf=2,\n",
    "                          n_jobs=-1, oob_score=True)\n",
    "m.fit(trn, y_trn);"
   ]
  },
  {
   "cell_type": "code",
   "execution_count": null,
   "metadata": {
    "hidden": true
   },
   "outputs": [],
   "source": [
    "preds = m.predict(val)\n",
    "m.score(trn, y_trn), m.score(val, y_val), m.oob_score_, exp_rmspe(preds, y_val)"
   ]
  },
  {
   "cell_type": "code",
   "execution_count": null,
   "metadata": {
    "hidden": true
   },
   "outputs": [],
   "source": []
  }
 ],
 "metadata": {
  "anaconda-cloud": {},
  "kernelspec": {
   "display_name": "Python 3",
   "language": "python",
   "name": "python3"
  },
  "language_info": {
   "codemirror_mode": {
    "name": "ipython",
    "version": 3
   },
   "file_extension": ".py",
   "mimetype": "text/x-python",
   "name": "python",
   "nbconvert_exporter": "python",
   "pygments_lexer": "ipython3",
   "version": "3.6.4"
  },
  "toc": {
   "colors": {
    "hover_highlight": "#DAA520",
    "navigate_num": "#000000",
    "navigate_text": "#333333",
    "running_highlight": "#FF0000",
    "selected_highlight": "#FFD700",
    "sidebar_border": "#EEEEEE",
    "wrapper_background": "#FFFFFF"
   },
   "moveMenuLeft": true,
   "nav_menu": {
    "height": "173px",
    "width": "251px"
   },
   "navigate_menu": true,
   "number_sections": true,
   "sideBar": true,
   "threshold": 4,
   "toc_cell": false,
   "toc_section_display": "block",
   "toc_window_display": false,
   "widenNotebook": false
  }
 },
 "nbformat": 4,
 "nbformat_minor": 2
}
