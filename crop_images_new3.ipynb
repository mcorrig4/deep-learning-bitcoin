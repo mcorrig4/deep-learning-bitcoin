{
 "cells": [
  {
   "cell_type": "code",
   "execution_count": 1,
   "metadata": {},
   "outputs": [
    {
     "data": {
      "text/html": [
       "<style>.container { width:90% !important; }</style>"
      ],
      "text/plain": [
       "<IPython.core.display.HTML object>"
      ]
     },
     "metadata": {},
     "output_type": "display_data"
    }
   ],
   "source": [
    "from IPython.core.display import display, HTML\n",
    "display(HTML(\"<style>.container { width:90% !important; }</style>\"))"
   ]
  },
  {
   "cell_type": "code",
   "execution_count": 2,
   "metadata": {},
   "outputs": [],
   "source": [
    "from mypy.progress_bar import log_progress"
   ]
  },
  {
   "cell_type": "code",
   "execution_count": 3,
   "metadata": {},
   "outputs": [],
   "source": [
    "import cv2\n",
    "from IPython.display import HTML, FileLink\n",
    "from os import listdir\n",
    "from os.path import isfile, join, isdir\n",
    "\n",
    "# Put these at the top of every notebook, to get automatic reloading and inline plotting\n",
    "%reload_ext autoreload\n",
    "%autoreload 2\n",
    "%matplotlib inline\n",
    "\n",
    "# This file contains all the main external libs we'll use\n",
    "from fastai.imports import *\n",
    "from fastai.transforms import *\n",
    "from fastai.conv_learner import *\n",
    "from fastai.model import *\n",
    "from fastai.dataset import *\n",
    "from fastai.sgdr import *\n",
    "from fastai.plots import *\n",
    "\n",
    "# For downloading files\n",
    "from IPython.display import FileLink, FileLinks"
   ]
  },
  {
   "cell_type": "code",
   "execution_count": 4,
   "metadata": {},
   "outputs": [],
   "source": [
    "PATH = \"data/btc/\"\n",
    "SOURCE = f'{PATH}btcgraphs/'\n",
    "DESTINATION = f'{PATH}btcgraphs_cropped/'"
   ]
  },
  {
   "cell_type": "code",
   "execution_count": 5,
   "metadata": {},
   "outputs": [],
   "source": [
    "all_files = []\n",
    "new_files = []\n",
    "\n",
    "\n",
    "\n",
    "for fld in ['1', '1.5']:\n",
    "    for st in ['train', 'test', 'valid']:\n",
    "        if fld == '1.5' and st == 'test':\n",
    "            continue\n",
    "        for cls in ['UP', 'DOWN']:\n",
    "            new_dir = join(DESTINATION, st, cls)\n",
    "            current_dir = join(SOURCE, fld, st, cls)\n",
    "            if fld == 'test':\n",
    "                new_dir = join(DESTINATION, st)\n",
    "            for f in listdir(current_dir):\n",
    "                if isfile(join(current_dir, f)):\n",
    "                    all_files.append(join(current_dir, f))\n",
    "                    f = cls + f\n",
    "                    new_files.append(join(new_dir, f))"
   ]
  },
  {
   "cell_type": "code",
   "execution_count": 6,
   "metadata": {},
   "outputs": [
    {
     "data": {
      "text/plain": [
       "1008310"
      ]
     },
     "execution_count": 6,
     "metadata": {},
     "output_type": "execute_result"
    }
   ],
   "source": [
    "len(all_files)"
   ]
  },
  {
   "cell_type": "markdown",
   "metadata": {},
   "source": [
    "Split this into three parts to allow running this notebook in parallel to make cropping happen faster"
   ]
  },
  {
   "cell_type": "code",
   "execution_count": 7,
   "metadata": {},
   "outputs": [],
   "source": [
    "n = len(all_files)\n",
    "split = int(n/3)"
   ]
  },
  {
   "cell_type": "code",
   "execution_count": 8,
   "metadata": {},
   "outputs": [
    {
     "data": {
      "application/vnd.jupyter.widget-view+json": {
       "model_id": "208c390b10574a358fb2baaacad3b0f1",
       "version_major": 2,
       "version_minor": 0
      },
      "text/html": [
       "<p>Failed to display Jupyter Widget of type <code>VBox</code>.</p>\n",
       "<p>\n",
       "  If you're reading this message in the Jupyter Notebook or JupyterLab Notebook, it may mean\n",
       "  that the widgets JavaScript is still loading. If this message persists, it\n",
       "  likely means that the widgets JavaScript library is either not installed or\n",
       "  not enabled. See the <a href=\"https://ipywidgets.readthedocs.io/en/stable/user_install.html\">Jupyter\n",
       "  Widgets Documentation</a> for setup instructions.\n",
       "</p>\n",
       "<p>\n",
       "  If you're reading this message in another frontend (for example, a static\n",
       "  rendering on GitHub or <a href=\"https://nbviewer.jupyter.org/\">NBViewer</a>),\n",
       "  it may mean that your frontend doesn't currently support widgets.\n",
       "</p>\n"
      ],
      "text/plain": [
       "VBox(children=(HTML(value=''), IntProgress(value=0, max=336104)))"
      ]
     },
     "metadata": {},
     "output_type": "display_data"
    }
   ],
   "source": [
    "# # Split 1\n",
    "# i = 0\n",
    "# for f in log_progress(all_files[0:split], every=10):\n",
    "#     img = cv2.imread(f)\n",
    "#     crop_img = img[0:480, 90:90+480]\n",
    "#     cv2.imwrite(new_files[i], crop_img)\n",
    "#     i += 1\n",
    "\n",
    "# # Split 2\n",
    "# i = split\n",
    "# for f in log_progress(all_files[split:2*split], every=10):\n",
    "#     img = cv2.imread(f)\n",
    "#     crop_img = img[0:480, 90:90+480]\n",
    "#     cv2.imwrite(new_files[i], crop_img)\n",
    "#     i += 1\n",
    "    \n",
    "\n",
    "# Split 3\n",
    "i = 2*split\n",
    "for f in log_progress(all_files[2*split:], every=10):\n",
    "    img = cv2.imread(f)\n",
    "    crop_img = img[0:480, 90:90+480]\n",
    "    cv2.imwrite(new_files[i], crop_img)\n",
    "    i += 1\n",
    "    \n",
    "\n",
    "    "
   ]
  },
  {
   "cell_type": "code",
   "execution_count": null,
   "metadata": {},
   "outputs": [],
   "source": []
  }
 ],
 "metadata": {
  "kernelspec": {
   "display_name": "Python 3",
   "language": "python",
   "name": "python3"
  },
  "language_info": {
   "codemirror_mode": {
    "name": "ipython",
    "version": 3
   },
   "file_extension": ".py",
   "mimetype": "text/x-python",
   "name": "python",
   "nbconvert_exporter": "python",
   "pygments_lexer": "ipython3",
   "version": "3.6.4"
  }
 },
 "nbformat": 4,
 "nbformat_minor": 2
}
