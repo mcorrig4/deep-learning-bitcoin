{
 "cells": [
  {
   "cell_type": "markdown",
   "metadata": {},
   "source": [
    "# Gathering Data and Generating Images for Classification"
   ]
  },
  {
   "cell_type": "markdown",
   "metadata": {},
   "source": [
    "## Gather Cryptocurrency Data from Exchange APIs"
   ]
  },
  {
   "cell_type": "code",
   "execution_count": null,
   "metadata": {},
   "outputs": [],
   "source": []
  },
  {
   "cell_type": "markdown",
   "metadata": {},
   "source": [
    "## Generate Images from Data"
   ]
  },
  {
   "cell_type": "code",
   "execution_count": 4,
   "metadata": {},
   "outputs": [],
   "source": [
    "from IPython.display import FileLink, FileLinks\n"
   ]
  },
  {
   "cell_type": "code",
   "execution_count": 6,
   "metadata": {},
   "outputs": [
    {
     "data": {
      "text/html": [
       "./<br>\n",
       "&nbsp;&nbsp;<a href='./833a1010-fecd-496c-9b1b-f083c93f2d39.png' target='_blank'>833a1010-fecd-496c-9b1b-f083c93f2d39.png</a><br>\n",
       "&nbsp;&nbsp;<a href='./83558622-91e9-4b9b-8052-e525a86a5e84.png' target='_blank'>83558622-91e9-4b9b-8052-e525a86a5e84.png</a><br>\n",
       "&nbsp;&nbsp;<a href='./83049f6f-c29f-4fc7-8fdf-86b4fe939e96.png' target='_blank'>83049f6f-c29f-4fc7-8fdf-86b4fe939e96.png</a><br>\n",
       "&nbsp;&nbsp;<a href='./LICENSE' target='_blank'>LICENSE</a><br>\n",
       "&nbsp;&nbsp;<a href='./83f2cc84-a5d5-4161-930d-0c0396bd33ce.png' target='_blank'>83f2cc84-a5d5-4161-930d-0c0396bd33ce.png</a><br>\n",
       "&nbsp;&nbsp;<a href='./requirements.txt' target='_blank'>requirements.txt</a><br>\n",
       "&nbsp;&nbsp;<a href='./returns_quantization.py' target='_blank'>returns_quantization.py</a><br>\n",
       "&nbsp;&nbsp;<a href='./README.md' target='_blank'>README.md</a><br>\n",
       "&nbsp;&nbsp;<a href='./generate-data.ipynb' target='_blank'>generate-data.ipynb</a><br>\n",
       "&nbsp;&nbsp;<a href='./836cd91e-3e1e-496d-8beb-d8c550134145.png' target='_blank'>836cd91e-3e1e-496d-8beb-d8c550134145.png</a><br>\n",
       "&nbsp;&nbsp;<a href='./83af39da-2248-4e67-8bd3-bcfc97fc567a.png' target='_blank'>83af39da-2248-4e67-8bd3-bcfc97fc567a.png</a><br>\n",
       "&nbsp;&nbsp;<a href='./data_manager.py' target='_blank'>data_manager.py</a><br>\n",
       "&nbsp;&nbsp;<a href='./utils.py' target='_blank'>utils.py</a><br>\n",
       "&nbsp;&nbsp;<a href='./data_download.sh' target='_blank'>data_download.sh</a><br>\n",
       "&nbsp;&nbsp;<a href='./830d9abd-1cc3-4bba-91e4-66e6898dce36.png' target='_blank'>830d9abd-1cc3-4bba-91e4-66e6898dce36.png</a><br>\n",
       "&nbsp;&nbsp;<a href='./83a3f846-2ab8-4f72-8210-54406d352334.png' target='_blank'>83a3f846-2ab8-4f72-8210-54406d352334.png</a><br>\n",
       "&nbsp;&nbsp;<a href='./832eb190-7a0e-45a7-a565-bb579d3104e4.png' target='_blank'>832eb190-7a0e-45a7-a565-bb579d3104e4.png</a><br>\n",
       "&nbsp;&nbsp;<a href='./836c9acc-3cb9-4d01-b34c-b32ac578f1ad.png' target='_blank'>836c9acc-3cb9-4d01-b34c-b32ac578f1ad.png</a><br>\n",
       "&nbsp;&nbsp;<a href='./839ef3e6-c422-401c-a7cd-9a302770e0db.png' target='_blank'>839ef3e6-c422-401c-a7cd-9a302770e0db.png</a><br>\n",
       "&nbsp;&nbsp;<a href='./83d75136-b4b5-4348-adf6-f0ef9635f335.png' target='_blank'>83d75136-b4b5-4348-adf6-f0ef9635f335.png</a><br>\n",
       "&nbsp;&nbsp;<a href='./data_generator.py' target='_blank'>data_generator.py</a><br>\n",
       "&nbsp;&nbsp;<a href='./Dockerfile' target='_blank'>Dockerfile</a><br>\n",
       "&nbsp;&nbsp;<a href='./837b921b-1dec-47af-9dcf-9afa4a2a0dd2.png' target='_blank'>837b921b-1dec-47af-9dcf-9afa4a2a0dd2.png</a><br>\n",
       "&nbsp;&nbsp;<a href='./83126119-59a2-4336-ac8b-87b83bf60511.png' target='_blank'>83126119-59a2-4336-ac8b-87b83bf60511.png</a><br>\n",
       "&nbsp;&nbsp;<a href='./.gitignore' target='_blank'>.gitignore</a><br>\n",
       "&nbsp;&nbsp;<a href='./market-movement-classification.ipynb' target='_blank'>market-movement-classification.ipynb</a><br>\n",
       "./.git/<br>\n",
       "&nbsp;&nbsp;<a href='./.git/index' target='_blank'>index</a><br>\n",
       "&nbsp;&nbsp;<a href='./.git/packed-refs' target='_blank'>packed-refs</a><br>\n",
       "&nbsp;&nbsp;<a href='./.git/config' target='_blank'>config</a><br>\n",
       "&nbsp;&nbsp;<a href='./.git/HEAD' target='_blank'>HEAD</a><br>\n",
       "&nbsp;&nbsp;<a href='./.git/description' target='_blank'>description</a><br>\n",
       "./.git/hooks/<br>\n",
       "&nbsp;&nbsp;<a href='./.git/hooks/post-update.sample' target='_blank'>post-update.sample</a><br>\n",
       "&nbsp;&nbsp;<a href='./.git/hooks/pre-rebase.sample' target='_blank'>pre-rebase.sample</a><br>\n",
       "&nbsp;&nbsp;<a href='./.git/hooks/pre-applypatch.sample' target='_blank'>pre-applypatch.sample</a><br>\n",
       "&nbsp;&nbsp;<a href='./.git/hooks/commit-msg.sample' target='_blank'>commit-msg.sample</a><br>\n",
       "&nbsp;&nbsp;<a href='./.git/hooks/pre-push.sample' target='_blank'>pre-push.sample</a><br>\n",
       "&nbsp;&nbsp;<a href='./.git/hooks/pre-receive.sample' target='_blank'>pre-receive.sample</a><br>\n",
       "&nbsp;&nbsp;<a href='./.git/hooks/update.sample' target='_blank'>update.sample</a><br>\n",
       "&nbsp;&nbsp;<a href='./.git/hooks/prepare-commit-msg.sample' target='_blank'>prepare-commit-msg.sample</a><br>\n",
       "&nbsp;&nbsp;<a href='./.git/hooks/applypatch-msg.sample' target='_blank'>applypatch-msg.sample</a><br>\n",
       "&nbsp;&nbsp;<a href='./.git/hooks/pre-commit.sample' target='_blank'>pre-commit.sample</a><br>\n",
       "./.git/info/<br>\n",
       "&nbsp;&nbsp;<a href='./.git/info/exclude' target='_blank'>exclude</a><br>\n",
       "./.git/logs/<br>\n",
       "&nbsp;&nbsp;<a href='./.git/logs/HEAD' target='_blank'>HEAD</a><br>\n",
       "./.git/logs/refs/heads/<br>\n",
       "&nbsp;&nbsp;<a href='./.git/logs/refs/heads/master' target='_blank'>master</a><br>\n",
       "./.git/logs/refs/remotes/origin/<br>\n",
       "&nbsp;&nbsp;<a href='./.git/logs/refs/remotes/origin/HEAD' target='_blank'>HEAD</a><br>\n",
       "./.git/objects/pack/<br>\n",
       "&nbsp;&nbsp;<a href='./.git/objects/pack/pack-79039aea0ef69923f35d571a3ebb1f2d567a8ac3.pack' target='_blank'>pack-79039aea0ef69923f35d571a3ebb1f2d567a8ac3.pack</a><br>\n",
       "&nbsp;&nbsp;<a href='./.git/objects/pack/pack-79039aea0ef69923f35d571a3ebb1f2d567a8ac3.idx' target='_blank'>pack-79039aea0ef69923f35d571a3ebb1f2d567a8ac3.idx</a><br>\n",
       "./.git/refs/heads/<br>\n",
       "&nbsp;&nbsp;<a href='./.git/refs/heads/master' target='_blank'>master</a><br>\n",
       "./.git/refs/remotes/origin/<br>\n",
       "&nbsp;&nbsp;<a href='./.git/refs/remotes/origin/HEAD' target='_blank'>HEAD</a><br>\n",
       "./.ipynb_checkpoints/<br>\n",
       "&nbsp;&nbsp;<a href='./.ipynb_checkpoints/generate-data-checkpoint.ipynb' target='_blank'>generate-data-checkpoint.ipynb</a><br>\n",
       "&nbsp;&nbsp;<a href='./.ipynb_checkpoints/market-movement-classification-checkpoint.ipynb' target='_blank'>market-movement-classification-checkpoint.ipynb</a><br>\n",
       "./__pycache__/<br>\n",
       "&nbsp;&nbsp;<a href='./__pycache__/utils.cpython-36.pyc' target='_blank'>utils.cpython-36.pyc</a><br>\n",
       "&nbsp;&nbsp;<a href='./__pycache__/data_manager.cpython-36.pyc' target='_blank'>data_manager.cpython-36.pyc</a><br>\n",
       "&nbsp;&nbsp;<a href='./__pycache__/returns_quantization.cpython-36.pyc' target='_blank'>returns_quantization.cpython-36.pyc</a><br>\n",
       "./assets/<br>\n",
       "&nbsp;&nbsp;<a href='./assets/1.png' target='_blank'>1.png</a><br>\n",
       "&nbsp;&nbsp;<a href='./assets/2.png' target='_blank'>2.png</a><br>"
      ],
      "text/plain": [
       "./\n",
       "  833a1010-fecd-496c-9b1b-f083c93f2d39.png\n",
       "  83558622-91e9-4b9b-8052-e525a86a5e84.png\n",
       "  83049f6f-c29f-4fc7-8fdf-86b4fe939e96.png\n",
       "  LICENSE\n",
       "  83f2cc84-a5d5-4161-930d-0c0396bd33ce.png\n",
       "  requirements.txt\n",
       "  returns_quantization.py\n",
       "  README.md\n",
       "  generate-data.ipynb\n",
       "  836cd91e-3e1e-496d-8beb-d8c550134145.png\n",
       "  83af39da-2248-4e67-8bd3-bcfc97fc567a.png\n",
       "  data_manager.py\n",
       "  utils.py\n",
       "  data_download.sh\n",
       "  830d9abd-1cc3-4bba-91e4-66e6898dce36.png\n",
       "  83a3f846-2ab8-4f72-8210-54406d352334.png\n",
       "  832eb190-7a0e-45a7-a565-bb579d3104e4.png\n",
       "  836c9acc-3cb9-4d01-b34c-b32ac578f1ad.png\n",
       "  839ef3e6-c422-401c-a7cd-9a302770e0db.png\n",
       "  83d75136-b4b5-4348-adf6-f0ef9635f335.png\n",
       "  data_generator.py\n",
       "  Dockerfile\n",
       "  837b921b-1dec-47af-9dcf-9afa4a2a0dd2.png\n",
       "  83126119-59a2-4336-ac8b-87b83bf60511.png\n",
       "  .gitignore\n",
       "  market-movement-classification.ipynb\n",
       "./.git/\n",
       "  index\n",
       "  packed-refs\n",
       "  config\n",
       "  HEAD\n",
       "  description\n",
       "./.git/hooks/\n",
       "  post-update.sample\n",
       "  pre-rebase.sample\n",
       "  pre-applypatch.sample\n",
       "  commit-msg.sample\n",
       "  pre-push.sample\n",
       "  pre-receive.sample\n",
       "  update.sample\n",
       "  prepare-commit-msg.sample\n",
       "  applypatch-msg.sample\n",
       "  pre-commit.sample\n",
       "./.git/info/\n",
       "  exclude\n",
       "./.git/logs/\n",
       "  HEAD\n",
       "./.git/logs/refs/heads/\n",
       "  master\n",
       "./.git/logs/refs/remotes/origin/\n",
       "  HEAD\n",
       "./.git/objects/pack/\n",
       "  pack-79039aea0ef69923f35d571a3ebb1f2d567a8ac3.pack\n",
       "  pack-79039aea0ef69923f35d571a3ebb1f2d567a8ac3.idx\n",
       "./.git/refs/heads/\n",
       "  master\n",
       "./.git/refs/remotes/origin/\n",
       "  HEAD\n",
       "./.ipynb_checkpoints/\n",
       "  generate-data-checkpoint.ipynb\n",
       "  market-movement-classification-checkpoint.ipynb\n",
       "./__pycache__/\n",
       "  utils.cpython-36.pyc\n",
       "  data_manager.cpython-36.pyc\n",
       "  returns_quantization.cpython-36.pyc\n",
       "./assets/\n",
       "  1.png\n",
       "  2.png"
      ]
     },
     "execution_count": 6,
     "metadata": {},
     "output_type": "execute_result"
    }
   ],
   "source": [
    "FileLinks('.')"
   ]
  },
  {
   "cell_type": "code",
   "execution_count": null,
   "metadata": {},
   "outputs": [],
   "source": []
  }
 ],
 "metadata": {
  "kernelspec": {
   "display_name": "Python 3",
   "language": "python",
   "name": "python3"
  },
  "language_info": {
   "codemirror_mode": {
    "name": "ipython",
    "version": 3
   },
   "file_extension": ".py",
   "mimetype": "text/x-python",
   "name": "python",
   "nbconvert_exporter": "python",
   "pygments_lexer": "ipython3",
   "version": "3.6.4"
  }
 },
 "nbformat": 4,
 "nbformat_minor": 2
}
