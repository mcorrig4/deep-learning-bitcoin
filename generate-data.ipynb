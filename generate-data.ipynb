{
 "cells": [
  {
   "cell_type": "markdown",
   "metadata": {},
   "source": [
    "# Gathering Data and Generating Images for Classification"
   ]
  },
  {
   "cell_type": "code",
   "execution_count": null,
   "metadata": {},
   "outputs": [],
   "source": [
    "from IPython.display import FileLink, FileLinks\n"
   ]
  },
  {
   "cell_type": "code",
   "execution_count": 6,
   "metadata": {},
   "outputs": [],
   "source": [
    "import os\n",
    "import shutil\n",
    "import sys\n",
    "from time import time\n",
    "from uuid import uuid4\n",
    "\n",
    "import numpy as np\n",
    "import pandas as pd\n",
    "\n",
    "from data_manager import file_processor\n",
    "# from returns_quantization import add_returns_in_place\n",
    "# from utils import *\n",
    "import datetime\n",
    "import matplotlib\n"
   ]
  },
  {
   "cell_type": "code",
   "execution_count": 7,
   "metadata": {},
   "outputs": [],
   "source": [
    "# np.set_printoptions(threshold=np.nan)\n",
    "# pd.set_option('display.height', 1000)\n",
    "# pd.set_option('display.max_rows', 500)\n",
    "# pd.set_option('display.max_columns', 500)\n",
    "# pd.set_option('display.width', 1000)\n",
    "\n",
    "matplotlib.use('Agg')"
   ]
  },
  {
   "cell_type": "code",
   "execution_count": 8,
   "metadata": {},
   "outputs": [],
   "source": [
    "PATH = 'data/btc/'"
   ]
  },
  {
   "cell_type": "markdown",
   "metadata": {},
   "source": [
    "## Gather Cryptocurrency Data from Exchange APIs"
   ]
  },
  {
   "cell_type": "code",
   "execution_count": 9,
   "metadata": {},
   "outputs": [],
   "source": [
    "# TODO?"
   ]
  },
  {
   "cell_type": "markdown",
   "metadata": {},
   "source": [
    "# Functions"
   ]
  },
  {
   "cell_type": "code",
   "execution_count": 10,
   "metadata": {},
   "outputs": [],
   "source": [
    "def compute_returns(p):\n",
    "    close_prices = p['price_close']\n",
    "    close_prices_returns = 100 * ((close_prices.shift(-1) - close_prices) / close_prices).fillna(0.0)\n",
    "    return close_prices_returns.shift(1).fillna(0)"
   ]
  },
  {
   "cell_type": "code",
   "execution_count": 11,
   "metadata": {},
   "outputs": [],
   "source": [
    "def plot_p(df):\n",
    "    import matplotlib.pyplot as plt\n",
    "    from matplotlib.finance import candlestick2_ohlc\n",
    "    fig, ax = plt.subplots()\n",
    "    candlestick2_ohlc(ax,\n",
    "                      df['price_open'].values,\n",
    "                      df['price_high'].values,\n",
    "                      df['price_low'].values,\n",
    "                      df['price_close'].values,\n",
    "                      width=0.6,\n",
    "                      colorup='g',\n",
    "                      colordown='r',\n",
    "                      alpha=1)\n",
    "    plt.show()\n",
    "    print('Done.')"
   ]
  },
  {
   "cell_type": "code",
   "execution_count": 12,
   "metadata": {},
   "outputs": [],
   "source": [
    "def save_to_file(df, filename):\n",
    "    import matplotlib.pyplot as plt\n",
    "    from matplotlib.finance import candlestick2_ohlc\n",
    "    fig, ax = plt.subplots()\n",
    "    candlestick2_ohlc(ax,\n",
    "                      df['price_open'].values,\n",
    "                      df['price_high'].values,\n",
    "                      df['price_low'].values,\n",
    "                      df['price_close'].values,\n",
    "                      width=0.6,\n",
    "                      colorup='g',\n",
    "                      colordown='r',\n",
    "                      alpha=1)\n",
    "    plt.savefig(filename)\n",
    "    plt.close(fig)"
   ]
  },
  {
   "cell_type": "code",
   "execution_count": 13,
   "metadata": {},
   "outputs": [],
   "source": [
    "def mkdir_p(path):\n",
    "    import os\n",
    "    import errno\n",
    "    try:\n",
    "        os.makedirs(path)\n",
    "    except OSError as exc:\n",
    "        if exc.errno == errno.EEXIST and os.path.isdir(path):\n",
    "            pass\n",
    "        else:\n",
    "            raise"
   ]
  },
  {
   "cell_type": "markdown",
   "metadata": {},
   "source": [
    "# Process Tick Data"
   ]
  },
  {
   "cell_type": "code",
   "execution_count": 14,
   "metadata": {},
   "outputs": [],
   "source": [
    "data_file = f'{PATH}coinbaseUSD.csv'\n",
    "data_output_folder = f'{PATH}btcgraphs/'"
   ]
  },
  {
   "cell_type": "markdown",
   "metadata": {},
   "source": [
    "### This is def file_processor Fucntion\n",
    "def file_processor(data_file):"
   ]
  },
  {
   "cell_type": "code",
   "execution_count": 15,
   "metadata": {},
   "outputs": [
    {
     "name": "stdout",
     "output_type": "stream",
     "text": [
      "Reading bitcoin market data file here: data/btc/coinbaseUSD.csv.\n",
      "Done\n"
     ]
    }
   ],
   "source": [
    "print('Reading bitcoin market data file here: {}.'.format(data_file))\n",
    "\n",
    "# create df from tick data\n",
    "# [unix timestamp, price, volume]\n",
    "# use the timestamp as the index\n",
    "d = pd.read_table(data_file, sep=',', header=None, index_col=0, names=['price', 'volume'])\n",
    "\n",
    "# map the index to datetime\n",
    "d.index = d.index.map(lambda ts: datetime.datetime.fromtimestamp(int(ts)))\n",
    "d.index.names = ['DateTime_UTC']\n",
    "\n",
    "# split the prices into 5 minute groups \n",
    "p = pd.DataFrame(d['price'].resample('5Min').ohlc().bfill())\n",
    "p.columns = ['price_open', 'price_high', 'price_low', 'price_close']\n",
    "\n",
    "# sum volume by 5 minute chunks\n",
    "v = pd.DataFrame(d['volume'].resample('5Min').sum())\n",
    "v.columns = ['volume']\n",
    "p['volume'] = v['volume']\n",
    "\n",
    "# # drop NaN values.\n",
    "# p = p.dropna()\n",
    "p.isnull().sum()\n",
    "print('Done')"
   ]
  },
  {
   "cell_type": "code",
   "execution_count": 16,
   "metadata": {},
   "outputs": [
    {
     "name": "stdout",
     "output_type": "stream",
     "text": [
      "price_open     0\n",
      "price_high     0\n",
      "price_low      0\n",
      "price_close    0\n",
      "volume         0\n",
      "dtype: int64\n"
     ]
    }
   ],
   "source": [
    "print(p.isnull().sum())"
   ]
  },
  {
   "cell_type": "code",
   "execution_count": null,
   "metadata": {},
   "outputs": [],
   "source": [
    "# choosing everything starting after 2015.... no data for first 6 days unfortunately... might need to find new data source\n",
    "# p = p.loc[p.index >= datetime.datetime(2015,1,1,0,0,0)]\n",
    "# p.head(n=5)"
   ]
  },
  {
   "cell_type": "markdown",
   "metadata": {},
   "source": [
    "# Generate the Data"
   ]
  },
  {
   "cell_type": "markdown",
   "metadata": {},
   "source": [
    "### This is the generate_cnn_dataset function\n",
    "def generate_cnn_dataset(data_folder, bitcoin_file, get_class_name):"
   ]
  },
  {
   "cell_type": "code",
   "execution_count": 17,
   "metadata": {},
   "outputs": [],
   "source": [
    "data_folder = data_output_folder"
   ]
  },
  {
   "cell_type": "code",
   "execution_count": 18,
   "metadata": {},
   "outputs": [
    {
     "data": {
      "text/plain": [
       "DateTime_UTC\n",
       "2014-12-01 00:30:00     0.000000\n",
       "2014-12-01 00:35:00     0.000000\n",
       "2014-12-01 00:40:00     0.000000\n",
       "2014-12-01 00:45:00    23.333333\n",
       "2014-12-01 00:50:00     0.000000\n",
       "Freq: 5T, Name: price_close, dtype: float64"
      ]
     },
     "execution_count": 18,
     "metadata": {},
     "output_type": "execute_result"
    }
   ],
   "source": [
    "# compute_returns(p)\n",
    "close_prices = p['price_close']\n",
    "close_prices_returns = 100 * ((close_prices.shift(-1) - close_prices) / close_prices).fillna(0.0)\n",
    "close_prices_returns = close_prices_returns.shift(1).fillna(0)\n",
    "close_prices_returns.head(n=5)"
   ]
  },
  {
   "cell_type": "code",
   "execution_count": 19,
   "metadata": {},
   "outputs": [],
   "source": [
    "# def add_returns_in_place(p):  \n",
    "# close_prices_returns = compute_returns(p)\n",
    "num_bins = 10\n",
    "returns_bins = pd.qcut(close_prices_returns, num_bins)\n",
    "bins_categories = returns_bins.values.categories\n",
    "returns_labels = pd.qcut(close_prices_returns, num_bins, labels=False)\n",
    "\n",
    "p['close_price_returns'] = close_prices_returns\n",
    "p['close_price_returns_bins'] = returns_bins\n",
    "p['close_price_returns_labels'] = returns_labels"
   ]
  },
  {
   "cell_type": "code",
   "execution_count": 20,
   "metadata": {},
   "outputs": [
    {
     "data": {
      "text/plain": [
       "IntervalIndex([(-42.016, -0.175], (-0.175, -0.0683], (-0.0683, -0.025], (-0.025, -0.00282], (-0.00282, 0.0], (0.0, 0.00881], (0.00881, 0.0344], (0.0344, 0.0786], (0.0786, 0.181], (0.181, 67.889]]\n",
       "              closed='right',\n",
       "              dtype='interval[float64]')"
      ]
     },
     "execution_count": 20,
     "metadata": {},
     "output_type": "execute_result"
    }
   ],
   "source": [
    "bins_categories"
   ]
  },
  {
   "cell_type": "code",
   "execution_count": 22,
   "metadata": {},
   "outputs": [
    {
     "data": {
      "text/html": [
       "<div>\n",
       "<style scoped>\n",
       "    .dataframe tbody tr th:only-of-type {\n",
       "        vertical-align: middle;\n",
       "    }\n",
       "\n",
       "    .dataframe tbody tr th {\n",
       "        vertical-align: top;\n",
       "    }\n",
       "\n",
       "    .dataframe thead th {\n",
       "        text-align: right;\n",
       "    }\n",
       "</style>\n",
       "<table border=\"1\" class=\"dataframe\">\n",
       "  <thead>\n",
       "    <tr style=\"text-align: right;\">\n",
       "      <th></th>\n",
       "      <th>price_open</th>\n",
       "      <th>price_high</th>\n",
       "      <th>price_low</th>\n",
       "      <th>price_close</th>\n",
       "      <th>volume</th>\n",
       "      <th>close_price_returns</th>\n",
       "      <th>close_price_returns_bins</th>\n",
       "      <th>close_price_returns_labels</th>\n",
       "    </tr>\n",
       "    <tr>\n",
       "      <th>DateTime_UTC</th>\n",
       "      <th></th>\n",
       "      <th></th>\n",
       "      <th></th>\n",
       "      <th></th>\n",
       "      <th></th>\n",
       "      <th></th>\n",
       "      <th></th>\n",
       "      <th></th>\n",
       "    </tr>\n",
       "  </thead>\n",
       "  <tbody>\n",
       "    <tr>\n",
       "      <th>2018-03-06 17:15:00</th>\n",
       "      <td>10755.01</td>\n",
       "      <td>10755.01</td>\n",
       "      <td>10726.00</td>\n",
       "      <td>10727.79</td>\n",
       "      <td>49.783898</td>\n",
       "      <td>-0.252999</td>\n",
       "      <td>(-42.016, -0.175]</td>\n",
       "      <td>0</td>\n",
       "    </tr>\n",
       "    <tr>\n",
       "      <th>2018-03-06 17:20:00</th>\n",
       "      <td>10727.78</td>\n",
       "      <td>10730.00</td>\n",
       "      <td>10725.33</td>\n",
       "      <td>10726.06</td>\n",
       "      <td>42.211314</td>\n",
       "      <td>-0.016126</td>\n",
       "      <td>(-0.025, -0.00282]</td>\n",
       "      <td>3</td>\n",
       "    </tr>\n",
       "    <tr>\n",
       "      <th>2018-03-06 17:25:00</th>\n",
       "      <td>10726.06</td>\n",
       "      <td>10745.00</td>\n",
       "      <td>10726.05</td>\n",
       "      <td>10745.00</td>\n",
       "      <td>35.748204</td>\n",
       "      <td>0.176579</td>\n",
       "      <td>(0.0786, 0.181]</td>\n",
       "      <td>8</td>\n",
       "    </tr>\n",
       "    <tr>\n",
       "      <th>2018-03-06 17:30:00</th>\n",
       "      <td>10745.00</td>\n",
       "      <td>10765.20</td>\n",
       "      <td>10745.00</td>\n",
       "      <td>10758.87</td>\n",
       "      <td>29.571526</td>\n",
       "      <td>0.129083</td>\n",
       "      <td>(0.0786, 0.181]</td>\n",
       "      <td>8</td>\n",
       "    </tr>\n",
       "    <tr>\n",
       "      <th>2018-03-06 17:35:00</th>\n",
       "      <td>10750.42</td>\n",
       "      <td>10788.47</td>\n",
       "      <td>10750.00</td>\n",
       "      <td>10782.98</td>\n",
       "      <td>69.172431</td>\n",
       "      <td>0.224094</td>\n",
       "      <td>(0.181, 67.889]</td>\n",
       "      <td>9</td>\n",
       "    </tr>\n",
       "    <tr>\n",
       "      <th>2018-03-06 17:40:00</th>\n",
       "      <td>10782.98</td>\n",
       "      <td>10799.00</td>\n",
       "      <td>10782.97</td>\n",
       "      <td>10793.53</td>\n",
       "      <td>42.246305</td>\n",
       "      <td>0.097839</td>\n",
       "      <td>(0.0786, 0.181]</td>\n",
       "      <td>8</td>\n",
       "    </tr>\n",
       "    <tr>\n",
       "      <th>2018-03-06 17:45:00</th>\n",
       "      <td>10793.54</td>\n",
       "      <td>10798.30</td>\n",
       "      <td>10793.53</td>\n",
       "      <td>10798.30</td>\n",
       "      <td>29.784662</td>\n",
       "      <td>0.044193</td>\n",
       "      <td>(0.0344, 0.0786]</td>\n",
       "      <td>7</td>\n",
       "    </tr>\n",
       "    <tr>\n",
       "      <th>2018-03-06 17:50:00</th>\n",
       "      <td>10798.29</td>\n",
       "      <td>10798.30</td>\n",
       "      <td>10765.07</td>\n",
       "      <td>10777.56</td>\n",
       "      <td>59.524953</td>\n",
       "      <td>-0.192067</td>\n",
       "      <td>(-42.016, -0.175]</td>\n",
       "      <td>0</td>\n",
       "    </tr>\n",
       "    <tr>\n",
       "      <th>2018-03-06 17:55:00</th>\n",
       "      <td>10777.55</td>\n",
       "      <td>10785.72</td>\n",
       "      <td>10765.70</td>\n",
       "      <td>10773.02</td>\n",
       "      <td>20.400061</td>\n",
       "      <td>-0.042125</td>\n",
       "      <td>(-0.0683, -0.025]</td>\n",
       "      <td>2</td>\n",
       "    </tr>\n",
       "    <tr>\n",
       "      <th>2018-03-06 18:00:00</th>\n",
       "      <td>10773.02</td>\n",
       "      <td>10778.10</td>\n",
       "      <td>10773.01</td>\n",
       "      <td>10778.09</td>\n",
       "      <td>8.187420</td>\n",
       "      <td>0.047062</td>\n",
       "      <td>(0.0344, 0.0786]</td>\n",
       "      <td>7</td>\n",
       "    </tr>\n",
       "    <tr>\n",
       "      <th>2018-03-06 18:05:00</th>\n",
       "      <td>10778.10</td>\n",
       "      <td>10778.10</td>\n",
       "      <td>10725.33</td>\n",
       "      <td>10727.49</td>\n",
       "      <td>62.532337</td>\n",
       "      <td>-0.469471</td>\n",
       "      <td>(-42.016, -0.175]</td>\n",
       "      <td>0</td>\n",
       "    </tr>\n",
       "    <tr>\n",
       "      <th>2018-03-06 18:10:00</th>\n",
       "      <td>10727.48</td>\n",
       "      <td>10727.49</td>\n",
       "      <td>10620.70</td>\n",
       "      <td>10640.00</td>\n",
       "      <td>110.781038</td>\n",
       "      <td>-0.815568</td>\n",
       "      <td>(-42.016, -0.175]</td>\n",
       "      <td>0</td>\n",
       "    </tr>\n",
       "    <tr>\n",
       "      <th>2018-03-06 18:15:00</th>\n",
       "      <td>10639.99</td>\n",
       "      <td>10641.00</td>\n",
       "      <td>10612.53</td>\n",
       "      <td>10612.54</td>\n",
       "      <td>61.301044</td>\n",
       "      <td>-0.258083</td>\n",
       "      <td>(-42.016, -0.175]</td>\n",
       "      <td>0</td>\n",
       "    </tr>\n",
       "    <tr>\n",
       "      <th>2018-03-06 18:20:00</th>\n",
       "      <td>10612.53</td>\n",
       "      <td>10628.01</td>\n",
       "      <td>10589.40</td>\n",
       "      <td>10620.00</td>\n",
       "      <td>106.784905</td>\n",
       "      <td>0.070294</td>\n",
       "      <td>(0.0344, 0.0786]</td>\n",
       "      <td>7</td>\n",
       "    </tr>\n",
       "    <tr>\n",
       "      <th>2018-03-06 18:25:00</th>\n",
       "      <td>10620.00</td>\n",
       "      <td>10637.98</td>\n",
       "      <td>10610.00</td>\n",
       "      <td>10610.00</td>\n",
       "      <td>74.581390</td>\n",
       "      <td>-0.094162</td>\n",
       "      <td>(-0.175, -0.0683]</td>\n",
       "      <td>1</td>\n",
       "    </tr>\n",
       "    <tr>\n",
       "      <th>2018-03-06 18:30:00</th>\n",
       "      <td>10610.00</td>\n",
       "      <td>10630.00</td>\n",
       "      <td>10610.00</td>\n",
       "      <td>10630.00</td>\n",
       "      <td>37.606375</td>\n",
       "      <td>0.188501</td>\n",
       "      <td>(0.181, 67.889]</td>\n",
       "      <td>9</td>\n",
       "    </tr>\n",
       "    <tr>\n",
       "      <th>2018-03-06 18:35:00</th>\n",
       "      <td>10630.00</td>\n",
       "      <td>10667.80</td>\n",
       "      <td>10630.00</td>\n",
       "      <td>10637.68</td>\n",
       "      <td>38.308156</td>\n",
       "      <td>0.072248</td>\n",
       "      <td>(0.0344, 0.0786]</td>\n",
       "      <td>7</td>\n",
       "    </tr>\n",
       "    <tr>\n",
       "      <th>2018-03-06 18:40:00</th>\n",
       "      <td>10637.67</td>\n",
       "      <td>10670.00</td>\n",
       "      <td>10635.07</td>\n",
       "      <td>10661.11</td>\n",
       "      <td>27.492099</td>\n",
       "      <td>0.220255</td>\n",
       "      <td>(0.181, 67.889]</td>\n",
       "      <td>9</td>\n",
       "    </tr>\n",
       "    <tr>\n",
       "      <th>2018-03-06 18:45:00</th>\n",
       "      <td>10661.10</td>\n",
       "      <td>10704.23</td>\n",
       "      <td>10654.28</td>\n",
       "      <td>10685.37</td>\n",
       "      <td>65.937722</td>\n",
       "      <td>0.227556</td>\n",
       "      <td>(0.181, 67.889]</td>\n",
       "      <td>9</td>\n",
       "    </tr>\n",
       "    <tr>\n",
       "      <th>2018-03-06 18:50:00</th>\n",
       "      <td>10685.38</td>\n",
       "      <td>10726.70</td>\n",
       "      <td>10685.37</td>\n",
       "      <td>10726.69</td>\n",
       "      <td>49.074902</td>\n",
       "      <td>0.386697</td>\n",
       "      <td>(0.181, 67.889]</td>\n",
       "      <td>9</td>\n",
       "    </tr>\n",
       "  </tbody>\n",
       "</table>\n",
       "</div>"
      ],
      "text/plain": [
       "                     price_open  price_high  price_low  price_close  \\\n",
       "DateTime_UTC                                                          \n",
       "2018-03-06 17:15:00    10755.01    10755.01   10726.00     10727.79   \n",
       "2018-03-06 17:20:00    10727.78    10730.00   10725.33     10726.06   \n",
       "2018-03-06 17:25:00    10726.06    10745.00   10726.05     10745.00   \n",
       "2018-03-06 17:30:00    10745.00    10765.20   10745.00     10758.87   \n",
       "2018-03-06 17:35:00    10750.42    10788.47   10750.00     10782.98   \n",
       "2018-03-06 17:40:00    10782.98    10799.00   10782.97     10793.53   \n",
       "2018-03-06 17:45:00    10793.54    10798.30   10793.53     10798.30   \n",
       "2018-03-06 17:50:00    10798.29    10798.30   10765.07     10777.56   \n",
       "2018-03-06 17:55:00    10777.55    10785.72   10765.70     10773.02   \n",
       "2018-03-06 18:00:00    10773.02    10778.10   10773.01     10778.09   \n",
       "2018-03-06 18:05:00    10778.10    10778.10   10725.33     10727.49   \n",
       "2018-03-06 18:10:00    10727.48    10727.49   10620.70     10640.00   \n",
       "2018-03-06 18:15:00    10639.99    10641.00   10612.53     10612.54   \n",
       "2018-03-06 18:20:00    10612.53    10628.01   10589.40     10620.00   \n",
       "2018-03-06 18:25:00    10620.00    10637.98   10610.00     10610.00   \n",
       "2018-03-06 18:30:00    10610.00    10630.00   10610.00     10630.00   \n",
       "2018-03-06 18:35:00    10630.00    10667.80   10630.00     10637.68   \n",
       "2018-03-06 18:40:00    10637.67    10670.00   10635.07     10661.11   \n",
       "2018-03-06 18:45:00    10661.10    10704.23   10654.28     10685.37   \n",
       "2018-03-06 18:50:00    10685.38    10726.70   10685.37     10726.69   \n",
       "\n",
       "                         volume  close_price_returns close_price_returns_bins  \\\n",
       "DateTime_UTC                                                                    \n",
       "2018-03-06 17:15:00   49.783898            -0.252999        (-42.016, -0.175]   \n",
       "2018-03-06 17:20:00   42.211314            -0.016126       (-0.025, -0.00282]   \n",
       "2018-03-06 17:25:00   35.748204             0.176579          (0.0786, 0.181]   \n",
       "2018-03-06 17:30:00   29.571526             0.129083          (0.0786, 0.181]   \n",
       "2018-03-06 17:35:00   69.172431             0.224094          (0.181, 67.889]   \n",
       "2018-03-06 17:40:00   42.246305             0.097839          (0.0786, 0.181]   \n",
       "2018-03-06 17:45:00   29.784662             0.044193         (0.0344, 0.0786]   \n",
       "2018-03-06 17:50:00   59.524953            -0.192067        (-42.016, -0.175]   \n",
       "2018-03-06 17:55:00   20.400061            -0.042125        (-0.0683, -0.025]   \n",
       "2018-03-06 18:00:00    8.187420             0.047062         (0.0344, 0.0786]   \n",
       "2018-03-06 18:05:00   62.532337            -0.469471        (-42.016, -0.175]   \n",
       "2018-03-06 18:10:00  110.781038            -0.815568        (-42.016, -0.175]   \n",
       "2018-03-06 18:15:00   61.301044            -0.258083        (-42.016, -0.175]   \n",
       "2018-03-06 18:20:00  106.784905             0.070294         (0.0344, 0.0786]   \n",
       "2018-03-06 18:25:00   74.581390            -0.094162        (-0.175, -0.0683]   \n",
       "2018-03-06 18:30:00   37.606375             0.188501          (0.181, 67.889]   \n",
       "2018-03-06 18:35:00   38.308156             0.072248         (0.0344, 0.0786]   \n",
       "2018-03-06 18:40:00   27.492099             0.220255          (0.181, 67.889]   \n",
       "2018-03-06 18:45:00   65.937722             0.227556          (0.181, 67.889]   \n",
       "2018-03-06 18:50:00   49.074902             0.386697          (0.181, 67.889]   \n",
       "\n",
       "                     close_price_returns_labels  \n",
       "DateTime_UTC                                     \n",
       "2018-03-06 17:15:00                           0  \n",
       "2018-03-06 17:20:00                           3  \n",
       "2018-03-06 17:25:00                           8  \n",
       "2018-03-06 17:30:00                           8  \n",
       "2018-03-06 17:35:00                           9  \n",
       "2018-03-06 17:40:00                           8  \n",
       "2018-03-06 17:45:00                           7  \n",
       "2018-03-06 17:50:00                           0  \n",
       "2018-03-06 17:55:00                           2  \n",
       "2018-03-06 18:00:00                           7  \n",
       "2018-03-06 18:05:00                           0  \n",
       "2018-03-06 18:10:00                           0  \n",
       "2018-03-06 18:15:00                           0  \n",
       "2018-03-06 18:20:00                           7  \n",
       "2018-03-06 18:25:00                           1  \n",
       "2018-03-06 18:30:00                           9  \n",
       "2018-03-06 18:35:00                           7  \n",
       "2018-03-06 18:40:00                           9  \n",
       "2018-03-06 18:45:00                           9  \n",
       "2018-03-06 18:50:00                           9  "
      ]
     },
     "execution_count": 22,
     "metadata": {},
     "output_type": "execute_result"
    }
   ],
   "source": [
    "p.tail(n=20)\n",
    "# return df, bins_categories"
   ]
  },
  {
   "cell_type": "code",
   "execution_count": 23,
   "metadata": {},
   "outputs": [],
   "source": [
    "p.to_csv(f\"{PATH}btc-out.csv\", sep = \"\\t\")"
   ]
  },
  {
   "cell_type": "code",
   "execution_count": null,
   "metadata": {},
   "outputs": [],
   "source": [
    "# btc_df, levels = add_returns_in_place(btc_df)\n",
    "levels = bins_categories\n",
    "\n",
    "print('-' * 80)\n",
    "print('Those values should be roughly equal to 1/len(levels):')\n",
    "for ii in range(len(levels)):\n",
    "    print(ii, np.mean((p['close_price_returns_labels'] == ii).values))\n",
    "print(levels)\n",
    "print('-' * 80)"
   ]
  },
  {
   "cell_type": "code",
   "execution_count": null,
   "metadata": {},
   "outputs": [],
   "source": [
    "def get_price_direction(btc_df, btc_slice, i, slice_size):\n",
    "    last_price = btc_slice[-2:-1]['price_close'].values[0]\n",
    "    next_price = btc_df[i + slice_size:i + slice_size + 1]['price_close'].values[0]\n",
    "    if last_price < next_price:\n",
    "        class_name = 'UP'\n",
    "    else:\n",
    "        class_name = 'DOWN'\n",
    "    return class_name"
   ]
  },
  {
   "cell_type": "code",
   "execution_count": null,
   "metadata": {},
   "outputs": [],
   "source": [
    "# number of periods in our input samples\n",
    "slice_size = 40\n",
    "# 1/10 data \"chuncks\" will be for testing\n",
    "test_every_steps = 10\n",
    "# number of 5-minute periods we are creating chunks from, \n",
    "# need to not start chunk within last 40 or will run out of space\n",
    "n = len(p) - slice_size\n",
    "\n",
    "shutil.rmtree(data_folder, ignore_errors=True)\n",
    "\n",
    "# this is the number of samples we are going to make from the data\n",
    "cycles = 1e6 "
   ]
  },
  {
   "cell_type": "code",
   "execution_count": null,
   "metadata": {},
   "outputs": [],
   "source": [
    "btc_df = p\n",
    "for epoch in range(int(cycles)):\n",
    "    st = time()\n",
    "    \n",
    "    # choose a random starting point\n",
    "    i = np.random.choice(n)\n",
    "    # take following 40 time periods (total 41)\n",
    "    btc_slice = btc_df[i:i + slice_size]\n",
    "\n",
    "    if btc_slice.isnull().values.any():\n",
    "        # sometimes prices are discontinuous and nothing happened in one 5min bucket.\n",
    "        # in that case, we consider this slice as wrong and we raise an exception.\n",
    "        # it's likely to happen at the beginning of the data set where the volumes are low.\n",
    "        raise Exception('NaN values detected. Please remove them.')\n",
    "\n",
    "    class_name = get_price_direction(btc_df, btc_slice, i, slice_size)\n",
    "    save_dir = os.path.join(data_folder, 'train', class_name)\n",
    "    if epoch % test_every_steps == 0:\n",
    "        save_dir = os.path.join(data_folder, 'test', class_name)\n",
    "    mkdir_p(save_dir)\n",
    "    filename = save_dir + '/' + str(uuid4()) + '.png'\n",
    "    save_to_file(btc_slice, filename=filename)\n",
    "    print('epoch = {0}, time = {1:.3f}, filename = {2}'.format(str(epoch).zfill(8), time() - st, filename))"
   ]
  },
  {
   "cell_type": "code",
   "execution_count": null,
   "metadata": {},
   "outputs": [],
   "source": [
    "\n"
   ]
  }
 ],
 "metadata": {
  "kernelspec": {
   "display_name": "Python 3",
   "language": "python",
   "name": "python3"
  },
  "language_info": {
   "codemirror_mode": {
    "name": "ipython",
    "version": 3
   },
   "file_extension": ".py",
   "mimetype": "text/x-python",
   "name": "python",
   "nbconvert_exporter": "python",
   "pygments_lexer": "ipython3",
   "version": "3.6.4"
  }
 },
 "nbformat": 4,
 "nbformat_minor": 2
}
