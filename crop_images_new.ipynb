{
 "cells": [
  {
   "cell_type": "code",
   "execution_count": 1,
   "metadata": {},
   "outputs": [
    {
     "data": {
      "text/html": [
       "<style>.container { width:90% !important; }</style>"
      ],
      "text/plain": [
       "<IPython.core.display.HTML object>"
      ]
     },
     "metadata": {},
     "output_type": "display_data"
    }
   ],
   "source": [
    "from IPython.core.display import display, HTML\n",
    "display(HTML(\"<style>.container { width:90% !important; }</style>\"))"
   ]
  },
  {
   "cell_type": "code",
   "execution_count": 1,
   "metadata": {},
   "outputs": [],
   "source": [
    "from mypy.progress_bar import log_progress"
   ]
  },
  {
   "cell_type": "code",
   "execution_count": 2,
   "metadata": {},
   "outputs": [],
   "source": [
    "import cv2\n",
    "from IPython.display import HTML, FileLink\n",
    "from os import listdir\n",
    "from os.path import isfile, join, isdir\n",
    "\n",
    "# Put these at the top of every notebook, to get automatic reloading and inline plotting\n",
    "%reload_ext autoreload\n",
    "%autoreload 2\n",
    "%matplotlib inline\n",
    "\n",
    "# This file contains all the main external libs we'll use\n",
    "from fastai.imports import *\n",
    "from fastai.transforms import *\n",
    "from fastai.conv_learner import *\n",
    "from fastai.model import *\n",
    "from fastai.dataset import *\n",
    "from fastai.sgdr import *\n",
    "from fastai.plots import *\n",
    "\n",
    "# For downloading files\n",
    "from IPython.display import FileLink, FileLinks"
   ]
  },
  {
   "cell_type": "code",
   "execution_count": 7,
   "metadata": {},
   "outputs": [],
   "source": [
    "PATH = \"data/btc/\"\n",
    "SOURCE = f'{PATH}btcgraphs/'\n",
    "DESTINATION = f'{PATH}btcgraphs_cropped/'"
   ]
  },
  {
   "cell_type": "code",
   "execution_count": 8,
   "metadata": {},
   "outputs": [],
   "source": [
    "all_files = []\n",
    "new_files = []\n",
    "\n",
    "\n",
    "\n",
    "for fld in ['1', '1.5']:\n",
    "    for st in ['train', 'test', 'valid']:\n",
    "        if fld == '1.5' and st == 'test':\n",
    "            continue\n",
    "        for cls in ['UP', 'DOWN']:\n",
    "            new_dir = join(DESTINATION, st, cls)\n",
    "            current_dir = join(SOURCE, fld, st, cls)\n",
    "            for f in listdir(current_dir):\n",
    "                if isfile(join(current_dir, f)):\n",
    "                    all_files.append(join(current_dir, f))\n",
    "                    new_files.append(join(new_dir, f))"
   ]
  },
  {
   "cell_type": "code",
   "execution_count": 9,
   "metadata": {},
   "outputs": [
    {
     "name": "stdout",
     "output_type": "stream",
     "text": [
      "['data/btc/btcgraphs/1/train/UP/1a18e7f7-f874-4565-aded-e1d46b7a9474.png', 'data/btc/btcgraphs/1/train/UP/6ea4e7f2-e509-431c-b72b-2c862cfb4dfe.png', 'data/btc/btcgraphs/1/train/UP/0a9c0cc6-65b9-47d9-b2b0-9f82cc091e3e.png']\n"
     ]
    }
   ],
   "source": [
    "print(all_files[0:3])"
   ]
  },
  {
   "cell_type": "code",
   "execution_count": 10,
   "metadata": {},
   "outputs": [
    {
     "name": "stdout",
     "output_type": "stream",
     "text": [
      "['data/btc/btcgraphs_cropped/train/UP/1a18e7f7-f874-4565-aded-e1d46b7a9474.png', 'data/btc/btcgraphs_cropped/train/UP/6ea4e7f2-e509-431c-b72b-2c862cfb4dfe.png', 'data/btc/btcgraphs_cropped/train/UP/0a9c0cc6-65b9-47d9-b2b0-9f82cc091e3e.png']\n"
     ]
    }
   ],
   "source": [
    "print(new_files[0:3])"
   ]
  },
  {
   "cell_type": "code",
   "execution_count": 11,
   "metadata": {},
   "outputs": [
    {
     "data": {
      "text/html": [
       "<a href='data/btc/btcgraphs/1/train/UP/1a18e7f7-f874-4565-aded-e1d46b7a9474.png' target='_blank'>data/btc/btcgraphs/1/train/UP/1a18e7f7-f874-4565-aded-e1d46b7a9474.png</a><br>"
      ],
      "text/plain": [
       "/home/liam/crypto-project/fast-crypto-ai/data/btc/btcgraphs/1/train/UP/1a18e7f7-f874-4565-aded-e1d46b7a9474.png"
      ]
     },
     "execution_count": 11,
     "metadata": {},
     "output_type": "execute_result"
    }
   ],
   "source": [
    "FileLink(all_files[0])"
   ]
  },
  {
   "cell_type": "code",
   "execution_count": 12,
   "metadata": {},
   "outputs": [
    {
     "data": {
      "text/plain": [
       "<matplotlib.image.AxesImage at 0x7f2c1b788908>"
      ]
     },
     "execution_count": 12,
     "metadata": {},
     "output_type": "execute_result"
    },
    {
     "data": {
      "image/png": "[encoded data removed]",
      "text/plain": [
       "<matplotlib.figure.Figure at 0x7f2c1c19e828>"
      ]
     },
     "metadata": {},
     "output_type": "display_data"
    }
   ],
   "source": [
    "img = cv2.imread(all_files[0])\n",
    "plt.imshow(img)"
   ]
  },
  {
   "cell_type": "code",
   "execution_count": 13,
   "metadata": {},
   "outputs": [
    {
     "data": {
      "text/plain": [
       "<matplotlib.image.AxesImage at 0x7f2c1c4cf6a0>"
      ]
     },
     "execution_count": 13,
     "metadata": {},
     "output_type": "execute_result"
    },
    {
     "data": {
      "image/png": "[encoded data removed]",
      "text/plain": [
       "<matplotlib.figure.Figure at 0x7f2c1b0e5198>"
      ]
     },
     "metadata": {},
     "output_type": "display_data"
    }
   ],
   "source": [
    "crop_img = img[0:480, 90:90+480]\n",
    "plt.imshow(crop_img)"
   ]
  },
  {
   "cell_type": "code",
   "execution_count": null,
   "metadata": {},
   "outputs": [
    {
     "data": {
      "application/vnd.jupyter.widget-view+json": {
       "model_id": "36d86359717442c29435522709ab9624",
       "version_major": 2,
       "version_minor": 0
      },
      "text/html": [
       "<p>Failed to display Jupyter Widget of type <code>VBox</code>.</p>\n",
       "<p>\n",
       "  If you're reading this message in the Jupyter Notebook or JupyterLab Notebook, it may mean\n",
       "  that the widgets JavaScript is still loading. If this message persists, it\n",
       "  likely means that the widgets JavaScript library is either not installed or\n",
       "  not enabled. See the <a href=\"https://ipywidgets.readthedocs.io/en/stable/user_install.html\">Jupyter\n",
       "  Widgets Documentation</a> for setup instructions.\n",
       "</p>\n",
       "<p>\n",
       "  If you're reading this message in another frontend (for example, a static\n",
       "  rendering on GitHub or <a href=\"https://nbviewer.jupyter.org/\">NBViewer</a>),\n",
       "  it may mean that your frontend doesn't currently support widgets.\n",
       "</p>\n"
      ],
      "text/plain": [
       "VBox(children=(HTML(value=''), IntProgress(value=0, max=1008310)))"
      ]
     },
     "metadata": {},
     "output_type": "display_data"
    }
   ],
   "source": [
    "i = 0\n",
    "for f in log_progress(all_files, every=10):\n",
    "    img = cv2.imread(f)\n",
    "    crop_img = img[0:480, 90:90+480]\n",
    "    cv2.imwrite(new_files[i], crop_img)\n",
    "    i += 1\n",
    "\n",
    "    \n",
    "\n",
    "    "
   ]
  },
  {
   "cell_type": "code",
   "execution_count": null,
   "metadata": {},
   "outputs": [],
   "source": []
  }
 ],
 "metadata": {
  "kernelspec": {
   "display_name": "Python 3",
   "language": "python",
   "name": "python3"
  },
  "language_info": {
   "codemirror_mode": {
    "name": "ipython",
    "version": 3
   },
   "file_extension": ".py",
   "mimetype": "text/x-python",
   "name": "python",
   "nbconvert_exporter": "python",
   "pygments_lexer": "ipython3",
   "version": "3.6.4"
  }
 },
 "nbformat": 4,
 "nbformat_minor": 2
}
