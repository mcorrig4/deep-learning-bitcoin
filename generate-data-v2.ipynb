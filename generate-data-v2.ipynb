{
 "cells": [
  {
   "cell_type": "markdown",
   "metadata": {},
   "source": [
    "# Gathering Data V2\n"
   ]
  },
  {
   "cell_type": "code",
   "execution_count": null,
   "metadata": {},
   "outputs": [],
   "source": [
    "from IPython.display import FileLink, FileLinks\n"
   ]
  },
  {
   "cell_type": "code",
   "execution_count": null,
   "metadata": {},
   "outputs": [],
   "source": [
    "import os\n",
    "import shutil\n",
    "import sys\n",
    "from time import time\n",
    "from uuid import uuid4\n",
    "\n",
    "import numpy as np\n",
    "import pandas as pd\n",
    "\n",
    "from data_manager import file_processor\n",
    "# from returns_quantization import add_returns_in_place\n",
    "# from utils import *\n",
    "import datetime\n",
    "import matplotlib\n"
   ]
  },
  {
   "cell_type": "code",
   "execution_count": null,
   "metadata": {},
   "outputs": [],
   "source": [
    "# np.set_printoptions(threshold=np.nan)\n",
    "# pd.set_option('display.height', 1000)\n",
    "# pd.set_option('display.max_rows', 500)\n",
    "# pd.set_option('display.max_columns', 500)\n",
    "# pd.set_option('display.width', 1000)\n",
    "\n",
    "matplotlib.use('Agg')"
   ]
  },
  {
   "cell_type": "code",
   "execution_count": null,
   "metadata": {},
   "outputs": [],
   "source": [
    "PATH = 'data/btc/'"
   ]
  },
  {
   "cell_type": "markdown",
   "metadata": {},
   "source": [
    "# Functions"
   ]
  },
  {
   "cell_type": "code",
   "execution_count": null,
   "metadata": {},
   "outputs": [],
   "source": [
    "def compute_returns(p):\n",
    "    close_prices = p['price_close']\n",
    "    close_prices_returns = 100 * ((close_prices.shift(-1) - close_prices) / close_prices).fillna(0.0)\n",
    "    return close_prices_returns.shift(1).fillna(0)"
   ]
  },
  {
   "cell_type": "code",
   "execution_count": null,
   "metadata": {},
   "outputs": [],
   "source": [
    "def plot_p(df):\n",
    "    import matplotlib.pyplot as plt\n",
    "    from matplotlib.finance import candlestick2_ohlc\n",
    "    fig, ax = plt.subplots()\n",
    "    candlestick2_ohlc(ax,\n",
    "                      df['price_open'].values,\n",
    "                      df['price_high'].values,\n",
    "                      df['price_low'].values,\n",
    "                      df['price_close'].values,\n",
    "                      width=0.6,\n",
    "                      colorup='g',\n",
    "                      colordown='r',\n",
    "                      alpha=1)\n",
    "    plt.show()\n",
    "    print('Done.')"
   ]
  },
  {
   "cell_type": "code",
   "execution_count": null,
   "metadata": {},
   "outputs": [],
   "source": [
    "def save_to_file(df, filename):\n",
    "    import matplotlib.pyplot as plt\n",
    "    from matplotlib.finance import candlestick2_ohlc\n",
    "    fig, ax = plt.subplots()\n",
    "    candlestick2_ohlc(ax,\n",
    "                      df['price_open'].values,\n",
    "                      df['price_high'].values,\n",
    "                      df['price_low'].values,\n",
    "                      df['price_close'].values,\n",
    "                      width=0.6,\n",
    "                      colorup='g',\n",
    "                      colordown='r',\n",
    "                      alpha=1)\n",
    "    plt.savefig(filename)\n",
    "    plt.close(fig)"
   ]
  },
  {
   "cell_type": "code",
   "execution_count": null,
   "metadata": {},
   "outputs": [],
   "source": [
    "def mkdir_p(path):\n",
    "    import os\n",
    "    import errno\n",
    "    try:\n",
    "        os.makedirs(path)\n",
    "    except OSError as exc:\n",
    "        if exc.errno == errno.EEXIST and os.path.isdir(path):\n",
    "            pass\n",
    "        else:\n",
    "            raise"
   ]
  },
  {
   "cell_type": "markdown",
   "metadata": {},
   "source": [
    "# Process Tick Data"
   ]
  },
  {
   "cell_type": "code",
   "execution_count": null,
   "metadata": {},
   "outputs": [],
   "source": [
    "data_file = f'{PATH}train2015_01_27__2018_02_06.csv'\n",
    "data_file_test = f'{PATH}test2018_02_06__2018_03_06.csv'\n",
    "data_output_folder = f'{PATH}btcgraphs/1/'"
   ]
  },
  {
   "cell_type": "markdown",
   "metadata": {},
   "source": [
    "### This is def file_processor Fucntion\n",
    "def file_processor(data_file):"
   ]
  },
  {
   "cell_type": "code",
   "execution_count": null,
   "metadata": {},
   "outputs": [],
   "source": [
    "print('Reading bitcoin market data file here: {}.'.format(data_file))\n",
    "\n",
    "# create df from tick data\n",
    "# [unix timestamp, price, volume]\n",
    "# use the timestamp as the index\n",
    "d = pd.read_table(data_file, sep=',', header=None, index_col=0, names=['price', 'volume'])\n",
    "\n",
    "# map the index to datetime\n",
    "d.index = d.index.map(lambda ts: datetime.datetime.fromtimestamp(int(ts)))\n",
    "d.index.names = ['DateTime_UTC']\n",
    "\n",
    "# split the prices into 5 minute groups \n",
    "p = pd.DataFrame(d['price'].resample('5Min').ohlc().bfill())\n",
    "p.columns = ['price_open', 'price_high', 'price_low', 'price_close']\n",
    "\n",
    "# sum volume by 5 minute chunks\n",
    "v = pd.DataFrame(d['volume'].resample('5Min').sum())\n",
    "v.columns = ['volume']\n",
    "p['volume'] = v['volume']\n",
    "\n",
    "print('Done')"
   ]
  },
  {
   "cell_type": "code",
   "execution_count": null,
   "metadata": {},
   "outputs": [],
   "source": [
    "print(p.isnull().sum())"
   ]
  },
  {
   "cell_type": "code",
   "execution_count": null,
   "metadata": {},
   "outputs": [],
   "source": [
    "print('Reading bitcoin market data file here: {}.'.format(data_file_test))\n",
    "\n",
    "# create df from tick data\n",
    "# [unix timestamp, price, volume]\n",
    "# use the timestamp as the index\n",
    "d = pd.read_table(data_file, sep=',', header=None, index_col=0, names=['price', 'volume'])\n",
    "\n",
    "# map the index to datetime\n",
    "d.index = d.index.map(lambda ts: datetime.datetime.fromtimestamp(int(ts)))\n",
    "d.index.names = ['DateTime_UTC']\n",
    "\n",
    "# split the prices into 5 minute groups \n",
    "p_test = pd.DataFrame(d['price'].resample('5Min').ohlc().bfill())\n",
    "p_test.columns = ['price_open', 'price_high', 'price_low', 'price_close']\n",
    "\n",
    "# sum volume by 5 minute chunks\n",
    "v = pd.DataFrame(d['volume'].resample('5Min').sum())\n",
    "v.columns = ['volume']\n",
    "p_test['volume'] = v['volume']\n",
    "\n",
    "# # drop NaN values.\n",
    "# p = p.dropna()\n",
    "print(p_test.isnull().sum())\n",
    "print('Done')"
   ]
  },
  {
   "cell_type": "markdown",
   "metadata": {},
   "source": [
    "# Generate the Data"
   ]
  },
  {
   "cell_type": "markdown",
   "metadata": {},
   "source": [
    "### This is the generate_cnn_dataset function\n",
    "def generate_cnn_dataset(data_folder, bitcoin_file, get_class_name):"
   ]
  },
  {
   "cell_type": "code",
   "execution_count": null,
   "metadata": {},
   "outputs": [],
   "source": [
    "data_folder = data_output_folder"
   ]
  },
  {
   "cell_type": "code",
   "execution_count": null,
   "metadata": {},
   "outputs": [],
   "source": [
    "# compute_returns(p)\n",
    "close_prices = p['price_close']\n",
    "close_prices_returns = 100 * ((close_prices.shift(-1) - close_prices) / close_prices).fillna(0.0)\n",
    "close_prices_returns = close_prices_returns.shift(1).fillna(0)\n",
    "close_prices_returns.head(n=5)"
   ]
  },
  {
   "cell_type": "code",
   "execution_count": null,
   "metadata": {},
   "outputs": [],
   "source": [
    "# def add_returns_in_place(p):  \n",
    "# close_prices_returns = compute_returns(p)\n",
    "num_bins = 10\n",
    "returns_bins = pd.qcut(close_prices_returns, num_bins)\n",
    "bins_categories = returns_bins.values.categories\n",
    "returns_labels = pd.qcut(close_prices_returns, num_bins, labels=False)\n",
    "\n",
    "p['close_price_returns'] = close_prices_returns\n",
    "p['close_price_returns_bins'] = returns_bins\n",
    "p['close_price_returns_labels'] = returns_labels"
   ]
  },
  {
   "cell_type": "code",
   "execution_count": null,
   "metadata": {},
   "outputs": [],
   "source": [
    "p.tail(n=20)\n",
    "# return df, bins_categories"
   ]
  },
  {
   "cell_type": "code",
   "execution_count": null,
   "metadata": {},
   "outputs": [],
   "source": [
    "# btc_df, levels = add_returns_in_place(btc_df)\n",
    "levels = bins_categories\n",
    "\n",
    "print('-' * 80)\n",
    "print('Those values should be roughly equal to 1/len(levels):')\n",
    "for ii in range(len(levels)):\n",
    "    print(ii, np.mean((p['close_price_returns_labels'] == ii).values))\n",
    "print(levels)\n",
    "print('-' * 80)"
   ]
  },
  {
   "cell_type": "markdown",
   "metadata": {},
   "source": [
    "Two class UP/DOWN version"
   ]
  },
  {
   "cell_type": "code",
   "execution_count": null,
   "metadata": {},
   "outputs": [],
   "source": [
    "def get_price_direction(btc_df, btc_slice, i, slice_size):\n",
    "    last_price = btc_slice[-2:-1]['price_close'].values[0]\n",
    "    next_price = btc_df[i + slice_size:i + slice_size + 1]['price_close'].values[0]\n",
    "    if last_price < next_price:\n",
    "        class_name = 'UP'\n",
    "    else:\n",
    "        class_name = 'DOWN'\n",
    "    return class_name"
   ]
  },
  {
   "cell_type": "markdown",
   "metadata": {},
   "source": [
    "Three class version UP/DOWN/HOLD"
   ]
  },
  {
   "cell_type": "markdown",
   "metadata": {},
   "source": [
    "movement_threshold = 1e-4 # this is a $0.10 movement at BTC = $10,000"
   ]
  },
  {
   "cell_type": "markdown",
   "metadata": {},
   "source": [
    "def get_price_direction2(btc_df, btc_slice, i, slice_size):\n",
    "    last_price = btc_slice[-2:-1]['price_close'].values[0]\n",
    "    next_price = btc_df[i + slice_size:i + slice_size + 1]['price_close'].values[0]\n",
    "    dif = next_price - last_price\n",
    "    if dif > movement_threshold:\n",
    "        class_name = 'UP'\n",
    "    elif dif < -movement_threshold:\n",
    "        class_name = 'DOWN'\n",
    "    else:\n",
    "        class_name = 'HOLD'\n",
    "    return class_name"
   ]
  },
  {
   "cell_type": "code",
   "execution_count": null,
   "metadata": {},
   "outputs": [],
   "source": [
    "# number of periods in our input samples\n",
    "slice_size = 40\n",
    "# 1/10 data \"chuncks\" will be for testing\n",
    "test_every_steps = 10\n",
    "# number of 5-minute periods we are creating chunks from, \n",
    "# need to not start chunk within last 40 or will run out of space\n",
    "n = len(p) - slice_size\n",
    "\n",
    "shutil.rmtree(data_folder, ignore_errors=True)\n",
    "\n",
    "# this is the number of samples we are going to make from the data\n",
    "cycles = 1e6 "
   ]
  },
  {
   "cell_type": "code",
   "execution_count": null,
   "metadata": {},
   "outputs": [],
   "source": [
    "btc_df = p\n",
    "for epoch in range(int(cycles)):\n",
    "    st = time()\n",
    "    \n",
    "    # choose a random starting point\n",
    "    i = np.random.choice(n)\n",
    "    # take following 40 time periods (total 41)\n",
    "    btc_slice = btc_df[i:i + slice_size]\n",
    "\n",
    "    if btc_slice.isnull().values.any():\n",
    "        # sometimes prices are discontinuous and nothing happened in one 5min bucket.\n",
    "        # in that case, we consider this slice as wrong and we raise an exception.\n",
    "        # it's likely to happen at the beginning of the data set where the volumes are low.\n",
    "        raise Exception('NaN values detected. Please remove them.')\n",
    "\n",
    "    class_name = get_price_direction(btc_df, btc_slice, i, slice_size)\n",
    "    save_dir = os.path.join(data_folder, 'train', class_name)\n",
    "    if epoch % test_every_steps == 0:\n",
    "        save_dir = os.path.join(data_folder, 'valid', class_name)\n",
    "    mkdir_p(save_dir)\n",
    "    filename = save_dir + '/' + str(uuid4()) + '.png'\n",
    "    save_to_file(btc_slice, filename=filename)\n",
    "    print('epoch = {0}, time = {1:.3f}, filename = {2}'.format(str(epoch).zfill(8), time() - st, filename))"
   ]
  },
  {
   "cell_type": "code",
   "execution_count": null,
   "metadata": {},
   "outputs": [],
   "source": [
    "btc_df = p_test\n",
    "nrow = len(p_test.index)\n",
    "for epoch in range(int(nrow-slice_size-1)):\n",
    "    st = time()\n",
    "    \n",
    "    # choose a random starting point\n",
    "    i = epoch\n",
    "    # take following 40 time periods (total 41)\n",
    "    btc_slice = btc_df[i:i + slice_size]\n",
    "\n",
    "    if btc_slice.isnull().values.any():\n",
    "        # sometimes prices are discontinuous and nothing happened in one 5min bucket.\n",
    "        # in that case, we consider this slice as wrong and we raise an exception.\n",
    "        # it's likely to happen at the beginning of the data set where the volumes are low.\n",
    "        raise Exception('NaN values detected. Please remove them.')\n",
    "\n",
    "    class_name = get_price_direction(btc_df, btc_slice, i, slice_size)\n",
    "    save_dir = os.path.join(data_folder, 'test', class_name)\n",
    "    mkdir_p(save_dir)\n",
    "    filename = save_dir + '/' + str(uuid4()) + '.png'\n",
    "    save_to_file(btc_slice, filename=filename)\n",
    "    print('epoch = {0}, time = {1:.3f}, filename = {2}'.format(str(epoch).zfill(8), time() - st, filename))"
   ]
  }
 ],
 "metadata": {
  "kernelspec": {
   "display_name": "Python 3",
   "language": "python",
   "name": "python3"
  },
  "language_info": {
   "codemirror_mode": {
    "name": "ipython",
    "version": 3
   },
   "file_extension": ".py",
   "mimetype": "text/x-python",
   "name": "python",
   "nbconvert_exporter": "python",
   "pygments_lexer": "ipython3",
   "version": "3.6.4"
  }
 },
 "nbformat": 4,
 "nbformat_minor": 2
}
