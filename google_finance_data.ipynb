{
 "cells": [
  {
   "cell_type": "markdown",
   "metadata": {},
   "source": [
    "# Get New Test Data from Google Finance"
   ]
  },
  {
   "cell_type": "code",
   "execution_count": 1,
   "metadata": {},
   "outputs": [],
   "source": [
    "import csv\n",
    "import datetime\n",
    "import re\n",
    "import codecs\n",
    "import requests\n",
    "import pandas as pd\n",
    "# import cufflinks as cf\n",
    "# from plotly.offline import init_notebook_mode, iplot"
   ]
  },
  {
   "cell_type": "code",
   "execution_count": 2,
   "metadata": {},
   "outputs": [],
   "source": [
    "def get_google_finance_intraday(ticker, period=60, days=1, exchange='NASD'):\n",
    "    \"\"\"\n",
    "    Retrieve intraday stock data from Google Finance.\n",
    "    \n",
    "    Parameters\n",
    "    ----------------\n",
    "    ticker : str\n",
    "        Company ticker symbol.\n",
    "    period : int\n",
    "        Interval between stock values in seconds.\n",
    "        i = 60 corresponds to one minute tick data\n",
    "        i = 86400 corresponds to daily data\n",
    "    days : int\n",
    "        Number of days of data to retrieve.\n",
    "    exchange : str\n",
    "        Exchange from which the quotes should be fetched\n",
    "    \n",
    "    Returns\n",
    "    ---------------\n",
    "    df : pandas.DataFrame\n",
    "        DataFrame containing the opening price, high price, low price,\n",
    "        closing price, and volume. The index contains the times associated with\n",
    "        the retrieved price values.\n",
    "    \"\"\"\n",
    " \n",
    "    # build url\n",
    "    url = 'https://finance.google.com/finance/getprices' + \\\n",
    "          '?p={days}d&f=d,o,h,l,c,v&q={ticker}&i={period}&x={exchange}'.format(ticker=ticker, \n",
    "                                                                               period=period, \n",
    "                                                                               days=days,\n",
    "                                                                               exchange=exchange)\n",
    "    \n",
    "    page = requests.get(url)\n",
    "    reader = csv.reader(codecs.iterdecode(page.content.splitlines(), \"utf-8\"))\n",
    "    columns = ['Open', 'High', 'Low', 'Close', 'Volume']\n",
    "    rows = []\n",
    "    times = []\n",
    "    for row in reader:\n",
    "        if re.match('^[a\\d]', row[0]):\n",
    "            if row[0].startswith('a'):\n",
    "                start = datetime.datetime.fromtimestamp(int(row[0][1:]))\n",
    "                times.append(start)\n",
    "            else:\n",
    "                times.append(start+datetime.timedelta(seconds=period*int(row[0])))\n",
    "            rows.append(map(float, row[1:]))\n",
    "    if len(rows):\n",
    "        return pd.DataFrame(rows, index=pd.DatetimeIndex(times, name='Date'), columns=columns)\n",
    "    else:\n",
    "        return pd.DataFrame(rows, index=pd.DatetimeIndex(times, name='Date'))"
   ]
  },
  {
   "cell_type": "code",
   "execution_count": 4,
   "metadata": {},
   "outputs": [],
   "source": [
    "# input data\n",
    "period = 300\n",
    "days = 100\n",
    "exchange = 'NASD'"
   ]
  },
  {
   "cell_type": "code",
   "execution_count": 7,
   "metadata": {},
   "outputs": [],
   "source": [
    "df_msft = get_google_finance_intraday(ticker='MSFT', period=period, days=days)\n",
    "df_goog = get_google_finance_intraday(ticker='GOOG', period=period, days=days)\n",
    "df_aapl = get_google_finance_intraday(ticker='AAPL', period=period, days=days)\n",
    "df_fb = get_google_finance_intraday(ticker='FB', period=period, days=days)"
   ]
  },
  {
   "cell_type": "code",
   "execution_count": 9,
   "metadata": {},
   "outputs": [
    {
     "data": {
      "text/html": [
       "<div>\n",
       "<style scoped>\n",
       "    .dataframe tbody tr th:only-of-type {\n",
       "        vertical-align: middle;\n",
       "    }\n",
       "\n",
       "    .dataframe tbody tr th {\n",
       "        vertical-align: top;\n",
       "    }\n",
       "\n",
       "    .dataframe thead th {\n",
       "        text-align: right;\n",
       "    }\n",
       "</style>\n",
       "<table border=\"1\" class=\"dataframe\">\n",
       "  <thead>\n",
       "    <tr style=\"text-align: right;\">\n",
       "      <th></th>\n",
       "      <th>Open</th>\n",
       "      <th>High</th>\n",
       "      <th>Low</th>\n",
       "      <th>Close</th>\n",
       "      <th>Volume</th>\n",
       "    </tr>\n",
       "    <tr>\n",
       "      <th>Date</th>\n",
       "      <th></th>\n",
       "      <th></th>\n",
       "      <th></th>\n",
       "      <th></th>\n",
       "      <th></th>\n",
       "    </tr>\n",
       "  </thead>\n",
       "  <tbody>\n",
       "    <tr>\n",
       "      <th>2018-01-16 09:30:00</th>\n",
       "      <td>181.70</td>\n",
       "      <td>181.7000</td>\n",
       "      <td>181.47</td>\n",
       "      <td>181.500</td>\n",
       "      <td>840648.0</td>\n",
       "    </tr>\n",
       "    <tr>\n",
       "      <th>2018-01-16 09:35:00</th>\n",
       "      <td>181.27</td>\n",
       "      <td>181.7500</td>\n",
       "      <td>180.80</td>\n",
       "      <td>181.530</td>\n",
       "      <td>1813426.0</td>\n",
       "    </tr>\n",
       "    <tr>\n",
       "      <th>2018-01-16 09:40:00</th>\n",
       "      <td>181.01</td>\n",
       "      <td>181.5200</td>\n",
       "      <td>180.86</td>\n",
       "      <td>181.265</td>\n",
       "      <td>1022998.0</td>\n",
       "    </tr>\n",
       "    <tr>\n",
       "      <th>2018-01-16 09:45:00</th>\n",
       "      <td>180.90</td>\n",
       "      <td>181.2400</td>\n",
       "      <td>180.80</td>\n",
       "      <td>180.980</td>\n",
       "      <td>896674.0</td>\n",
       "    </tr>\n",
       "    <tr>\n",
       "      <th>2018-01-16 09:50:00</th>\n",
       "      <td>181.05</td>\n",
       "      <td>181.1174</td>\n",
       "      <td>180.73</td>\n",
       "      <td>180.900</td>\n",
       "      <td>794518.0</td>\n",
       "    </tr>\n",
       "  </tbody>\n",
       "</table>\n",
       "</div>"
      ],
      "text/plain": [
       "                       Open      High     Low    Close     Volume\n",
       "Date                                                             \n",
       "2018-01-16 09:30:00  181.70  181.7000  181.47  181.500   840648.0\n",
       "2018-01-16 09:35:00  181.27  181.7500  180.80  181.530  1813426.0\n",
       "2018-01-16 09:40:00  181.01  181.5200  180.86  181.265  1022998.0\n",
       "2018-01-16 09:45:00  180.90  181.2400  180.80  180.980   896674.0\n",
       "2018-01-16 09:50:00  181.05  181.1174  180.73  180.900   794518.0"
      ]
     },
     "execution_count": 9,
     "metadata": {},
     "output_type": "execute_result"
    }
   ],
   "source": [
    "df_fb.head()"
   ]
  },
  {
   "cell_type": "code",
   "execution_count": 11,
   "metadata": {},
   "outputs": [],
   "source": [
    "df_fb[['Open', 'High', 'Low', 'Close']].to_csv('data/btc/stock_data_fb.csv')"
   ]
  },
  {
   "cell_type": "code",
   "execution_count": 12,
   "metadata": {},
   "outputs": [],
   "source": [
    "df_msft[['Open', 'High', 'Low', 'Close']].to_csv('data/btc/stock_data_msft.csv')\n",
    "df_aapl[['Open', 'High', 'Low', 'Close']].to_csv('data/btc/stock_data_aapl.csv')\n",
    "df_goog[['Open', 'High', 'Low', 'Close']].to_csv('data/btc/stock_data_goog.csv')"
   ]
  },
  {
   "cell_type": "code",
   "execution_count": 17,
   "metadata": {},
   "outputs": [],
   "source": [
    "f = 'data/btc/stock_data_msft.csv'\n",
    "df = pd.read_table(f, sep=',', header=1, index_col=0, names=\n",
    "                           ['price_open', 'price_high', 'price_low', 'price_close'])"
   ]
  },
  {
   "cell_type": "code",
   "execution_count": 19,
   "metadata": {},
   "outputs": [
    {
     "data": {
      "text/html": [
       "<div>\n",
       "<style scoped>\n",
       "    .dataframe tbody tr th:only-of-type {\n",
       "        vertical-align: middle;\n",
       "    }\n",
       "\n",
       "    .dataframe tbody tr th {\n",
       "        vertical-align: top;\n",
       "    }\n",
       "\n",
       "    .dataframe thead th {\n",
       "        text-align: right;\n",
       "    }\n",
       "</style>\n",
       "<table border=\"1\" class=\"dataframe\">\n",
       "  <thead>\n",
       "    <tr style=\"text-align: right;\">\n",
       "      <th></th>\n",
       "      <th>price_open</th>\n",
       "      <th>price_high</th>\n",
       "      <th>price_low</th>\n",
       "      <th>price_close</th>\n",
       "    </tr>\n",
       "  </thead>\n",
       "  <tbody>\n",
       "    <tr>\n",
       "      <th>2018-01-16 09:35:00</th>\n",
       "      <td>90.380</td>\n",
       "      <td>90.46</td>\n",
       "      <td>90.1000</td>\n",
       "      <td>90.370</td>\n",
       "    </tr>\n",
       "    <tr>\n",
       "      <th>2018-01-16 09:40:00</th>\n",
       "      <td>90.740</td>\n",
       "      <td>90.75</td>\n",
       "      <td>90.3833</td>\n",
       "      <td>90.390</td>\n",
       "    </tr>\n",
       "    <tr>\n",
       "      <th>2018-01-16 09:45:00</th>\n",
       "      <td>90.720</td>\n",
       "      <td>90.79</td>\n",
       "      <td>90.6039</td>\n",
       "      <td>90.735</td>\n",
       "    </tr>\n",
       "    <tr>\n",
       "      <th>2018-01-16 09:50:00</th>\n",
       "      <td>90.655</td>\n",
       "      <td>90.78</td>\n",
       "      <td>90.5700</td>\n",
       "      <td>90.720</td>\n",
       "    </tr>\n",
       "    <tr>\n",
       "      <th>2018-01-16 09:55:00</th>\n",
       "      <td>90.575</td>\n",
       "      <td>90.72</td>\n",
       "      <td>90.5500</td>\n",
       "      <td>90.660</td>\n",
       "    </tr>\n",
       "  </tbody>\n",
       "</table>\n",
       "</div>"
      ],
      "text/plain": [
       "                     price_open  price_high  price_low  price_close\n",
       "2018-01-16 09:35:00      90.380       90.46    90.1000       90.370\n",
       "2018-01-16 09:40:00      90.740       90.75    90.3833       90.390\n",
       "2018-01-16 09:45:00      90.720       90.79    90.6039       90.735\n",
       "2018-01-16 09:50:00      90.655       90.78    90.5700       90.720\n",
       "2018-01-16 09:55:00      90.575       90.72    90.5500       90.660"
      ]
     },
     "execution_count": 19,
     "metadata": {},
     "output_type": "execute_result"
    }
   ],
   "source": [
    "df.head()"
   ]
  },
  {
   "cell_type": "code",
   "execution_count": null,
   "metadata": {},
   "outputs": [],
   "source": []
  }
 ],
 "metadata": {
  "kernelspec": {
   "display_name": "Python 3",
   "language": "python",
   "name": "python3"
  },
  "language_info": {
   "codemirror_mode": {
    "name": "ipython",
    "version": 3
   },
   "file_extension": ".py",
   "mimetype": "text/x-python",
   "name": "python",
   "nbconvert_exporter": "python",
   "pygments_lexer": "ipython3",
   "version": "3.6.4"
  }
 },
 "nbformat": 4,
 "nbformat_minor": 2
}
