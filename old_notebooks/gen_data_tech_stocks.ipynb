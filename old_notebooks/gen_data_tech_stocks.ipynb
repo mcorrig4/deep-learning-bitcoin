{
 "cells": [
  {
   "cell_type": "code",
   "execution_count": null,
   "metadata": {},
   "outputs": [],
   "source": [
    "from IPython.core.display import display, HTML\n",
    "display(HTML(\"<style>.container { width:90% !important; }</style>\"))"
   ]
  },
  {
   "cell_type": "markdown",
   "metadata": {},
   "source": [
    "# Generating Image Data for Stocks\n",
    "\n",
    "Get 5-minute OHLC data for the past 100 days for Google, Apple, Microsoft, and Facebook stocks. Turn this into 4*5-minute period candlestick charts."
   ]
  },
  {
   "cell_type": "code",
   "execution_count": 1,
   "metadata": {},
   "outputs": [],
   "source": [
    "from time import time\n",
    "\n",
    "#log_progress \n",
    "from mypy.progress_bar import log_progress\n",
    "\n",
    "#image manipulation\n",
    "import cv2\n",
    "\n",
    "#downloading files from notebook\n",
    "from IPython.display import HTML, FileLink, FileLinks\n",
    "\n",
    "from os import listdir\n",
    "from os.path import isfile, join, isdir\n",
    "import os\n",
    "import shutil\n",
    "import sys\n",
    "\n",
    "from uuid import uuid4\n",
    "\n",
    "import numpy as np\n",
    "import pandas as pd\n",
    "\n",
    "from data_manager2 import file_processor\n",
    "from returns_quantization import add_returns_in_place\n",
    "from utils import *\n",
    "\n",
    "from fastai.plots import *\n"
   ]
  },
  {
   "cell_type": "code",
   "execution_count": 2,
   "metadata": {},
   "outputs": [],
   "source": [
    "# Put these at the top of every notebook, to get automatic reloading and inline plotting\n",
    "%reload_ext autoreload\n",
    "%autoreload 2\n",
    "%matplotlib inline"
   ]
  },
  {
   "cell_type": "code",
   "execution_count": 3,
   "metadata": {},
   "outputs": [],
   "source": [
    "np.set_printoptions(threshold=np.nan)\n",
    "pd.set_option('display.height', 1000)\n",
    "pd.set_option('display.max_rows', 500)\n",
    "pd.set_option('display.max_columns', 500)\n",
    "pd.set_option('display.width', 1000)"
   ]
  },
  {
   "cell_type": "code",
   "execution_count": 4,
   "metadata": {},
   "outputs": [],
   "source": [
    "PATH = \"data/btc/\"\n",
    "DESTINATION = f'{PATH}stockgraphs/'\n",
    "DEST_CROPPED = f'{PATH}btcgraphs_cropped/'"
   ]
  },
  {
   "cell_type": "markdown",
   "metadata": {},
   "source": [
    "## Functions"
   ]
  },
  {
   "cell_type": "markdown",
   "metadata": {},
   "source": [
    "Determing the price direction in the next time frame"
   ]
  },
  {
   "cell_type": "code",
   "execution_count": 5,
   "metadata": {},
   "outputs": [],
   "source": [
    "def get_price_direction(btc_df, btc_slice, i, slice_size):\n",
    "    last_price = btc_slice[-2:-1]['price_close'].values[0]\n",
    "    next_price = btc_df[i + slice_size:i + slice_size + 1]['price_close'].values[0]\n",
    "    if last_price < next_price:\n",
    "        class_name = 'UP'\n",
    "    else:\n",
    "        class_name = 'DOWN'\n",
    "    return class_name"
   ]
  },
  {
   "cell_type": "markdown",
   "metadata": {},
   "source": [
    "- Stepping through data one time period at a time.\n",
    "- Creating a graph for each step.\n",
    "- Labeling the image based on the next price direction"
   ]
  },
  {
   "cell_type": "code",
   "execution_count": 6,
   "metadata": {},
   "outputs": [],
   "source": [
    "def generate_images(data_file, data_folder, stock_name):\n",
    "    \n",
    "    stock_df = pd.read_table(data_file, sep=',', header=1, index_col=0, names=\n",
    "                           ['price_open', 'price_high', 'price_low', 'price_close'])\n",
    "\n",
    "#     shutil.rmtree(data_folder, ignore_errors=True)\n",
    "\n",
    "    #saving things to stockgraphs/test_... folders\n",
    "    save_dir = os.path.join(data_folder, 'test_' + stock_name)\n",
    "    mkdir_p(save_dir)\n",
    "\n",
    "    slice_size = 40\n",
    "    nrow = len(stock_df)\n",
    "    n = nrow-slice_size-1 #take an extra one off the end so we have an extra final period to predict\n",
    "\n",
    "    for i in log_progress(range(n), every=10):\n",
    "        st = time.time()\n",
    "        # take following 40 time periods starting at period i\n",
    "        # as the slice to make a graph for\n",
    "        stock_slice = stock_df[i:i + slice_size]\n",
    "        # check for null values\n",
    "        if stock_slice.isnull().values.any():\n",
    "            raise Exception('NaN values detected. Please remove them.')\n",
    "        # Check period i+1 and see if the price goes up or down\n",
    "        class_name = get_price_direction(stock_df, stock_slice, i, slice_size)\n",
    "        # add the class to the beginning of the file name\n",
    "        filename = save_dir + '/' + class_name + str(uuid4()) + '.png'\n",
    "        # save the candlestick chart\n",
    "        save_to_file(stock_slice, filename=filename)\n",
    "        print('epoch = {0}, time = {1:.3f}, filename = {2}       '.format(str(i).zfill(8), time.time() - st, filename), end='\\r')\n",
    "        "
   ]
  },
  {
   "cell_type": "markdown",
   "metadata": {},
   "source": [
    "Cropping the images to be 480x480. Crop everything in the source folder and save in the destination folder."
   ]
  },
  {
   "cell_type": "code",
   "execution_count": 7,
   "metadata": {},
   "outputs": [],
   "source": [
    "def list_image_paths(source_folder, dest_folder):\n",
    "    #create a list of all file paths for files in the ssource_folder=older\n",
    "    #create a list of the paths for their cropped counterparts\n",
    "    uncropped_files = []\n",
    "    cropped_files = []\n",
    "\n",
    "    for f in listdir(source_folder):\n",
    "        if isfile(join(source_folder, f)):\n",
    "            uncropped_files.append(join(source_folder, f))\n",
    "            cropped_files.append(join(dest_folder, f))\n",
    "    return uncropped_files, cropped_files"
   ]
  },
  {
   "cell_type": "code",
   "execution_count": 8,
   "metadata": {},
   "outputs": [],
   "source": [
    "def crop_img(source_file, dest_file):\n",
    "    img = cv2.imread(source_file)\n",
    "    crop_img = img[0:480, 90:90+480]\n",
    "    cv2.imwrite(dest_file, crop_img)    "
   ]
  },
  {
   "cell_type": "code",
   "execution_count": 9,
   "metadata": {},
   "outputs": [],
   "source": [
    "def crop_all_images(source_dir, dest_dir):\n",
    "    source, dest = list_image_paths(source_dir, dest_dir)\n",
    "    n = len(source)\n",
    "    for i in log_progress(range(n), every=10):\n",
    "        crop_img(source[i], dest[i])"
   ]
  },
  {
   "cell_type": "markdown",
   "metadata": {},
   "source": [
    "## Skip"
   ]
  },
  {
   "cell_type": "markdown",
   "metadata": {
    "heading_collapsed": true
   },
   "source": [
    "### Testing problems\n"
   ]
  },
  {
   "cell_type": "code",
   "execution_count": 13,
   "metadata": {
    "hidden": true
   },
   "outputs": [
    {
     "data": {
      "text/plain": [
       "<matplotlib.image.AxesImage at 0x7f2e708af128>"
      ]
     },
     "execution_count": 13,
     "metadata": {},
     "output_type": "execute_result"
    },
    {
     "data": {
      "image/png": "[encoded data removed]",
      "text/plain": [
       "<matplotlib.figure.Figure at 0x7f2e708ef2e8>"
      ]
     },
     "metadata": {},
     "output_type": "display_data"
    }
   ],
   "source": [
    "d = join(DESTINATION, \"test_msft\")\n",
    "f = listdir(d)[100]\n",
    "fd = join(d,f)\n",
    "fd\n",
    "img2 = cv2.imread(fd)\n",
    "plt.imshow(img2)"
   ]
  },
  {
   "cell_type": "code",
   "execution_count": 14,
   "metadata": {
    "hidden": true
   },
   "outputs": [
    {
     "data": {
      "text/html": [
       "<a href='data/btc/stockgraphs/test_msft/UPbfa4cc65-ea1d-4d60-9edc-ff319e5b2312.png' target='_blank'>data/btc/stockgraphs/test_msft/UPbfa4cc65-ea1d-4d60-9edc-ff319e5b2312.png</a><br>"
      ],
      "text/plain": [
       "/home/liam/crypto-project/fast-crypto-ai/data/btc/stockgraphs/test_msft/UPbfa4cc65-ea1d-4d60-9edc-ff319e5b2312.png"
      ]
     },
     "execution_count": 14,
     "metadata": {},
     "output_type": "execute_result"
    }
   ],
   "source": [
    "FileLink(fd)"
   ]
  },
  {
   "cell_type": "markdown",
   "metadata": {
    "heading_collapsed": true
   },
   "source": [
    "### Generate Plots"
   ]
  },
  {
   "cell_type": "markdown",
   "metadata": {
    "hidden": true
   },
   "source": [
    "Because matplotlib uses screen DPI I get different file dimentions when running notebooks and python scripts. I generated the plots using a script so that they have a height of 480 like all the other images I made previously. I skip this section because it is handled by the get_test_stocks.py file."
   ]
  },
  {
   "cell_type": "code",
   "execution_count": 16,
   "metadata": {
    "hidden": true
   },
   "outputs": [],
   "source": [
    "# data_folder = DESTINATION\n",
    "\n",
    "stock_names = ['msft', 'fb', 'goog', 'aapl']\n",
    "\n",
    "# for s in log_progress(stock_names):\n",
    "#     print('Working on '+s, end='     \\r')\n",
    "#     data_file = f'{PATH}stock_data_{s}.csv'\n",
    "#     generate_images(data_file=data_file, data_folder=DESTINATION, stock_name=s)\n",
    "\n",
    "        "
   ]
  },
  {
   "cell_type": "markdown",
   "metadata": {},
   "source": [
    "## Crop Plots"
   ]
  },
  {
   "cell_type": "code",
   "execution_count": null,
   "metadata": {},
   "outputs": [],
   "source": [
    "stock_names = ['msft', 'fb', 'goog', 'aapl']\n",
    "\n",
    "for s in log_progress(stock_names):\n",
    "    print('Working on '+s, end='    \\r')\n",
    "    source_dir = join(DESTINATION, \"test_\"+s)\n",
    "    dest_dir = join(DEST_CROPPED, \"test_\"+s)\n",
    "    mkdir_p(dest_dir)\n",
    "    crop_all_images(source_dir, dest_dir)"
   ]
  },
  {
   "cell_type": "markdown",
   "metadata": {},
   "source": [
    "Doing a double check now that I realized I was classifying two periods in advance..."
   ]
  },
  {
   "cell_type": "code",
   "execution_count": 23,
   "metadata": {},
   "outputs": [
    {
     "data": {
      "application/vnd.jupyter.widget-view+json": {
       "model_id": "d3af0d5047314c6e92aefd49450b07d7",
       "version_major": 2,
       "version_minor": 0
      },
      "text/html": [
       "<p>Failed to display Jupyter Widget of type <code>VBox</code>.</p>\n",
       "<p>\n",
       "  If you're reading this message in the Jupyter Notebook or JupyterLab Notebook, it may mean\n",
       "  that the widgets JavaScript is still loading. If this message persists, it\n",
       "  likely means that the widgets JavaScript library is either not installed or\n",
       "  not enabled. See the <a href=\"https://ipywidgets.readthedocs.io/en/stable/user_install.html\">Jupyter\n",
       "  Widgets Documentation</a> for setup instructions.\n",
       "</p>\n",
       "<p>\n",
       "  If you're reading this message in another frontend (for example, a static\n",
       "  rendering on GitHub or <a href=\"https://nbviewer.jupyter.org/\">NBViewer</a>),\n",
       "  it may mean that your frontend doesn't currently support widgets.\n",
       "</p>\n"
      ],
      "text/plain": [
       "VBox(children=(HTML(value=''), IntProgress(value=0, max=4)))"
      ]
     },
     "metadata": {},
     "output_type": "display_data"
    },
    {
     "name": "stdout",
     "output_type": "stream",
     "text": [
      "Working on msft2    \r"
     ]
    },
    {
     "data": {
      "application/vnd.jupyter.widget-view+json": {
       "model_id": "4eb7aefd902f498490c6de1f6d85e9f1",
       "version_major": 2,
       "version_minor": 0
      },
      "text/html": [
       "<p>Failed to display Jupyter Widget of type <code>VBox</code>.</p>\n",
       "<p>\n",
       "  If you're reading this message in the Jupyter Notebook or JupyterLab Notebook, it may mean\n",
       "  that the widgets JavaScript is still loading. If this message persists, it\n",
       "  likely means that the widgets JavaScript library is either not installed or\n",
       "  not enabled. See the <a href=\"https://ipywidgets.readthedocs.io/en/stable/user_install.html\">Jupyter\n",
       "  Widgets Documentation</a> for setup instructions.\n",
       "</p>\n",
       "<p>\n",
       "  If you're reading this message in another frontend (for example, a static\n",
       "  rendering on GitHub or <a href=\"https://nbviewer.jupyter.org/\">NBViewer</a>),\n",
       "  it may mean that your frontend doesn't currently support widgets.\n",
       "</p>\n"
      ],
      "text/plain": [
       "VBox(children=(HTML(value=''), IntProgress(value=0, max=3908)))"
      ]
     },
     "metadata": {},
     "output_type": "display_data"
    },
    {
     "name": "stdout",
     "output_type": "stream",
     "text": [
      "Working on fb2    \r"
     ]
    },
    {
     "data": {
      "application/vnd.jupyter.widget-view+json": {
       "model_id": "74df5dc7255347acbc9cc1750b5e44be",
       "version_major": 2,
       "version_minor": 0
      },
      "text/html": [
       "<p>Failed to display Jupyter Widget of type <code>VBox</code>.</p>\n",
       "<p>\n",
       "  If you're reading this message in the Jupyter Notebook or JupyterLab Notebook, it may mean\n",
       "  that the widgets JavaScript is still loading. If this message persists, it\n",
       "  likely means that the widgets JavaScript library is either not installed or\n",
       "  not enabled. See the <a href=\"https://ipywidgets.readthedocs.io/en/stable/user_install.html\">Jupyter\n",
       "  Widgets Documentation</a> for setup instructions.\n",
       "</p>\n",
       "<p>\n",
       "  If you're reading this message in another frontend (for example, a static\n",
       "  rendering on GitHub or <a href=\"https://nbviewer.jupyter.org/\">NBViewer</a>),\n",
       "  it may mean that your frontend doesn't currently support widgets.\n",
       "</p>\n"
      ],
      "text/plain": [
       "VBox(children=(HTML(value=''), IntProgress(value=0, max=3908)))"
      ]
     },
     "metadata": {},
     "output_type": "display_data"
    },
    {
     "name": "stdout",
     "output_type": "stream",
     "text": [
      "Working on goog2    \r"
     ]
    },
    {
     "data": {
      "application/vnd.jupyter.widget-view+json": {
       "model_id": "71efe8e9c43a4b57ae8bf5ec9f83af55",
       "version_major": 2,
       "version_minor": 0
      },
      "text/html": [
       "<p>Failed to display Jupyter Widget of type <code>VBox</code>.</p>\n",
       "<p>\n",
       "  If you're reading this message in the Jupyter Notebook or JupyterLab Notebook, it may mean\n",
       "  that the widgets JavaScript is still loading. If this message persists, it\n",
       "  likely means that the widgets JavaScript library is either not installed or\n",
       "  not enabled. See the <a href=\"https://ipywidgets.readthedocs.io/en/stable/user_install.html\">Jupyter\n",
       "  Widgets Documentation</a> for setup instructions.\n",
       "</p>\n",
       "<p>\n",
       "  If you're reading this message in another frontend (for example, a static\n",
       "  rendering on GitHub or <a href=\"https://nbviewer.jupyter.org/\">NBViewer</a>),\n",
       "  it may mean that your frontend doesn't currently support widgets.\n",
       "</p>\n"
      ],
      "text/plain": [
       "VBox(children=(HTML(value=''), IntProgress(value=0, max=3908)))"
      ]
     },
     "metadata": {},
     "output_type": "display_data"
    },
    {
     "name": "stdout",
     "output_type": "stream",
     "text": [
      "Working on aapl2    \r"
     ]
    },
    {
     "data": {
      "application/vnd.jupyter.widget-view+json": {
       "model_id": "a7402dc758664cf38da4a4853982daec",
       "version_major": 2,
       "version_minor": 0
      },
      "text/html": [
       "<p>Failed to display Jupyter Widget of type <code>VBox</code>.</p>\n",
       "<p>\n",
       "  If you're reading this message in the Jupyter Notebook or JupyterLab Notebook, it may mean\n",
       "  that the widgets JavaScript is still loading. If this message persists, it\n",
       "  likely means that the widgets JavaScript library is either not installed or\n",
       "  not enabled. See the <a href=\"https://ipywidgets.readthedocs.io/en/stable/user_install.html\">Jupyter\n",
       "  Widgets Documentation</a> for setup instructions.\n",
       "</p>\n",
       "<p>\n",
       "  If you're reading this message in another frontend (for example, a static\n",
       "  rendering on GitHub or <a href=\"https://nbviewer.jupyter.org/\">NBViewer</a>),\n",
       "  it may mean that your frontend doesn't currently support widgets.\n",
       "</p>\n"
      ],
      "text/plain": [
       "VBox(children=(HTML(value=''), IntProgress(value=0, max=3908)))"
      ]
     },
     "metadata": {},
     "output_type": "display_data"
    }
   ],
   "source": [
    "stock_names = ['msft2', 'fb2', 'goog2', 'aapl2']\n",
    "\n",
    "for s in log_progress(stock_names):\n",
    "    print('Working on '+s, end='    \\r')\n",
    "    source_dir = join(DESTINATION, \"test_\"+s)\n",
    "    dest_dir = join(DEST_CROPPED, \"test_\"+s)\n",
    "    mkdir_p(dest_dir)\n",
    "    crop_all_images(source_dir, dest_dir)"
   ]
  },
  {
   "cell_type": "markdown",
   "metadata": {},
   "source": [
    "## Check Results"
   ]
  },
  {
   "cell_type": "code",
   "execution_count": 24,
   "metadata": {},
   "outputs": [
    {
     "data": {
      "text/plain": [
       "<matplotlib.image.AxesImage at 0x7f2e704c2ba8>"
      ]
     },
     "execution_count": 24,
     "metadata": {},
     "output_type": "execute_result"
    },
    {
     "data": {
      "image/png": "[encoded data removed]",
      "text/plain": [
       "<matplotlib.figure.Figure at 0x7f2e70654240>"
      ]
     },
     "metadata": {},
     "output_type": "display_data"
    }
   ],
   "source": [
    "d = join(DEST_CROPPED, \"test_msft2\")\n",
    "f = listdir(d)[2]\n",
    "fd = join(d, f)\n",
    "img = cv2.imread(fd)\n",
    "plt.imshow(img)\n"
   ]
  },
  {
   "cell_type": "code",
   "execution_count": null,
   "metadata": {},
   "outputs": [],
   "source": []
  }
 ],
 "metadata": {
  "kernelspec": {
   "display_name": "Python 3",
   "language": "python",
   "name": "python3"
  },
  "language_info": {
   "codemirror_mode": {
    "name": "ipython",
    "version": 3
   },
   "file_extension": ".py",
   "mimetype": "text/x-python",
   "name": "python",
   "nbconvert_exporter": "python",
   "pygments_lexer": "ipython3",
   "version": "3.6.4"
  }
 },
 "nbformat": 4,
 "nbformat_minor": 2
}
