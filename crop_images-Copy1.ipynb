{
 "cells": [
  {
   "cell_type": "code",
   "execution_count": 12,
   "metadata": {},
   "outputs": [],
   "source": [
    "import cv2\n",
    "from IPython.display import HTML, FileLink\n",
    "from os import listdir\n",
    "from os.path import isfile, join\n",
    "\n",
    "# Put these at the top of every notebook, to get automatic reloading and inline plotting\n",
    "%reload_ext autoreload\n",
    "%autoreload 2\n",
    "%matplotlib inline\n",
    "\n",
    "# This file contains all the main external libs we'll use\n",
    "from fastai.imports import *\n",
    "from fastai.transforms import *\n",
    "from fastai.conv_learner import *\n",
    "from fastai.model import *\n",
    "from fastai.dataset import *\n",
    "from fastai.sgdr import *\n",
    "from fastai.plots import *\n",
    "\n",
    "# For downloading files\n",
    "from IPython.display import FileLink, FileLinks"
   ]
  },
  {
   "cell_type": "code",
   "execution_count": 3,
   "metadata": {},
   "outputs": [],
   "source": [
    "PATH = \"data/btc/\""
   ]
  },
  {
   "cell_type": "code",
   "execution_count": 4,
   "metadata": {},
   "outputs": [
    {
     "name": "stdout",
     "output_type": "stream",
     "text": [
      "test  train\r\n"
     ]
    }
   ],
   "source": [
    "!ls {PATH}"
   ]
  },
  {
   "cell_type": "code",
   "execution_count": 5,
   "metadata": {},
   "outputs": [],
   "source": [
    "onlyfiles = [f for f in listdir(PATH) if isfile(join(PATH, f))]"
   ]
  },
  {
   "cell_type": "code",
   "execution_count": 6,
   "metadata": {},
   "outputs": [
    {
     "name": "stdout",
     "output_type": "stream",
     "text": [
      "[]\n"
     ]
    }
   ],
   "source": [
    "print(onlyfiles)"
   ]
  },
  {
   "cell_type": "code",
   "execution_count": 7,
   "metadata": {},
   "outputs": [
    {
     "name": "stdout",
     "output_type": "stream",
     "text": [
      "data/btc-trading-patterns2/test/UP/9e49626b-afdc-4c26-b245-e6ad420b0439.png\n",
      "data/btc-trading-patterns2/test/UP/5d24b879-744c-473d-8869-d562027cc84a.png\n",
      "data/btc-trading-patterns2/test/UP/a90a9e0a-736d-41ca-b824-104686151a28.png\n",
      "data/btc-trading-patterns2/test/UP/3793472f-c6ce-4b88-b618-4401f2a72d52.png\n",
      "data/btc-trading-patterns2/test/UP/f7cecc65-faac-4a99-b698-30e8c7edbfd8.png\n",
      "data/btc-trading-patterns2/test/UP/dc2c4d2d-cb9c-4edb-bb03-af980c04a06d.png\n",
      "data/btc-trading-patterns2/test/UP/a146c6f3-5086-4ca3-9e82-130a9e478f64.png\n",
      "data/btc-trading-patterns2/test/UP/d02e4306-6627-48e9-afb5-cebdce27c6f5.png\n",
      "data/btc-trading-patterns2/test/UP/9911a76d-edcc-43ea-a735-59e1684ed453.png\n",
      "data/btc-trading-patterns2/test/UP/6c84bbcc-081b-4d54-b9e1-c49cdcdbbdc8.png\n"
     ]
    }
   ],
   "source": [
    "folder = \"test/UP/\"\n",
    "\n",
    "files = listdir(f'{PATH}{folder}') \n",
    "\n",
    "for i in range(0,10):\n",
    "#     img = cv2.imread\n",
    "    print(f'{PATH}{folder}{files[i]}')\n",
    "#     crop_img = img[y:y+h, x:x+w]\n",
    "#     cv2.imshow(\"cropped\", img)\n",
    "        "
   ]
  },
  {
   "cell_type": "code",
   "execution_count": 11,
   "metadata": {},
   "outputs": [
    {
     "data": {
      "text/html": [
       "<a href='data/btc-trading-patterns2/test/UP/9e49626b-afdc-4c26-b245-e6ad420b0439.png' target='_blank'>data/btc-trading-patterns2/test/UP/9e49626b-afdc-4c26-b245-e6ad420b0439.png</a><br>"
      ],
      "text/plain": [
       "/home/liam/crypto-project/fast-crypto-ai/data/btc-trading-patterns2/test/UP/9e49626b-afdc-4c26-b245-e6ad420b0439.png"
      ]
     },
     "execution_count": 11,
     "metadata": {},
     "output_type": "execute_result"
    }
   ],
   "source": [
    "FileLink('data/btc-trading-patterns2/test/UP/9e49626b-afdc-4c26-b245-e6ad420b0439.png')"
   ]
  },
  {
   "cell_type": "code",
   "execution_count": null,
   "metadata": {},
   "outputs": [],
   "source": [
    "img = cv2.imread(\"lenna.png\")\n",
    "crop_img = img[y:y+h, x:x+w]\n",
    "cv2.imshow(\"cropped\", crop_img)\n",
    "cv2.waitKey(0)"
   ]
  }
 ],
 "metadata": {
  "kernelspec": {
   "display_name": "Python 3",
   "language": "python",
   "name": "python3"
  },
  "language_info": {
   "codemirror_mode": {
    "name": "ipython",
    "version": 3
   },
   "file_extension": ".py",
   "mimetype": "text/x-python",
   "name": "python",
   "nbconvert_exporter": "python",
   "pygments_lexer": "ipython3",
   "version": "3.6.4"
  }
 },
 "nbformat": 4,
 "nbformat_minor": 2
}
