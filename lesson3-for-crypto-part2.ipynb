{
 "cells": [
  {
   "cell_type": "markdown",
   "metadata": {},
   "source": [
    "# PART 2\n",
    "# _*Time Series Forecasting with Neural Network*_\n",
    "## Bitcoin Price Prediction Model"
   ]
  },
  {
   "cell_type": "markdown",
   "metadata": {},
   "source": [
    "Setup the notebook."
   ]
  },
  {
   "cell_type": "code",
   "execution_count": 1,
   "metadata": {},
   "outputs": [],
   "source": [
    "%matplotlib inline\n",
    "%reload_ext autoreload\n",
    "%autoreload 2"
   ]
  },
  {
   "cell_type": "markdown",
   "metadata": {},
   "source": [
    "## Imports"
   ]
  },
  {
   "cell_type": "code",
   "execution_count": 2,
   "metadata": {},
   "outputs": [],
   "source": [
    "from IPython.display import HTML\n",
    "\n",
    "from fastai.structured import *\n",
    "from fastai.column_data import *\n",
    "\n",
    "np.set_printoptions(threshold=50, edgeitems=20)"
   ]
  },
  {
   "cell_type": "markdown",
   "metadata": {},
   "source": [
    "# The Data "
   ]
  },
  {
   "cell_type": "code",
   "execution_count": 3,
   "metadata": {},
   "outputs": [],
   "source": [
    "PATH='data/btc/'\n",
    "fname = 'btc-final.csv'"
   ]
  },
  {
   "cell_type": "code",
   "execution_count": 4,
   "metadata": {},
   "outputs": [
    {
     "data": {
      "text/html": [
       "<div>\n",
       "<style scoped>\n",
       "    .dataframe tbody tr th:only-of-type {\n",
       "        vertical-align: middle;\n",
       "    }\n",
       "\n",
       "    .dataframe tbody tr th {\n",
       "        vertical-align: top;\n",
       "    }\n",
       "\n",
       "    .dataframe thead th {\n",
       "        text-align: right;\n",
       "    }\n",
       "</style>\n",
       "<table border=\"1\" class=\"dataframe\">\n",
       "  <thead>\n",
       "    <tr style=\"text-align: right;\">\n",
       "      <th></th>\n",
       "      <th>yprice</th>\n",
       "      <th>yret</th>\n",
       "      <th>ylab</th>\n",
       "      <th>date</th>\n",
       "      <th>price_open</th>\n",
       "      <th>price_high</th>\n",
       "      <th>price_low</th>\n",
       "      <th>price_close</th>\n",
       "      <th>volume</th>\n",
       "      <th>close_price_returns</th>\n",
       "      <th>...</th>\n",
       "      <th>rolling_10_return</th>\n",
       "      <th>rolling_10_return_labels</th>\n",
       "      <th>rolling_10_seq_down</th>\n",
       "      <th>rolling_10_seq_up</th>\n",
       "      <th>rolling_20_volume</th>\n",
       "      <th>rolling_20_volume_over_max</th>\n",
       "      <th>rolling_20_return</th>\n",
       "      <th>rolling_20_return_labels</th>\n",
       "      <th>rolling_20_seq_down</th>\n",
       "      <th>rolling_20_seq_up</th>\n",
       "    </tr>\n",
       "  </thead>\n",
       "  <tbody>\n",
       "    <tr>\n",
       "      <th>1</th>\n",
       "      <td>300.0</td>\n",
       "      <td>0.000000</td>\n",
       "      <td>4</td>\n",
       "      <td>2014-12-01 00:30:00</td>\n",
       "      <td>300.0</td>\n",
       "      <td>300.0</td>\n",
       "      <td>300.0</td>\n",
       "      <td>300.0</td>\n",
       "      <td>0.01</td>\n",
       "      <td>0.000000</td>\n",
       "      <td>...</td>\n",
       "      <td>0.0</td>\n",
       "      <td>4</td>\n",
       "      <td>0</td>\n",
       "      <td>0</td>\n",
       "      <td>0.01</td>\n",
       "      <td>0.000004</td>\n",
       "      <td>0.0</td>\n",
       "      <td>4</td>\n",
       "      <td>0</td>\n",
       "      <td>0</td>\n",
       "    </tr>\n",
       "    <tr>\n",
       "      <th>2</th>\n",
       "      <td>370.0</td>\n",
       "      <td>0.000000</td>\n",
       "      <td>4</td>\n",
       "      <td>2014-12-01 00:35:00</td>\n",
       "      <td>300.0</td>\n",
       "      <td>300.0</td>\n",
       "      <td>300.0</td>\n",
       "      <td>300.0</td>\n",
       "      <td>0.00</td>\n",
       "      <td>0.000000</td>\n",
       "      <td>...</td>\n",
       "      <td>0.0</td>\n",
       "      <td>4</td>\n",
       "      <td>0</td>\n",
       "      <td>0</td>\n",
       "      <td>0.01</td>\n",
       "      <td>0.000004</td>\n",
       "      <td>0.0</td>\n",
       "      <td>4</td>\n",
       "      <td>0</td>\n",
       "      <td>0</td>\n",
       "    </tr>\n",
       "    <tr>\n",
       "      <th>3</th>\n",
       "      <td>370.0</td>\n",
       "      <td>23.333333</td>\n",
       "      <td>9</td>\n",
       "      <td>2014-12-01 00:40:00</td>\n",
       "      <td>300.0</td>\n",
       "      <td>300.0</td>\n",
       "      <td>300.0</td>\n",
       "      <td>300.0</td>\n",
       "      <td>0.01</td>\n",
       "      <td>0.000000</td>\n",
       "      <td>...</td>\n",
       "      <td>0.0</td>\n",
       "      <td>4</td>\n",
       "      <td>0</td>\n",
       "      <td>0</td>\n",
       "      <td>0.01</td>\n",
       "      <td>0.000004</td>\n",
       "      <td>0.0</td>\n",
       "      <td>4</td>\n",
       "      <td>0</td>\n",
       "      <td>0</td>\n",
       "    </tr>\n",
       "    <tr>\n",
       "      <th>4</th>\n",
       "      <td>370.0</td>\n",
       "      <td>0.000000</td>\n",
       "      <td>4</td>\n",
       "      <td>2014-12-01 00:45:00</td>\n",
       "      <td>370.0</td>\n",
       "      <td>370.0</td>\n",
       "      <td>370.0</td>\n",
       "      <td>370.0</td>\n",
       "      <td>0.00</td>\n",
       "      <td>23.333333</td>\n",
       "      <td>...</td>\n",
       "      <td>0.0</td>\n",
       "      <td>4</td>\n",
       "      <td>0</td>\n",
       "      <td>0</td>\n",
       "      <td>0.01</td>\n",
       "      <td>0.000004</td>\n",
       "      <td>0.0</td>\n",
       "      <td>4</td>\n",
       "      <td>0</td>\n",
       "      <td>0</td>\n",
       "    </tr>\n",
       "    <tr>\n",
       "      <th>5</th>\n",
       "      <td>370.0</td>\n",
       "      <td>0.000000</td>\n",
       "      <td>4</td>\n",
       "      <td>2014-12-01 00:50:00</td>\n",
       "      <td>370.0</td>\n",
       "      <td>370.0</td>\n",
       "      <td>370.0</td>\n",
       "      <td>370.0</td>\n",
       "      <td>0.00</td>\n",
       "      <td>0.000000</td>\n",
       "      <td>...</td>\n",
       "      <td>0.0</td>\n",
       "      <td>4</td>\n",
       "      <td>0</td>\n",
       "      <td>0</td>\n",
       "      <td>0.01</td>\n",
       "      <td>0.000004</td>\n",
       "      <td>0.0</td>\n",
       "      <td>4</td>\n",
       "      <td>0</td>\n",
       "      <td>0</td>\n",
       "    </tr>\n",
       "  </tbody>\n",
       "</table>\n",
       "<p>5 rows × 80 columns</p>\n",
       "</div>"
      ],
      "text/plain": [
       "   yprice       yret  ylab                 date  price_open  price_high  \\\n",
       "1   300.0   0.000000     4  2014-12-01 00:30:00       300.0       300.0   \n",
       "2   370.0   0.000000     4  2014-12-01 00:35:00       300.0       300.0   \n",
       "3   370.0  23.333333     9  2014-12-01 00:40:00       300.0       300.0   \n",
       "4   370.0   0.000000     4  2014-12-01 00:45:00       370.0       370.0   \n",
       "5   370.0   0.000000     4  2014-12-01 00:50:00       370.0       370.0   \n",
       "\n",
       "   price_low  price_close  volume  close_price_returns        ...          \\\n",
       "1      300.0        300.0    0.01             0.000000        ...           \n",
       "2      300.0        300.0    0.00             0.000000        ...           \n",
       "3      300.0        300.0    0.01             0.000000        ...           \n",
       "4      370.0        370.0    0.00            23.333333        ...           \n",
       "5      370.0        370.0    0.00             0.000000        ...           \n",
       "\n",
       "   rolling_10_return  rolling_10_return_labels  rolling_10_seq_down  \\\n",
       "1                0.0                         4                    0   \n",
       "2                0.0                         4                    0   \n",
       "3                0.0                         4                    0   \n",
       "4                0.0                         4                    0   \n",
       "5                0.0                         4                    0   \n",
       "\n",
       "   rolling_10_seq_up  rolling_20_volume  rolling_20_volume_over_max  \\\n",
       "1                  0               0.01                    0.000004   \n",
       "2                  0               0.01                    0.000004   \n",
       "3                  0               0.01                    0.000004   \n",
       "4                  0               0.01                    0.000004   \n",
       "5                  0               0.01                    0.000004   \n",
       "\n",
       "   rolling_20_return  rolling_20_return_labels  rolling_20_seq_down  \\\n",
       "1                0.0                         4                    0   \n",
       "2                0.0                         4                    0   \n",
       "3                0.0                         4                    0   \n",
       "4                0.0                         4                    0   \n",
       "5                0.0                         4                    0   \n",
       "\n",
       "   rolling_20_seq_up  \n",
       "1                  0  \n",
       "2                  0  \n",
       "3                  0  \n",
       "4                  0  \n",
       "5                  0  \n",
       "\n",
       "[5 rows x 80 columns]"
      ]
     },
     "execution_count": 4,
     "metadata": {},
     "output_type": "execute_result"
    }
   ],
   "source": [
    "data = pd.read_csv(f'{PATH}{fname}', low_memory=False, sep = '\\t') \n",
    "data.head()"
   ]
  },
  {
   "cell_type": "markdown",
   "metadata": {},
   "source": [
    "## Filter"
   ]
  },
  {
   "cell_type": "markdown",
   "metadata": {},
   "source": [
    "Trading ins't very active before the end of January 2015 so lets start there."
   ]
  },
  {
   "cell_type": "code",
   "execution_count": 5,
   "metadata": {},
   "outputs": [
    {
     "data": {
      "text/plain": [
       "326818"
      ]
     },
     "execution_count": 5,
     "metadata": {},
     "output_type": "execute_result"
    }
   ],
   "source": [
    "df = data[data['date'] > '2015-01-27']\n",
    "n = df.shape[0]\n",
    "n"
   ]
  },
  {
   "cell_type": "code",
   "execution_count": 6,
   "metadata": {},
   "outputs": [],
   "source": [
    "df = df.reset_index()\n",
    "df = df.drop('index', 1)"
   ]
  },
  {
   "cell_type": "markdown",
   "metadata": {},
   "source": [
    "### Backup Tables"
   ]
  },
  {
   "cell_type": "markdown",
   "metadata": {},
   "source": [
    "It's usually a good idea to back up large tables of extracted / wrangled features before you join them onto another one, that way you can go back to it easily if you need to make changes to it."
   ]
  },
  {
   "cell_type": "code",
   "execution_count": 7,
   "metadata": {},
   "outputs": [
    {
     "name": "stdout",
     "output_type": "stream",
     "text": [
      "326818\n"
     ]
    }
   ],
   "source": [
    "print(len(df))"
   ]
  },
  {
   "cell_type": "markdown",
   "metadata": {},
   "source": [
    "##### Saving Table"
   ]
  },
  {
   "cell_type": "code",
   "execution_count": 8,
   "metadata": {},
   "outputs": [],
   "source": [
    "df.to_feather(f'{PATH}df')"
   ]
  },
  {
   "cell_type": "markdown",
   "metadata": {},
   "source": [
    "##### Loading Table"
   ]
  },
  {
   "cell_type": "code",
   "execution_count": 9,
   "metadata": {},
   "outputs": [],
   "source": [
    "df = pd.read_feather(f'{PATH}df')"
   ]
  },
  {
   "cell_type": "code",
   "execution_count": 10,
   "metadata": {},
   "outputs": [],
   "source": [
    "df[\"date\"] = pd.to_datetime(df.date)"
   ]
  },
  {
   "cell_type": "code",
   "execution_count": 11,
   "metadata": {},
   "outputs": [],
   "source": [
    "# df.head(5)"
   ]
  },
  {
   "cell_type": "markdown",
   "metadata": {
    "collapsed": true
   },
   "source": [
    "# Train and Test"
   ]
  },
  {
   "cell_type": "code",
   "execution_count": 12,
   "metadata": {},
   "outputs": [],
   "source": [
    "split_train = 0.8"
   ]
  },
  {
   "cell_type": "code",
   "execution_count": 13,
   "metadata": {},
   "outputs": [],
   "source": [
    "n_train = int(split_train * n)\n",
    "df_train = df.iloc[0:n_train]\n",
    "df_test = df.iloc[n_train+1:n-1]"
   ]
  },
  {
   "cell_type": "code",
   "execution_count": 14,
   "metadata": {
    "scrolled": true
   },
   "outputs": [],
   "source": [
    "# df_train.head().T"
   ]
  },
  {
   "cell_type": "markdown",
   "metadata": {},
   "source": [
    "Now that we've engineered all our features, we need to convert to input compatible with a neural network.\n",
    "\n",
    "This includes converting categorical variables into contiguous integers or one-hot encodings, normalizing continuous features to standard normal, etc..."
   ]
  },
  {
   "cell_type": "code",
   "execution_count": 15,
   "metadata": {},
   "outputs": [
    {
     "data": {
      "text/plain": [
       "Index(['yprice', 'yret', 'ylab', 'date', 'price_open', 'price_high',\n",
       "       'price_low', 'price_close', 'volume', 'close_price_returns',\n",
       "       'close_price_returns_labels', 'UP', 'DOWN', 'HOLD', 'year', 'month',\n",
       "       'week', 'day', 'dayofweek', 'dayofyear', 'DateTime_UTCElapsed',\n",
       "       'Since_01', 'Since_025', 'Since_05', 'Since_075', 'Since_1', 'Since_2',\n",
       "       'Since_3', 'Since_4', 'Since_5', 'Since_01_down', 'Since_025_down',\n",
       "       'Since_05_down', 'Since_075_down', 'Since_1_down', 'Since_2_down',\n",
       "       'Since_3_down', 'Since_4_down', 'Since_5_down', 'Since_01_up',\n",
       "       'Since_025_up', 'Since_05_up', 'Since_075_up', 'Since_1_up',\n",
       "       'Since_2_up', 'Since_3_up', 'Since_4_up', 'Since_5_up', 'SinceUP',\n",
       "       'SinceDown', 'hour', 'minute', 'up', 'down', 'per_high', 'per_low',\n",
       "       'rolling_3_volume', 'rolling_3_volume_over_max', 'rolling_3_return',\n",
       "       'rolling_3_return_labels', 'rolling_3_seq_down', 'rolling_3_seq_up',\n",
       "       'rolling_7_volume', 'rolling_7_volume_over_max', 'rolling_7_return',\n",
       "       'rolling_7_return_labels', 'rolling_7_seq_down', 'rolling_7_seq_up',\n",
       "       'rolling_10_volume', 'rolling_10_volume_over_max', 'rolling_10_return',\n",
       "       'rolling_10_return_labels', 'rolling_10_seq_down', 'rolling_10_seq_up',\n",
       "       'rolling_20_volume', 'rolling_20_volume_over_max', 'rolling_20_return',\n",
       "       'rolling_20_return_labels', 'rolling_20_seq_down', 'rolling_20_seq_up'],\n",
       "      dtype='object')"
      ]
     },
     "execution_count": 15,
     "metadata": {},
     "output_type": "execute_result"
    }
   ],
   "source": [
    "df.columns"
   ]
  },
  {
   "cell_type": "markdown",
   "metadata": {
    "heading_collapsed": true
   },
   "source": [
    "## Variable Type Selection\n",
    "I'm going to have different groups of continuous and catigorical variables to provide to the model."
   ]
  },
  {
   "cell_type": "markdown",
   "metadata": {
    "hidden": true
   },
   "source": [
    "### All Variables\n",
    "This is all the variables for each type. Not going to start with this though..."
   ]
  },
  {
   "cell_type": "markdown",
   "metadata": {
    "heading_collapsed": true,
    "hidden": true
   },
   "source": [
    "##### Continuous Variables"
   ]
  },
  {
   "cell_type": "code",
   "execution_count": null,
   "metadata": {
    "hidden": true
   },
   "outputs": [],
   "source": [
    "#rolling_3_volume mean\n",
    "#rolling_3_return mean\n",
    "contin_vars = [\n",
    "    'price_open',\n",
    "    'price_high',\n",
    "    'price_low',\n",
    "    'per_high',\n",
    "    'per_low',\n",
    "    'price_close',\n",
    "    'volume',\n",
    "    'close_price_returns',\n",
    "    'DateTime_UTCElapsed',\n",
    "    'rolling_3_volume_over_max',\n",
    "    'rolling_7_volume_over_max',\n",
    "    'rolling_10_volume_over_max',\n",
    "    'rolling_20_volume_over_max',\n",
    "    'rolling_3_return',\n",
    "    'rolling_7_return',\n",
    "    'rolling_10_return',\n",
    "    'rolling_20_return',\n",
    "    'rolling_3_volume',\n",
    "    'rolling_7_volume',\n",
    "    'rolling_10_volume',\n",
    "    'rolling_20_volume']\n",
    "    "
   ]
  },
  {
   "cell_type": "markdown",
   "metadata": {
    "heading_collapsed": true,
    "hidden": true
   },
   "source": [
    "##### Catigorical Variables"
   ]
  },
  {
   "cell_type": "code",
   "execution_count": null,
   "metadata": {
    "hidden": true
   },
   "outputs": [],
   "source": [
    "#rolling_3_return_labels mean rounded int\n",
    "#rolling_3_seq_down sum\n",
    "#rolling_3_seq_up sum\n",
    "cat_vars = ['close_price_returns_labels',\n",
    "    'UP',\n",
    "    'DOWN',\n",
    "    'HOLD',\n",
    "    'up',\n",
    "    'down',\n",
    "    'year',\n",
    "    'month',\n",
    "    'week',\n",
    "    'day',\n",
    "    'hour',\n",
    "    'minute',\n",
    "    'dayofweek',\n",
    "    'dayofyear',\n",
    "    'rolling_3_return_labels',\n",
    "    'rolling_7_return_labels',\n",
    "    'rolling_10_return_labels',\n",
    "    'rolling_20_return_labels',    \n",
    "    'rolling_3_seq_down',\n",
    "    'rolling_7_seq_down',\n",
    "    'rolling_10_seq_down',\n",
    "    'rolling_20_seq_down',\n",
    "    'rolling_3_seq_up',\n",
    "    'rolling_7_seq_up',\n",
    "    'rolling_10_seq_up',\n",
    "    'rolling_20_seq_up']"
   ]
  },
  {
   "cell_type": "markdown",
   "metadata": {
    "heading_collapsed": true,
    "hidden": true
   },
   "source": [
    "##### Undecided on Type"
   ]
  },
  {
   "cell_type": "code",
   "execution_count": null,
   "metadata": {
    "hidden": true
   },
   "outputs": [],
   "source": [
    "undecided_vars = [\n",
    "    'Since_01',\n",
    "    'Since_025',\n",
    "    'Since_05',\n",
    "    'Since_075',\n",
    "    'Since_1',\n",
    "    'Since_2',\n",
    "    'Since_3',\n",
    "    'Since_4',\n",
    "    'Since_5',\n",
    "    'Since_01_down',\n",
    "    'Since_025_down',\n",
    "    'Since_05_down',\n",
    "    'Since_075_down',\n",
    "    'Since_1_down',\n",
    "    'Since_2_down',\n",
    "    'Since_3_down',\n",
    "    'Since_4_down',\n",
    "    'Since_5_down',\n",
    "    'Since_01_up',\n",
    "    'Since_025_up',\n",
    "    'Since_05_up',\n",
    "    'Since_075_up',\n",
    "    'Since_1_up',\n",
    "    'Since_2_up',\n",
    "    'Since_3_up',\n",
    "    'Since_4_up',\n",
    "    'Since_5_up',\n",
    "    'SinceUP',\n",
    "    'SinceDown']"
   ]
  },
  {
   "cell_type": "markdown",
   "metadata": {
    "heading_collapsed": true,
    "hidden": true
   },
   "source": [
    "### Minimal\n",
    "I'm going to start with a small number."
   ]
  },
  {
   "cell_type": "markdown",
   "metadata": {
    "hidden": true
   },
   "source": [
    "##### Continuous Variables"
   ]
  },
  {
   "cell_type": "code",
   "execution_count": 16,
   "metadata": {
    "hidden": true
   },
   "outputs": [],
   "source": [
    "#rolling_3_volume mean\n",
    "#rolling_3_return mean\n",
    "contin_vars = [\n",
    "#     'price_open',\n",
    "#     'price_high',\n",
    "#     'price_low',\n",
    "#     'per_high',\n",
    "#     'per_low',\n",
    "    'price_close',\n",
    "    'volume',\n",
    "    'close_price_returns',\n",
    "    'rolling_3_volume_over_max',\n",
    "#     'rolling_7_volume_over_max',\n",
    "#     'rolling_10_volume_over_max',\n",
    "#     'rolling_20_volume_over_max',\n",
    "#     'rolling_3_return',\n",
    "    'rolling_7_return',\n",
    "#     'rolling_10_return',\n",
    "#     'rolling_20_return',\n",
    "    'rolling_3_volume'\n",
    "#     'rolling_7_volume',\n",
    "#     'rolling_10_volume',\n",
    "#     'rolling_20_volume'\n",
    "]\n",
    "    "
   ]
  },
  {
   "cell_type": "markdown",
   "metadata": {
    "hidden": true
   },
   "source": [
    "##### Catigorical Variables"
   ]
  },
  {
   "cell_type": "code",
   "execution_count": 17,
   "metadata": {
    "hidden": true
   },
   "outputs": [],
   "source": [
    "#rolling_3_return_labels mean rounded int\n",
    "#rolling_3_seq_down sum\n",
    "#rolling_3_seq_up sum\n",
    "cat_vars = [\n",
    "    'close_price_returns_labels',\n",
    "    'UP',\n",
    "    'DOWN',\n",
    "    'HOLD',\n",
    "#     'up',\n",
    "#     'down',\n",
    "    'year',\n",
    "    'month',\n",
    "    'week',\n",
    "    'day',\n",
    "    'hour',\n",
    "    'minute',\n",
    "    'dayofweek',\n",
    "    'dayofyear',\n",
    "#     'rolling_3_return_labels',\n",
    "    'rolling_7_return_labels',\n",
    "#     'rolling_10_return_labels',\n",
    "    'rolling_20_return_labels',    \n",
    "#     'rolling_3_seq_down',\n",
    "#     'rolling_7_seq_down',\n",
    "    'rolling_10_seq_down',\n",
    "#     'rolling_20_seq_down',\n",
    "#     'rolling_3_seq_up',\n",
    "#     'rolling_7_seq_up',\n",
    "    'rolling_10_seq_up'\n",
    "#     'rolling_20_seq_up'\n",
    "]"
   ]
  },
  {
   "cell_type": "markdown",
   "metadata": {
    "hidden": true
   },
   "source": [
    "##### Undecided on Type"
   ]
  },
  {
   "cell_type": "code",
   "execution_count": 18,
   "metadata": {
    "hidden": true
   },
   "outputs": [],
   "source": [
    "undecided_vars = [\n",
    "#     'Since_01',\n",
    "#     'Since_025',\n",
    "#     'Since_05',\n",
    "#     'Since_075',\n",
    "    'Since_1',\n",
    "    'Since_2',\n",
    "    'Since_3',\n",
    "    'Since_4',\n",
    "    'Since_5',\n",
    "    'Since_01_down',\n",
    "    'Since_025_down',\n",
    "    'Since_05_down',\n",
    "    'Since_075_down',\n",
    "#     'Since_1_down',\n",
    "#     'Since_2_down',\n",
    "#     'Since_3_down',\n",
    "#     'Since_4_down',\n",
    "#     'Since_5_down',\n",
    "    'Since_01_up',\n",
    "    'Since_025_up',\n",
    "    'Since_05_up',\n",
    "    'Since_075_up'\n",
    "#     'Since_1_up',\n",
    "#     'Since_2_up',\n",
    "#     'Since_3_up',\n",
    "#     'Since_4_up',\n",
    "#     'Since_5_up',\n",
    "#     'SinceUP',\n",
    "#     'SinceDown'\n",
    "]"
   ]
  },
  {
   "cell_type": "code",
   "execution_count": 19,
   "metadata": {
    "hidden": true
   },
   "outputs": [],
   "source": [
    "contin_vars = contin_vars + ['Since_1', 'Since_2', 'Since_3', 'Since_4', 'Since_5']\n",
    "cat_vars = cat_vars + ['Since_01_down', 'Since_025_down', 'Since_05_down', 'Since_075_down', \n",
    "            'Since_01_up', 'Since_025_up', 'Since_05_up', 'Since_075_up']"
   ]
  },
  {
   "cell_type": "markdown",
   "metadata": {},
   "source": [
    "## Split Test/Train"
   ]
  },
  {
   "cell_type": "code",
   "execution_count": 20,
   "metadata": {},
   "outputs": [
    {
     "data": {
      "text/plain": [
       "261454"
      ]
     },
     "execution_count": 20,
     "metadata": {},
     "output_type": "execute_result"
    }
   ],
   "source": [
    "joined = df_train\n",
    "joined_test = df_test\n",
    "n = len(joined); n"
   ]
  },
  {
   "cell_type": "markdown",
   "metadata": {},
   "source": [
    "## Select Rows"
   ]
  },
  {
   "cell_type": "code",
   "execution_count": 21,
   "metadata": {},
   "outputs": [],
   "source": [
    "dep = 'yret'\n",
    "# dep = 'ylab'\n",
    "joined = joined[cat_vars+contin_vars+[dep, 'date']].copy()"
   ]
  },
  {
   "cell_type": "code",
   "execution_count": 22,
   "metadata": {},
   "outputs": [
    {
     "name": "stderr",
     "output_type": "stream",
     "text": [
      "/home/liam/anaconda3/envs/fastai/lib/python3.6/site-packages/ipykernel_launcher.py:1: SettingWithCopyWarning: \n",
      "A value is trying to be set on a copy of a slice from a DataFrame.\n",
      "Try using .loc[row_indexer,col_indexer] = value instead\n",
      "\n",
      "See the caveats in the documentation: http://pandas.pydata.org/pandas-docs/stable/indexing.html#indexing-view-versus-copy\n",
      "  \"\"\"Entry point for launching an IPython kernel.\n"
     ]
    }
   ],
   "source": [
    "joined_test[dep] = 0\n",
    "joined_test = joined_test[cat_vars+contin_vars+[dep, 'date']].copy()"
   ]
  },
  {
   "cell_type": "code",
   "execution_count": 23,
   "metadata": {},
   "outputs": [],
   "source": [
    "for v in cat_vars: joined[v] = joined[v].astype('category').cat.as_ordered()"
   ]
  },
  {
   "cell_type": "code",
   "execution_count": 24,
   "metadata": {},
   "outputs": [],
   "source": [
    "apply_cats(joined_test, joined)"
   ]
  },
  {
   "cell_type": "code",
   "execution_count": 25,
   "metadata": {},
   "outputs": [],
   "source": [
    "for v in contin_vars:\n",
    "    joined[v] = joined[v].astype('float32')\n",
    "    joined_test[v] = joined_test[v].astype('float32')"
   ]
  },
  {
   "cell_type": "markdown",
   "metadata": {},
   "source": [
    "## Final Data Set"
   ]
  },
  {
   "cell_type": "markdown",
   "metadata": {},
   "source": [
    "### Smaller Sample Set"
   ]
  },
  {
   "cell_type": "markdown",
   "metadata": {},
   "source": [
    "We're going to run on a sample."
   ]
  },
  {
   "cell_type": "code",
   "execution_count": null,
   "metadata": {},
   "outputs": [],
   "source": [
    "idxs = get_cv_idxs(n, val_pct=150000/n)\n",
    "joined_samp = joined.iloc[idxs].set_index(\"date\")\n",
    "samp_size = len(joined_samp); samp_size"
   ]
  },
  {
   "cell_type": "markdown",
   "metadata": {},
   "source": [
    "### Full Data Set"
   ]
  },
  {
   "cell_type": "markdown",
   "metadata": {},
   "source": [
    "To run on the full dataset, use this instead:"
   ]
  },
  {
   "cell_type": "code",
   "execution_count": 26,
   "metadata": {},
   "outputs": [],
   "source": [
    "samp_size = n\n",
    "joined_samp = joined.set_index(\"date\")"
   ]
  },
  {
   "cell_type": "markdown",
   "metadata": {},
   "source": [
    "### Proceed"
   ]
  },
  {
   "cell_type": "markdown",
   "metadata": {},
   "source": [
    "We can now process our data..."
   ]
  },
  {
   "cell_type": "code",
   "execution_count": 27,
   "metadata": {},
   "outputs": [
    {
     "data": {
      "text/html": [
       "<div>\n",
       "<style scoped>\n",
       "    .dataframe tbody tr th:only-of-type {\n",
       "        vertical-align: middle;\n",
       "    }\n",
       "\n",
       "    .dataframe tbody tr th {\n",
       "        vertical-align: top;\n",
       "    }\n",
       "\n",
       "    .dataframe thead th {\n",
       "        text-align: right;\n",
       "    }\n",
       "</style>\n",
       "<table border=\"1\" class=\"dataframe\">\n",
       "  <thead>\n",
       "    <tr style=\"text-align: right;\">\n",
       "      <th></th>\n",
       "      <th>close_price_returns_labels</th>\n",
       "      <th>UP</th>\n",
       "      <th>DOWN</th>\n",
       "      <th>HOLD</th>\n",
       "      <th>year</th>\n",
       "      <th>month</th>\n",
       "      <th>week</th>\n",
       "      <th>day</th>\n",
       "      <th>hour</th>\n",
       "      <th>minute</th>\n",
       "      <th>...</th>\n",
       "      <th>close_price_returns</th>\n",
       "      <th>rolling_3_volume_over_max</th>\n",
       "      <th>rolling_7_return</th>\n",
       "      <th>rolling_3_volume</th>\n",
       "      <th>Since_1</th>\n",
       "      <th>Since_2</th>\n",
       "      <th>Since_3</th>\n",
       "      <th>Since_4</th>\n",
       "      <th>Since_5</th>\n",
       "      <th>yret</th>\n",
       "    </tr>\n",
       "    <tr>\n",
       "      <th>date</th>\n",
       "      <th></th>\n",
       "      <th></th>\n",
       "      <th></th>\n",
       "      <th></th>\n",
       "      <th></th>\n",
       "      <th></th>\n",
       "      <th></th>\n",
       "      <th></th>\n",
       "      <th></th>\n",
       "      <th></th>\n",
       "      <th></th>\n",
       "      <th></th>\n",
       "      <th></th>\n",
       "      <th></th>\n",
       "      <th></th>\n",
       "      <th></th>\n",
       "      <th></th>\n",
       "      <th></th>\n",
       "      <th></th>\n",
       "      <th></th>\n",
       "      <th></th>\n",
       "    </tr>\n",
       "  </thead>\n",
       "  <tbody>\n",
       "    <tr>\n",
       "      <th>2015-01-27 00:00:00</th>\n",
       "      <td>9</td>\n",
       "      <td>1</td>\n",
       "      <td>0</td>\n",
       "      <td>0</td>\n",
       "      <td>2015</td>\n",
       "      <td>1</td>\n",
       "      <td>5</td>\n",
       "      <td>27</td>\n",
       "      <td>0</td>\n",
       "      <td>0</td>\n",
       "      <td>...</td>\n",
       "      <td>0.303228</td>\n",
       "      <td>0.017324</td>\n",
       "      <td>0.188158</td>\n",
       "      <td>15.49213</td>\n",
       "      <td>3.0</td>\n",
       "      <td>24.0</td>\n",
       "      <td>47.0</td>\n",
       "      <td>262.0</td>\n",
       "      <td>262.0</td>\n",
       "      <td>0.068881</td>\n",
       "    </tr>\n",
       "    <tr>\n",
       "      <th>2015-01-27 00:05:00</th>\n",
       "      <td>7</td>\n",
       "      <td>1</td>\n",
       "      <td>0</td>\n",
       "      <td>0</td>\n",
       "      <td>2015</td>\n",
       "      <td>1</td>\n",
       "      <td>5</td>\n",
       "      <td>27</td>\n",
       "      <td>0</td>\n",
       "      <td>5</td>\n",
       "      <td>...</td>\n",
       "      <td>0.068881</td>\n",
       "      <td>0.006181</td>\n",
       "      <td>0.165323</td>\n",
       "      <td>5.52768</td>\n",
       "      <td>4.0</td>\n",
       "      <td>25.0</td>\n",
       "      <td>48.0</td>\n",
       "      <td>263.0</td>\n",
       "      <td>263.0</td>\n",
       "      <td>0.168260</td>\n",
       "    </tr>\n",
       "  </tbody>\n",
       "</table>\n",
       "<p>2 rows × 36 columns</p>\n",
       "</div>"
      ],
      "text/plain": [
       "                    close_price_returns_labels UP DOWN HOLD  year month week  \\\n",
       "date                                                                           \n",
       "2015-01-27 00:00:00                          9  1    0    0  2015     1    5   \n",
       "2015-01-27 00:05:00                          7  1    0    0  2015     1    5   \n",
       "\n",
       "                    day hour minute    ...    close_price_returns  \\\n",
       "date                                   ...                          \n",
       "2015-01-27 00:00:00  27    0      0    ...               0.303228   \n",
       "2015-01-27 00:05:00  27    0      5    ...               0.068881   \n",
       "\n",
       "                    rolling_3_volume_over_max rolling_7_return  \\\n",
       "date                                                             \n",
       "2015-01-27 00:00:00                  0.017324         0.188158   \n",
       "2015-01-27 00:05:00                  0.006181         0.165323   \n",
       "\n",
       "                    rolling_3_volume Since_1 Since_2 Since_3 Since_4 Since_5  \\\n",
       "date                                                                           \n",
       "2015-01-27 00:00:00         15.49213     3.0    24.0    47.0   262.0   262.0   \n",
       "2015-01-27 00:05:00          5.52768     4.0    25.0    48.0   263.0   263.0   \n",
       "\n",
       "                         yret  \n",
       "date                           \n",
       "2015-01-27 00:00:00  0.068881  \n",
       "2015-01-27 00:05:00  0.168260  \n",
       "\n",
       "[2 rows x 36 columns]"
      ]
     },
     "execution_count": 27,
     "metadata": {},
     "output_type": "execute_result"
    }
   ],
   "source": [
    "joined_samp.head(2)"
   ]
  },
  {
   "cell_type": "code",
   "execution_count": 32,
   "metadata": {},
   "outputs": [],
   "source": [
    "df, y, nas, mapper = proc_df(joined_samp, 'yret', do_scale=True)\n",
    "# yl = np.log(y)"
   ]
  },
  {
   "cell_type": "code",
   "execution_count": 33,
   "metadata": {},
   "outputs": [],
   "source": [
    "joined_test = joined_test.set_index(\"date\")"
   ]
  },
  {
   "cell_type": "code",
   "execution_count": 34,
   "metadata": {},
   "outputs": [],
   "source": [
    "df_test, _, nas, mapper = proc_df(joined_test, 'yret', do_scale=True,\n",
    "                                  mapper=mapper, na_dict=nas)"
   ]
  },
  {
   "cell_type": "code",
   "execution_count": 35,
   "metadata": {},
   "outputs": [
    {
     "data": {
      "text/html": [
       "<div>\n",
       "<style scoped>\n",
       "    .dataframe tbody tr th:only-of-type {\n",
       "        vertical-align: middle;\n",
       "    }\n",
       "\n",
       "    .dataframe tbody tr th {\n",
       "        vertical-align: top;\n",
       "    }\n",
       "\n",
       "    .dataframe thead th {\n",
       "        text-align: right;\n",
       "    }\n",
       "</style>\n",
       "<table border=\"1\" class=\"dataframe\">\n",
       "  <thead>\n",
       "    <tr style=\"text-align: right;\">\n",
       "      <th></th>\n",
       "      <th>close_price_returns_labels</th>\n",
       "      <th>UP</th>\n",
       "      <th>DOWN</th>\n",
       "      <th>HOLD</th>\n",
       "      <th>year</th>\n",
       "      <th>month</th>\n",
       "      <th>week</th>\n",
       "      <th>day</th>\n",
       "      <th>hour</th>\n",
       "      <th>minute</th>\n",
       "      <th>...</th>\n",
       "      <th>volume</th>\n",
       "      <th>close_price_returns</th>\n",
       "      <th>rolling_3_volume_over_max</th>\n",
       "      <th>rolling_7_return</th>\n",
       "      <th>rolling_3_volume</th>\n",
       "      <th>Since_1</th>\n",
       "      <th>Since_2</th>\n",
       "      <th>Since_3</th>\n",
       "      <th>Since_4</th>\n",
       "      <th>Since_5</th>\n",
       "    </tr>\n",
       "    <tr>\n",
       "      <th>date</th>\n",
       "      <th></th>\n",
       "      <th></th>\n",
       "      <th></th>\n",
       "      <th></th>\n",
       "      <th></th>\n",
       "      <th></th>\n",
       "      <th></th>\n",
       "      <th></th>\n",
       "      <th></th>\n",
       "      <th></th>\n",
       "      <th></th>\n",
       "      <th></th>\n",
       "      <th></th>\n",
       "      <th></th>\n",
       "      <th></th>\n",
       "      <th></th>\n",
       "      <th></th>\n",
       "      <th></th>\n",
       "      <th></th>\n",
       "      <th></th>\n",
       "      <th></th>\n",
       "    </tr>\n",
       "  </thead>\n",
       "  <tbody>\n",
       "    <tr>\n",
       "      <th>2015-01-27 00:00:00</th>\n",
       "      <td>10</td>\n",
       "      <td>2</td>\n",
       "      <td>1</td>\n",
       "      <td>1</td>\n",
       "      <td>1</td>\n",
       "      <td>1</td>\n",
       "      <td>5</td>\n",
       "      <td>27</td>\n",
       "      <td>1</td>\n",
       "      <td>1</td>\n",
       "      <td>...</td>\n",
       "      <td>-0.375253</td>\n",
       "      <td>1.363810</td>\n",
       "      <td>-0.267573</td>\n",
       "      <td>2.406089</td>\n",
       "      <td>-0.267573</td>\n",
       "      <td>-0.797714</td>\n",
       "      <td>-0.942426</td>\n",
       "      <td>-1.017001</td>\n",
       "      <td>-1.170923</td>\n",
       "      <td>-1.115786</td>\n",
       "    </tr>\n",
       "    <tr>\n",
       "      <th>2015-01-27 00:05:00</th>\n",
       "      <td>8</td>\n",
       "      <td>2</td>\n",
       "      <td>1</td>\n",
       "      <td>1</td>\n",
       "      <td>1</td>\n",
       "      <td>1</td>\n",
       "      <td>5</td>\n",
       "      <td>27</td>\n",
       "      <td>1</td>\n",
       "      <td>2</td>\n",
       "      <td>...</td>\n",
       "      <td>-0.494138</td>\n",
       "      <td>0.305761</td>\n",
       "      <td>-0.463419</td>\n",
       "      <td>2.112272</td>\n",
       "      <td>-0.463419</td>\n",
       "      <td>-0.797142</td>\n",
       "      <td>-0.942231</td>\n",
       "      <td>-1.016916</td>\n",
       "      <td>-1.170857</td>\n",
       "      <td>-1.115757</td>\n",
       "    </tr>\n",
       "  </tbody>\n",
       "</table>\n",
       "<p>2 rows × 35 columns</p>\n",
       "</div>"
      ],
      "text/plain": [
       "                     close_price_returns_labels  UP  DOWN  HOLD  year  month  \\\n",
       "date                                                                           \n",
       "2015-01-27 00:00:00                          10   2     1     1     1      1   \n",
       "2015-01-27 00:05:00                           8   2     1     1     1      1   \n",
       "\n",
       "                     week  day  hour  minute    ...       volume  \\\n",
       "date                                            ...                \n",
       "2015-01-27 00:00:00     5   27     1       1    ...    -0.375253   \n",
       "2015-01-27 00:05:00     5   27     1       2    ...    -0.494138   \n",
       "\n",
       "                     close_price_returns  rolling_3_volume_over_max  \\\n",
       "date                                                                  \n",
       "2015-01-27 00:00:00             1.363810                  -0.267573   \n",
       "2015-01-27 00:05:00             0.305761                  -0.463419   \n",
       "\n",
       "                     rolling_7_return  rolling_3_volume   Since_1   Since_2  \\\n",
       "date                                                                          \n",
       "2015-01-27 00:00:00          2.406089         -0.267573 -0.797714 -0.942426   \n",
       "2015-01-27 00:05:00          2.112272         -0.463419 -0.797142 -0.942231   \n",
       "\n",
       "                      Since_3   Since_4   Since_5  \n",
       "date                                               \n",
       "2015-01-27 00:00:00 -1.017001 -1.170923 -1.115786  \n",
       "2015-01-27 00:05:00 -1.016916 -1.170857 -1.115757  \n",
       "\n",
       "[2 rows x 35 columns]"
      ]
     },
     "execution_count": 35,
     "metadata": {},
     "output_type": "execute_result"
    }
   ],
   "source": [
    "df.head(2)"
   ]
  },
  {
   "cell_type": "markdown",
   "metadata": {},
   "source": [
    "In time series data, cross-validation is not random. Instead, our holdout data is generally the most recent data, as it would be in real application. This issue is discussed in detail in [this post](http://www.fast.ai/2017/11/13/validation-sets/) on our web site.\n",
    "\n",
    "One approach is to take the last 25% of rows (sorted by date) as our validation set."
   ]
  },
  {
   "cell_type": "code",
   "execution_count": 36,
   "metadata": {},
   "outputs": [],
   "source": [
    "train_ratio = 0.75\n",
    "# train_ratio = 0.9\n",
    "train_size = int(samp_size * train_ratio); train_size\n",
    "val_idx = list(range(train_size, len(df)))"
   ]
  },
  {
   "cell_type": "code",
   "execution_count": null,
   "metadata": {},
   "outputs": [],
   "source": [
    "val_idx=[0]"
   ]
  },
  {
   "cell_type": "markdown",
   "metadata": {},
   "source": [
    "## DL"
   ]
  },
  {
   "cell_type": "markdown",
   "metadata": {},
   "source": [
    "We're ready to put together our models.\n",
    "\n",
    "Root-mean-squared percent error is the metric Kaggle used for this competition."
   ]
  },
  {
   "cell_type": "code",
   "execution_count": 40,
   "metadata": {},
   "outputs": [],
   "source": [
    "def inv_y(a): return np.exp(a)\n",
    "\n",
    "def exp_rmspe(y_pred, targ):\n",
    "    targ = inv_y(targ)\n",
    "    pct_var = (targ - inv_y(y_pred))/targ\n",
    "    return math.sqrt((pct_var**2).mean())\n",
    "\n",
    "max_log_y = np.log(np.max(y))\n",
    "y_range = (0, max_log_y*1.2)"
   ]
  },
  {
   "cell_type": "markdown",
   "metadata": {},
   "source": [
    "We can create a ModelData object directly from out data frame."
   ]
  },
  {
   "cell_type": "code",
   "execution_count": 42,
   "metadata": {},
   "outputs": [],
   "source": [
    "md = ColumnarModelData.from_data_frame(PATH, val_idx, df, y.astype(np.float32), cat_flds=cat_vars, bs=128,\n",
    "                                       test_df=df_test)"
   ]
  },
  {
   "cell_type": "markdown",
   "metadata": {},
   "source": [
    "Some categorical variables have a lot more levels than others. Store, in particular, has over a thousand!"
   ]
  },
  {
   "cell_type": "code",
   "execution_count": 43,
   "metadata": {},
   "outputs": [],
   "source": [
    "cat_sz = [(c, len(joined_samp[c].cat.categories)+1) for c in cat_vars]"
   ]
  },
  {
   "cell_type": "code",
   "execution_count": 44,
   "metadata": {
    "scrolled": true
   },
   "outputs": [
    {
     "data": {
      "text/plain": [
       "[('close_price_returns_labels', 11),\n",
       " ('UP', 3),\n",
       " ('DOWN', 3),\n",
       " ('HOLD', 3),\n",
       " ('year', 4),\n",
       " ('month', 13),\n",
       " ('week', 54),\n",
       " ('day', 32),\n",
       " ('hour', 25),\n",
       " ('minute', 13),\n",
       " ('dayofweek', 8),\n",
       " ('dayofyear', 367),\n",
       " ('rolling_7_return_labels', 11),\n",
       " ('rolling_20_return_labels', 9),\n",
       " ('rolling_10_seq_down', 12),\n",
       " ('rolling_10_seq_up', 12),\n",
       " ('Since_01_down', 822),\n",
       " ('Since_025_down', 1649),\n",
       " ('Since_05_down', 6006),\n",
       " ('Since_075_down', 8238),\n",
       " ('Since_01_up', 952),\n",
       " ('Since_025_up', 3143),\n",
       " ('Since_05_up', 7284),\n",
       " ('Since_075_up', 15127)]"
      ]
     },
     "execution_count": 44,
     "metadata": {},
     "output_type": "execute_result"
    }
   ],
   "source": [
    "cat_sz"
   ]
  },
  {
   "cell_type": "markdown",
   "metadata": {},
   "source": [
    "We use the *cardinality* of each variable (that is, its number of unique values) to decide how large to make its *embeddings*. Each level will be associated with a vector with length defined as below."
   ]
  },
  {
   "cell_type": "code",
   "execution_count": 45,
   "metadata": {},
   "outputs": [],
   "source": [
    "emb_szs = [(c, min(50, (c+1)//2)) for _,c in cat_sz]"
   ]
  },
  {
   "cell_type": "code",
   "execution_count": 46,
   "metadata": {
    "scrolled": true
   },
   "outputs": [
    {
     "data": {
      "text/plain": [
       "[(11, 6),\n",
       " (3, 2),\n",
       " (3, 2),\n",
       " (3, 2),\n",
       " (4, 2),\n",
       " (13, 7),\n",
       " (54, 27),\n",
       " (32, 16),\n",
       " (25, 13),\n",
       " (13, 7),\n",
       " (8, 4),\n",
       " (367, 50),\n",
       " (11, 6),\n",
       " (9, 5),\n",
       " (12, 6),\n",
       " (12, 6),\n",
       " (822, 50),\n",
       " (1649, 50),\n",
       " (6006, 50),\n",
       " (8238, 50),\n",
       " (952, 50),\n",
       " (3143, 50),\n",
       " (7284, 50),\n",
       " (15127, 50)]"
      ]
     },
     "execution_count": 46,
     "metadata": {},
     "output_type": "execute_result"
    }
   ],
   "source": [
    "emb_szs"
   ]
  },
  {
   "cell_type": "code",
   "execution_count": 47,
   "metadata": {},
   "outputs": [],
   "source": [
    "m = md.get_learner(emb_szs, len(df.columns)-len(cat_vars),\n",
    "                   0.04, 1, [1000,500], [0.001,0.01], y_range=y_range)\n",
    "lr = 1e-3"
   ]
  },
  {
   "cell_type": "code",
   "execution_count": 48,
   "metadata": {},
   "outputs": [
    {
     "data": {
      "application/vnd.jupyter.widget-view+json": {
       "model_id": "357dc64b7b0c443cb9b020727ce6ca4d",
       "version_major": 2,
       "version_minor": 0
      },
      "text/html": [
       "<p>Failed to display Jupyter Widget of type <code>HBox</code>.</p>\n",
       "<p>\n",
       "  If you're reading this message in the Jupyter Notebook or JupyterLab Notebook, it may mean\n",
       "  that the widgets JavaScript is still loading. If this message persists, it\n",
       "  likely means that the widgets JavaScript library is either not installed or\n",
       "  not enabled. See the <a href=\"https://ipywidgets.readthedocs.io/en/stable/user_install.html\">Jupyter\n",
       "  Widgets Documentation</a> for setup instructions.\n",
       "</p>\n",
       "<p>\n",
       "  If you're reading this message in another frontend (for example, a static\n",
       "  rendering on GitHub or <a href=\"https://nbviewer.jupyter.org/\">NBViewer</a>),\n",
       "  it may mean that your frontend doesn't currently support widgets.\n",
       "</p>\n"
      ],
      "text/plain": [
       "HBox(children=(IntProgress(value=0, description='Epoch', max=1), HTML(value='')))"
      ]
     },
     "metadata": {},
     "output_type": "display_data"
    },
    {
     "name": "stdout",
     "output_type": "stream",
     "text": [
      "epoch      trn_loss   val_loss                                   \n",
      "    0      0.035567   0.089538  \n",
      "\n"
     ]
    }
   ],
   "source": [
    "m.lr_find()"
   ]
  },
  {
   "cell_type": "code",
   "execution_count": 49,
   "metadata": {},
   "outputs": [
    {
     "data": {
      "image/png": "[encoded data removed]",
      "text/plain": [
       "<matplotlib.figure.Figure at 0x7f1f4c1536a0>"
      ]
     },
     "metadata": {},
     "output_type": "display_data"
    }
   ],
   "source": [
    "m.sched.plot(100)"
   ]
  },
  {
   "cell_type": "markdown",
   "metadata": {},
   "source": [
    "### Sample"
   ]
  },
  {
   "cell_type": "code",
   "execution_count": 50,
   "metadata": {},
   "outputs": [],
   "source": [
    "m = md.get_learner(emb_szs, len(df.columns)-len(cat_vars),\n",
    "                   0.04, 1, [1000,500], [0.001,0.01], y_range=y_range)\n",
    "lr = 1e-4"
   ]
  },
  {
   "cell_type": "code",
   "execution_count": 51,
   "metadata": {},
   "outputs": [
    {
     "data": {
      "application/vnd.jupyter.widget-view+json": {
       "model_id": "4a868f3e7b094ed0bfa24a67659f1adf",
       "version_major": 2,
       "version_minor": 0
      },
      "text/html": [
       "<p>Failed to display Jupyter Widget of type <code>HBox</code>.</p>\n",
       "<p>\n",
       "  If you're reading this message in the Jupyter Notebook or JupyterLab Notebook, it may mean\n",
       "  that the widgets JavaScript is still loading. If this message persists, it\n",
       "  likely means that the widgets JavaScript library is either not installed or\n",
       "  not enabled. See the <a href=\"https://ipywidgets.readthedocs.io/en/stable/user_install.html\">Jupyter\n",
       "  Widgets Documentation</a> for setup instructions.\n",
       "</p>\n",
       "<p>\n",
       "  If you're reading this message in another frontend (for example, a static\n",
       "  rendering on GitHub or <a href=\"https://nbviewer.jupyter.org/\">NBViewer</a>),\n",
       "  it may mean that your frontend doesn't currently support widgets.\n",
       "</p>\n"
      ],
      "text/plain": [
       "HBox(children=(IntProgress(value=0, description='Epoch', max=3), HTML(value='')))"
      ]
     },
     "metadata": {},
     "output_type": "display_data"
    },
    {
     "name": "stdout",
     "output_type": "stream",
     "text": [
      "epoch      trn_loss   val_loss   exp_rmspe                       \n",
      "    0      0.03468    0.089598   41977.968577\n",
      "    1      0.033074   0.08954    41890.014941                    \n",
      "    2      0.034743   0.089532   41867.346061                    \n",
      "\n"
     ]
    },
    {
     "data": {
      "text/plain": [
       "[0.08953248, 41867.346060982665]"
      ]
     },
     "execution_count": 51,
     "metadata": {},
     "output_type": "execute_result"
    }
   ],
   "source": [
    "m.fit(lr, 3, metrics=[exp_rmspe])"
   ]
  },
  {
   "cell_type": "code",
   "execution_count": 52,
   "metadata": {},
   "outputs": [
    {
     "data": {
      "application/vnd.jupyter.widget-view+json": {
       "model_id": "bb788b66f844463995bf1da434c1471e",
       "version_major": 2,
       "version_minor": 0
      },
      "text/html": [
       "<p>Failed to display Jupyter Widget of type <code>HBox</code>.</p>\n",
       "<p>\n",
       "  If you're reading this message in the Jupyter Notebook or JupyterLab Notebook, it may mean\n",
       "  that the widgets JavaScript is still loading. If this message persists, it\n",
       "  likely means that the widgets JavaScript library is either not installed or\n",
       "  not enabled. See the <a href=\"https://ipywidgets.readthedocs.io/en/stable/user_install.html\">Jupyter\n",
       "  Widgets Documentation</a> for setup instructions.\n",
       "</p>\n",
       "<p>\n",
       "  If you're reading this message in another frontend (for example, a static\n",
       "  rendering on GitHub or <a href=\"https://nbviewer.jupyter.org/\">NBViewer</a>),\n",
       "  it may mean that your frontend doesn't currently support widgets.\n",
       "</p>\n"
      ],
      "text/plain": [
       "HBox(children=(IntProgress(value=0, description='Epoch', max=5), HTML(value='')))"
      ]
     },
     "metadata": {},
     "output_type": "display_data"
    },
    {
     "name": "stdout",
     "output_type": "stream",
     "text": [
      "epoch      trn_loss   val_loss   exp_rmspe                       \n",
      "    0      0.038806   0.089571   42177.773482\n",
      "    1      0.033995   0.089589   42507.205797                    \n",
      "    2      0.031666   0.090193   42942.505098                    \n",
      "    3      0.035312   0.089948   43157.117566                    \n",
      "    4      0.034578   0.091361   42664.562529                    \n",
      "\n"
     ]
    },
    {
     "data": {
      "text/plain": [
       "[0.09136061, 42664.562528532006]"
      ]
     },
     "execution_count": 52,
     "metadata": {},
     "output_type": "execute_result"
    }
   ],
   "source": [
    "m.fit(lr, 5, metrics=[exp_rmspe], cycle_len=1)"
   ]
  },
  {
   "cell_type": "code",
   "execution_count": 53,
   "metadata": {},
   "outputs": [
    {
     "data": {
      "application/vnd.jupyter.widget-view+json": {
       "model_id": "f33527504672484a8203791d3c160945",
       "version_major": 2,
       "version_minor": 0
      },
      "text/html": [
       "<p>Failed to display Jupyter Widget of type <code>HBox</code>.</p>\n",
       "<p>\n",
       "  If you're reading this message in the Jupyter Notebook or JupyterLab Notebook, it may mean\n",
       "  that the widgets JavaScript is still loading. If this message persists, it\n",
       "  likely means that the widgets JavaScript library is either not installed or\n",
       "  not enabled. See the <a href=\"https://ipywidgets.readthedocs.io/en/stable/user_install.html\">Jupyter\n",
       "  Widgets Documentation</a> for setup instructions.\n",
       "</p>\n",
       "<p>\n",
       "  If you're reading this message in another frontend (for example, a static\n",
       "  rendering on GitHub or <a href=\"https://nbviewer.jupyter.org/\">NBViewer</a>),\n",
       "  it may mean that your frontend doesn't currently support widgets.\n",
       "</p>\n"
      ],
      "text/plain": [
       "HBox(children=(IntProgress(value=0, description='Epoch', max=8), HTML(value='')))"
      ]
     },
     "metadata": {},
     "output_type": "display_data"
    },
    {
     "name": "stdout",
     "output_type": "stream",
     "text": [
      "epoch      trn_loss   val_loss   exp_rmspe                       \n",
      "    0      0.032469   0.092586   42598.641058\n",
      "    1      0.031514   0.097641   42457.912511                    \n",
      "    2      0.031053   0.094542   42575.154794                    \n",
      "    3      0.032682   0.093343   42392.828657                    \n",
      "    4      0.033357   0.093207   42033.789242                    \n",
      "    5      0.032075   0.091124   41973.836636                    \n",
      "    6      0.031017   0.095289   42080.881026                    \n",
      "    7      0.030507   0.095015   42139.443976                    \n",
      "\n"
     ]
    },
    {
     "data": {
      "text/plain": [
       "[0.09501537, 42139.44397644477]"
      ]
     },
     "execution_count": 53,
     "metadata": {},
     "output_type": "execute_result"
    }
   ],
   "source": [
    "m.fit(lr, 2, metrics=[exp_rmspe], cycle_len=4)"
   ]
  },
  {
   "cell_type": "markdown",
   "metadata": {
    "heading_collapsed": true
   },
   "source": [
    "### All"
   ]
  },
  {
   "cell_type": "code",
   "execution_count": null,
   "metadata": {
    "hidden": true
   },
   "outputs": [],
   "source": [
    "m = md.get_learner(emb_szs, len(df.columns)-len(cat_vars),\n",
    "                   0.04, 1, [1000,500], [0.001,0.01], y_range=y_range)\n",
    "lr = 1e-3"
   ]
  },
  {
   "cell_type": "code",
   "execution_count": null,
   "metadata": {
    "hidden": true
   },
   "outputs": [],
   "source": [
    "m.fit(lr, 1, metrics=[exp_rmspe])"
   ]
  },
  {
   "cell_type": "code",
   "execution_count": null,
   "metadata": {
    "hidden": true
   },
   "outputs": [],
   "source": [
    "m.fit(lr, 3, metrics=[exp_rmspe])"
   ]
  },
  {
   "cell_type": "code",
   "execution_count": null,
   "metadata": {
    "hidden": true
   },
   "outputs": [],
   "source": [
    "m.fit(lr, 3, metrics=[exp_rmspe], cycle_len=1)"
   ]
  },
  {
   "cell_type": "markdown",
   "metadata": {},
   "source": [
    "### Test"
   ]
  },
  {
   "cell_type": "code",
   "execution_count": 54,
   "metadata": {},
   "outputs": [],
   "source": [
    "m = md.get_learner(emb_szs, len(df.columns)-len(cat_vars),\n",
    "                   0.04, 1, [1000,500], [0.001,0.01], y_range=y_range)\n",
    "lr = 1e-4"
   ]
  },
  {
   "cell_type": "code",
   "execution_count": 55,
   "metadata": {},
   "outputs": [
    {
     "data": {
      "application/vnd.jupyter.widget-view+json": {
       "model_id": "4697fc025e54492e91bfd14f7aa963cd",
       "version_major": 2,
       "version_minor": 0
      },
      "text/html": [
       "<p>Failed to display Jupyter Widget of type <code>HBox</code>.</p>\n",
       "<p>\n",
       "  If you're reading this message in the Jupyter Notebook or JupyterLab Notebook, it may mean\n",
       "  that the widgets JavaScript is still loading. If this message persists, it\n",
       "  likely means that the widgets JavaScript library is either not installed or\n",
       "  not enabled. See the <a href=\"https://ipywidgets.readthedocs.io/en/stable/user_install.html\">Jupyter\n",
       "  Widgets Documentation</a> for setup instructions.\n",
       "</p>\n",
       "<p>\n",
       "  If you're reading this message in another frontend (for example, a static\n",
       "  rendering on GitHub or <a href=\"https://nbviewer.jupyter.org/\">NBViewer</a>),\n",
       "  it may mean that your frontend doesn't currently support widgets.\n",
       "</p>\n"
      ],
      "text/plain": [
       "HBox(children=(IntProgress(value=0, description='Epoch', max=3), HTML(value='')))"
      ]
     },
     "metadata": {},
     "output_type": "display_data"
    },
    {
     "name": "stdout",
     "output_type": "stream",
     "text": [
      "epoch      trn_loss   val_loss   exp_rmspe                       \n",
      "    0      0.034438   0.089539   41837.34625\n",
      "    1      0.033087   0.089534   41823.419549                    \n",
      "    2      0.034712   0.089533   41820.123084                    \n",
      "\n"
     ]
    },
    {
     "data": {
      "text/plain": [
       "[0.08953349, 41820.123084002]"
      ]
     },
     "execution_count": 55,
     "metadata": {},
     "output_type": "execute_result"
    }
   ],
   "source": [
    "m.fit(lr, 3, metrics=[exp_rmspe])"
   ]
  },
  {
   "cell_type": "code",
   "execution_count": 56,
   "metadata": {},
   "outputs": [
    {
     "data": {
      "application/vnd.jupyter.widget-view+json": {
       "model_id": "8ed7fad89a61449a9c58324f58cd40f2",
       "version_major": 2,
       "version_minor": 0
      },
      "text/html": [
       "<p>Failed to display Jupyter Widget of type <code>HBox</code>.</p>\n",
       "<p>\n",
       "  If you're reading this message in the Jupyter Notebook or JupyterLab Notebook, it may mean\n",
       "  that the widgets JavaScript is still loading. If this message persists, it\n",
       "  likely means that the widgets JavaScript library is either not installed or\n",
       "  not enabled. See the <a href=\"https://ipywidgets.readthedocs.io/en/stable/user_install.html\">Jupyter\n",
       "  Widgets Documentation</a> for setup instructions.\n",
       "</p>\n",
       "<p>\n",
       "  If you're reading this message in another frontend (for example, a static\n",
       "  rendering on GitHub or <a href=\"https://nbviewer.jupyter.org/\">NBViewer</a>),\n",
       "  it may mean that your frontend doesn't currently support widgets.\n",
       "</p>\n"
      ],
      "text/plain": [
       "HBox(children=(IntProgress(value=0, description='Epoch', max=3), HTML(value='')))"
      ]
     },
     "metadata": {},
     "output_type": "display_data"
    },
    {
     "name": "stdout",
     "output_type": "stream",
     "text": [
      "epoch      trn_loss   val_loss   exp_rmspe                       \n",
      "    0      0.03092    0.089521   41818.43225\n",
      "    1      0.033512   0.089539   41924.277754                    \n",
      "    2      0.033862   0.089472   42001.675392                    \n",
      "\n"
     ]
    },
    {
     "data": {
      "text/plain": [
       "[0.08947235, 42001.675391563316]"
      ]
     },
     "execution_count": 56,
     "metadata": {},
     "output_type": "execute_result"
    }
   ],
   "source": [
    "m.fit(lr, 3, metrics=[exp_rmspe], cycle_len=1)"
   ]
  },
  {
   "cell_type": "code",
   "execution_count": 57,
   "metadata": {},
   "outputs": [],
   "source": [
    "m.save('val0')"
   ]
  },
  {
   "cell_type": "code",
   "execution_count": 58,
   "metadata": {},
   "outputs": [],
   "source": [
    "m.load('val0')"
   ]
  },
  {
   "cell_type": "code",
   "execution_count": 59,
   "metadata": {},
   "outputs": [],
   "source": [
    "x,y=m.predict_with_targs()"
   ]
  },
  {
   "cell_type": "code",
   "execution_count": 60,
   "metadata": {},
   "outputs": [
    {
     "data": {
      "text/plain": [
       "672900.4679326654"
      ]
     },
     "execution_count": 60,
     "metadata": {},
     "output_type": "execute_result"
    }
   ],
   "source": [
    "exp_rmspe(x,y)"
   ]
  },
  {
   "cell_type": "code",
   "execution_count": 61,
   "metadata": {},
   "outputs": [],
   "source": [
    "pred_test=m.predict(True)"
   ]
  },
  {
   "cell_type": "code",
   "execution_count": 62,
   "metadata": {},
   "outputs": [],
   "source": [
    "pred_test = np.exp(pred_test)"
   ]
  },
  {
   "cell_type": "code",
   "execution_count": 65,
   "metadata": {},
   "outputs": [],
   "source": [
    "joined_test['yret']=pred_test"
   ]
  },
  {
   "cell_type": "code",
   "execution_count": 66,
   "metadata": {},
   "outputs": [],
   "source": [
    "csv_fn=f'{PATH}tmp/sub.csv'"
   ]
  },
  {
   "cell_type": "code",
   "execution_count": 67,
   "metadata": {},
   "outputs": [],
   "source": [
    "joined_test.to_csv(csv_fn, index=False)"
   ]
  },
  {
   "cell_type": "code",
   "execution_count": 68,
   "metadata": {},
   "outputs": [
    {
     "data": {
      "text/html": [
       "<a href='data/btc/tmp/sub.csv' target='_blank'>data/btc/tmp/sub.csv</a><br>"
      ],
      "text/plain": [
       "/home/liam/crypto-project/fast-crypto-ai/data/btc/tmp/sub.csv"
      ]
     },
     "execution_count": 68,
     "metadata": {},
     "output_type": "execute_result"
    }
   ],
   "source": [
    "FileLink(csv_fn)"
   ]
  },
  {
   "cell_type": "markdown",
   "metadata": {},
   "source": [
    "## RF"
   ]
  },
  {
   "cell_type": "code",
   "execution_count": null,
   "metadata": {},
   "outputs": [],
   "source": [
    "from sklearn.ensemble import RandomForestRegressor"
   ]
  },
  {
   "cell_type": "code",
   "execution_count": null,
   "metadata": {},
   "outputs": [],
   "source": [
    "((val,trn), (y_val,y_trn)) = split_by_idx(val_idx, df.values, yl)"
   ]
  },
  {
   "cell_type": "code",
   "execution_count": null,
   "metadata": {},
   "outputs": [],
   "source": [
    "m = RandomForestRegressor(n_estimators=40, max_features=0.99, min_samples_leaf=2,\n",
    "                          n_jobs=-1, oob_score=True)\n",
    "m.fit(trn, y_trn);"
   ]
  },
  {
   "cell_type": "code",
   "execution_count": null,
   "metadata": {},
   "outputs": [],
   "source": [
    "preds = m.predict(val)\n",
    "m.score(trn, y_trn), m.score(val, y_val), m.oob_score_, exp_rmspe(preds, y_val)"
   ]
  },
  {
   "cell_type": "code",
   "execution_count": null,
   "metadata": {},
   "outputs": [],
   "source": []
  }
 ],
 "metadata": {
  "anaconda-cloud": {},
  "kernelspec": {
   "display_name": "Python 3",
   "language": "python",
   "name": "python3"
  },
  "language_info": {
   "codemirror_mode": {
    "name": "ipython",
    "version": 3
   },
   "file_extension": ".py",
   "mimetype": "text/x-python",
   "name": "python",
   "nbconvert_exporter": "python",
   "pygments_lexer": "ipython3",
   "version": "3.6.4"
  },
  "toc": {
   "colors": {
    "hover_highlight": "#DAA520",
    "navigate_num": "#000000",
    "navigate_text": "#333333",
    "running_highlight": "#FF0000",
    "selected_highlight": "#FFD700",
    "sidebar_border": "#EEEEEE",
    "wrapper_background": "#FFFFFF"
   },
   "moveMenuLeft": true,
   "nav_menu": {
    "height": "173px",
    "width": "251px"
   },
   "navigate_menu": true,
   "number_sections": true,
   "sideBar": true,
   "threshold": 4,
   "toc_cell": false,
   "toc_section_display": "block",
   "toc_window_display": false,
   "widenNotebook": false
  }
 },
 "nbformat": 4,
 "nbformat_minor": 2
}
